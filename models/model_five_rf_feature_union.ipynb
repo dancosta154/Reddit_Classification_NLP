{
 "cells": [
  {
   "cell_type": "markdown",
   "id": "78d55533-a824-409c-badc-ec212932494b",
   "metadata": {},
   "source": [
    "## Notebook Description\n",
    "### Model Five\n",
    "This notebook is dedicated to my fifth model, which uses data from `engineered_data` folder. The model runs the `title_merge` column through the `CountVectorize`, then using a `FeatureUnion` joins the Feature Engineered columns before running the entire dataframe through a `Random Forest` model. Resulting in an Accuracy Score of 0.922. This is my second best model and used in the presentation."
   ]
  },
  {
   "cell_type": "code",
   "execution_count": 48,
   "id": "35559589-2f7f-46d2-8915-0a5396a4bdeb",
   "metadata": {},
   "outputs": [],
   "source": [
    "# imports\n",
    "import pandas as pd\n",
    "import numpy as np\n",
    "import matplotlib.pyplot as plt\n",
    "from sklearn.ensemble import RandomForestClassifier, ExtraTreesClassifier\n",
    "from sklearn.model_selection import train_test_split, GridSearchCV\n",
    "from sklearn.pipeline import Pipeline, FeatureUnion\n",
    "from sklearn.feature_extraction.text import CountVectorizer\n",
    "from sklearn.metrics import plot_confusion_matrix, confusion_matrix, ConfusionMatrixDisplay, RocCurveDisplay\n",
    "import sklearn.metrics as metrics\n",
    "from sklearn.metrics import classification_report\n",
    "from sklearn.metrics import plot_roc_curve\n",
    "from sklearn.preprocessing import FunctionTransformer"
   ]
  },
  {
   "cell_type": "code",
   "execution_count": 49,
   "id": "206f5352-842c-4ffc-9dea-46c252d74a08",
   "metadata": {},
   "outputs": [
    {
     "data": {
      "text/html": [
       "<div>\n",
       "<style scoped>\n",
       "    .dataframe tbody tr th:only-of-type {\n",
       "        vertical-align: middle;\n",
       "    }\n",
       "\n",
       "    .dataframe tbody tr th {\n",
       "        vertical-align: top;\n",
       "    }\n",
       "\n",
       "    .dataframe thead th {\n",
       "        text-align: right;\n",
       "    }\n",
       "</style>\n",
       "<table border=\"1\" class=\"dataframe\">\n",
       "  <thead>\n",
       "    <tr style=\"text-align: right;\">\n",
       "      <th></th>\n",
       "      <th>subreddit</th>\n",
       "      <th>created_utc</th>\n",
       "      <th>title_merge</th>\n",
       "      <th>title_sentiment_neg</th>\n",
       "      <th>title_sentiment_neu</th>\n",
       "      <th>title_sentiment_pos</th>\n",
       "      <th>title_sentiment_compound</th>\n",
       "      <th>title_length</th>\n",
       "      <th>title_word_count</th>\n",
       "      <th>capitalized_letters_in_title</th>\n",
       "      <th>sentences_in_title</th>\n",
       "    </tr>\n",
       "  </thead>\n",
       "  <tbody>\n",
       "    <tr>\n",
       "      <th>0</th>\n",
       "      <td>backpacking</td>\n",
       "      <td>1646011972</td>\n",
       "      <td>Where to backpack 4 nights in Utah, Arizona, o...</td>\n",
       "      <td>0.000</td>\n",
       "      <td>0.804</td>\n",
       "      <td>0.196</td>\n",
       "      <td>0.9127</td>\n",
       "      <td>315</td>\n",
       "      <td>60</td>\n",
       "      <td>16</td>\n",
       "      <td>4</td>\n",
       "    </tr>\n",
       "    <tr>\n",
       "      <th>1</th>\n",
       "      <td>backpacking</td>\n",
       "      <td>1646007041</td>\n",
       "      <td>Peace Walls, Belfast</td>\n",
       "      <td>0.000</td>\n",
       "      <td>0.364</td>\n",
       "      <td>0.636</td>\n",
       "      <td>0.5423</td>\n",
       "      <td>21</td>\n",
       "      <td>4</td>\n",
       "      <td>3</td>\n",
       "      <td>0</td>\n",
       "    </tr>\n",
       "    <tr>\n",
       "      <th>2</th>\n",
       "      <td>backpacking</td>\n",
       "      <td>1646005307</td>\n",
       "      <td>How To Mount Snowshoes On Osprey Talon 22 Back...</td>\n",
       "      <td>0.000</td>\n",
       "      <td>0.760</td>\n",
       "      <td>0.240</td>\n",
       "      <td>0.9282</td>\n",
       "      <td>247</td>\n",
       "      <td>45</td>\n",
       "      <td>11</td>\n",
       "      <td>5</td>\n",
       "    </tr>\n",
       "    <tr>\n",
       "      <th>3</th>\n",
       "      <td>backpacking</td>\n",
       "      <td>1646004876</td>\n",
       "      <td>Bringing dog to Kearsarge pass? [removed]</td>\n",
       "      <td>0.000</td>\n",
       "      <td>1.000</td>\n",
       "      <td>0.000</td>\n",
       "      <td>0.0000</td>\n",
       "      <td>41</td>\n",
       "      <td>6</td>\n",
       "      <td>2</td>\n",
       "      <td>1</td>\n",
       "    </tr>\n",
       "    <tr>\n",
       "      <th>4</th>\n",
       "      <td>backpacking</td>\n",
       "      <td>1646000495</td>\n",
       "      <td>Mid 30s short trip to Thailand - Bangkok &amp;amp;...</td>\n",
       "      <td>0.024</td>\n",
       "      <td>0.787</td>\n",
       "      <td>0.189</td>\n",
       "      <td>0.9786</td>\n",
       "      <td>839</td>\n",
       "      <td>162</td>\n",
       "      <td>32</td>\n",
       "      <td>11</td>\n",
       "    </tr>\n",
       "  </tbody>\n",
       "</table>\n",
       "</div>"
      ],
      "text/plain": [
       "     subreddit  created_utc  \\\n",
       "0  backpacking   1646011972   \n",
       "1  backpacking   1646007041   \n",
       "2  backpacking   1646005307   \n",
       "3  backpacking   1646004876   \n",
       "4  backpacking   1646000495   \n",
       "\n",
       "                                         title_merge  title_sentiment_neg  \\\n",
       "0  Where to backpack 4 nights in Utah, Arizona, o...                0.000   \n",
       "1                              Peace Walls, Belfast                 0.000   \n",
       "2  How To Mount Snowshoes On Osprey Talon 22 Back...                0.000   \n",
       "3          Bringing dog to Kearsarge pass? [removed]                0.000   \n",
       "4  Mid 30s short trip to Thailand - Bangkok &amp;...                0.024   \n",
       "\n",
       "   title_sentiment_neu  title_sentiment_pos  title_sentiment_compound  \\\n",
       "0                0.804                0.196                    0.9127   \n",
       "1                0.364                0.636                    0.5423   \n",
       "2                0.760                0.240                    0.9282   \n",
       "3                1.000                0.000                    0.0000   \n",
       "4                0.787                0.189                    0.9786   \n",
       "\n",
       "   title_length  title_word_count  capitalized_letters_in_title  \\\n",
       "0           315                60                            16   \n",
       "1            21                 4                             3   \n",
       "2           247                45                            11   \n",
       "3            41                 6                             2   \n",
       "4           839               162                            32   \n",
       "\n",
       "   sentences_in_title  \n",
       "0                   4  \n",
       "1                   0  \n",
       "2                   5  \n",
       "3                   1  \n",
       "4                  11  "
      ]
     },
     "execution_count": 49,
     "metadata": {},
     "output_type": "execute_result"
    }
   ],
   "source": [
    "df = pd.read_csv('../engineered_data/engineered_data_merged_columns.csv')\n",
    "df.head()"
   ]
  },
  {
   "cell_type": "markdown",
   "id": "c033cd6c-0b7a-4122-b8d2-223ac856f1ce",
   "metadata": {},
   "source": [
    "#### Baseline Model"
   ]
  },
  {
   "cell_type": "code",
   "execution_count": 50,
   "id": "63968fc0-1e4c-45af-994b-7c1630d515af",
   "metadata": {},
   "outputs": [
    {
     "data": {
      "text/plain": [
       "ultrarunning    0.500125\n",
       "backpacking     0.499875\n",
       "Name: subreddit, dtype: float64"
      ]
     },
     "execution_count": 50,
     "metadata": {},
     "output_type": "execute_result"
    }
   ],
   "source": [
    "# Baseline model\n",
    "# Need my model to be better than .50\n",
    "\n",
    "df['subreddit'].value_counts(normalize=True)"
   ]
  },
  {
   "cell_type": "markdown",
   "id": "66acdc98-05a2-4b80-b34c-72011a4d7911",
   "metadata": {},
   "source": [
    "#### Set Up Target Variable"
   ]
  },
  {
   "cell_type": "code",
   "execution_count": 51,
   "id": "b4fbcc4b-90cc-4cef-8e6b-87cf77be09ec",
   "metadata": {},
   "outputs": [
    {
     "data": {
      "text/html": [
       "<div>\n",
       "<style scoped>\n",
       "    .dataframe tbody tr th:only-of-type {\n",
       "        vertical-align: middle;\n",
       "    }\n",
       "\n",
       "    .dataframe tbody tr th {\n",
       "        vertical-align: top;\n",
       "    }\n",
       "\n",
       "    .dataframe thead th {\n",
       "        text-align: right;\n",
       "    }\n",
       "</style>\n",
       "<table border=\"1\" class=\"dataframe\">\n",
       "  <thead>\n",
       "    <tr style=\"text-align: right;\">\n",
       "      <th></th>\n",
       "      <th>subreddit</th>\n",
       "      <th>created_utc</th>\n",
       "      <th>title_merge</th>\n",
       "      <th>title_sentiment_neg</th>\n",
       "      <th>title_sentiment_neu</th>\n",
       "      <th>title_sentiment_pos</th>\n",
       "      <th>title_sentiment_compound</th>\n",
       "      <th>title_length</th>\n",
       "      <th>title_word_count</th>\n",
       "      <th>capitalized_letters_in_title</th>\n",
       "      <th>sentences_in_title</th>\n",
       "    </tr>\n",
       "  </thead>\n",
       "  <tbody>\n",
       "    <tr>\n",
       "      <th>0</th>\n",
       "      <td>1</td>\n",
       "      <td>1646011972</td>\n",
       "      <td>Where to backpack 4 nights in Utah, Arizona, o...</td>\n",
       "      <td>0.000</td>\n",
       "      <td>0.804</td>\n",
       "      <td>0.196</td>\n",
       "      <td>0.9127</td>\n",
       "      <td>315</td>\n",
       "      <td>60</td>\n",
       "      <td>16</td>\n",
       "      <td>4</td>\n",
       "    </tr>\n",
       "    <tr>\n",
       "      <th>1</th>\n",
       "      <td>1</td>\n",
       "      <td>1646007041</td>\n",
       "      <td>Peace Walls, Belfast</td>\n",
       "      <td>0.000</td>\n",
       "      <td>0.364</td>\n",
       "      <td>0.636</td>\n",
       "      <td>0.5423</td>\n",
       "      <td>21</td>\n",
       "      <td>4</td>\n",
       "      <td>3</td>\n",
       "      <td>0</td>\n",
       "    </tr>\n",
       "    <tr>\n",
       "      <th>2</th>\n",
       "      <td>1</td>\n",
       "      <td>1646005307</td>\n",
       "      <td>How To Mount Snowshoes On Osprey Talon 22 Back...</td>\n",
       "      <td>0.000</td>\n",
       "      <td>0.760</td>\n",
       "      <td>0.240</td>\n",
       "      <td>0.9282</td>\n",
       "      <td>247</td>\n",
       "      <td>45</td>\n",
       "      <td>11</td>\n",
       "      <td>5</td>\n",
       "    </tr>\n",
       "    <tr>\n",
       "      <th>3</th>\n",
       "      <td>1</td>\n",
       "      <td>1646004876</td>\n",
       "      <td>Bringing dog to Kearsarge pass? [removed]</td>\n",
       "      <td>0.000</td>\n",
       "      <td>1.000</td>\n",
       "      <td>0.000</td>\n",
       "      <td>0.0000</td>\n",
       "      <td>41</td>\n",
       "      <td>6</td>\n",
       "      <td>2</td>\n",
       "      <td>1</td>\n",
       "    </tr>\n",
       "    <tr>\n",
       "      <th>4</th>\n",
       "      <td>1</td>\n",
       "      <td>1646000495</td>\n",
       "      <td>Mid 30s short trip to Thailand - Bangkok &amp;amp;...</td>\n",
       "      <td>0.024</td>\n",
       "      <td>0.787</td>\n",
       "      <td>0.189</td>\n",
       "      <td>0.9786</td>\n",
       "      <td>839</td>\n",
       "      <td>162</td>\n",
       "      <td>32</td>\n",
       "      <td>11</td>\n",
       "    </tr>\n",
       "  </tbody>\n",
       "</table>\n",
       "</div>"
      ],
      "text/plain": [
       "   subreddit  created_utc                                        title_merge  \\\n",
       "0          1   1646011972  Where to backpack 4 nights in Utah, Arizona, o...   \n",
       "1          1   1646007041                              Peace Walls, Belfast    \n",
       "2          1   1646005307  How To Mount Snowshoes On Osprey Talon 22 Back...   \n",
       "3          1   1646004876          Bringing dog to Kearsarge pass? [removed]   \n",
       "4          1   1646000495  Mid 30s short trip to Thailand - Bangkok &amp;...   \n",
       "\n",
       "   title_sentiment_neg  title_sentiment_neu  title_sentiment_pos  \\\n",
       "0                0.000                0.804                0.196   \n",
       "1                0.000                0.364                0.636   \n",
       "2                0.000                0.760                0.240   \n",
       "3                0.000                1.000                0.000   \n",
       "4                0.024                0.787                0.189   \n",
       "\n",
       "   title_sentiment_compound  title_length  title_word_count  \\\n",
       "0                    0.9127           315                60   \n",
       "1                    0.5423            21                 4   \n",
       "2                    0.9282           247                45   \n",
       "3                    0.0000            41                 6   \n",
       "4                    0.9786           839               162   \n",
       "\n",
       "   capitalized_letters_in_title  sentences_in_title  \n",
       "0                            16                   4  \n",
       "1                             3                   0  \n",
       "2                            11                   5  \n",
       "3                             2                   1  \n",
       "4                            32                  11  "
      ]
     },
     "execution_count": 51,
     "metadata": {},
     "output_type": "execute_result"
    }
   ],
   "source": [
    "df['subreddit'] = df['subreddit'].replace({'ultrarunning': 0, 'backpacking': 1})\n",
    "df.head()"
   ]
  },
  {
   "cell_type": "code",
   "execution_count": 52,
   "id": "3d08d1d2-844b-4e22-acf7-a67a70e295e0",
   "metadata": {},
   "outputs": [],
   "source": [
    "# Create X and Y for Random Forest\n",
    "\n",
    "X = df.drop(columns=['subreddit'])\n",
    "y = df['subreddit']"
   ]
  },
  {
   "cell_type": "code",
   "execution_count": 53,
   "id": "e84c4cc9-e261-4d2b-9a9f-fae3be1f79ab",
   "metadata": {},
   "outputs": [],
   "source": [
    "# Train/Test/Split\n",
    "X_train, X_test, y_train, y_test = train_test_split(X, y, random_state=42)"
   ]
  },
  {
   "cell_type": "markdown",
   "id": "83e96f03-4b62-4f9b-97ad-6857e13c958e",
   "metadata": {
    "tags": []
   },
   "source": [
    "### Using Feature Union to utilize Feature Engineered columns in Pipeline\n",
    "\n",
    "The following steps allow for `CountVectorizing` the `title_merge` column, while also passing in the feature engineered columns to the `Random Forest` model. Ultimately, a nested pipeline allows for this. Indexing into this nested relationship to tune hyperparameters can be seen with strings such as `feats__vect_pipe__vect__binary` in the `params_grid` dictionary"
   ]
  },
  {
   "cell_type": "code",
   "execution_count": 54,
   "id": "bd781427-8b2a-48c4-8bed-e8fa3fce3b44",
   "metadata": {},
   "outputs": [],
   "source": [
    "def get_title(df):\n",
    "    return df['title_merge']\n",
    "\n",
    "get_title_transformer = FunctionTransformer(get_title, validate=False)"
   ]
  },
  {
   "cell_type": "code",
   "execution_count": 55,
   "id": "033035c1-765e-4fd4-b847-1a72426bcf1b",
   "metadata": {},
   "outputs": [],
   "source": [
    "def get_other_columns(df):\n",
    "    return df[['title_sentiment_compound', 'title_length', 'title_word_count',\n",
    "           'capitalized_letters_in_title', 'sentences_in_title']]\n",
    "\n",
    "get_columns_transformer = FunctionTransformer(get_other_columns, validate=False)"
   ]
  },
  {
   "cell_type": "code",
   "execution_count": 56,
   "id": "3849d62d-c052-49d5-8dae-d6b8b92961b0",
   "metadata": {
    "tags": []
   },
   "outputs": [],
   "source": [
    "pipe_cv = Pipeline([\n",
    "    ('title_transform', get_title_transformer),\n",
    "    ('vect', CountVectorizer())\n",
    "])"
   ]
  },
  {
   "cell_type": "code",
   "execution_count": 57,
   "id": "a1191f21-d716-4006-b046-0651c441a142",
   "metadata": {},
   "outputs": [],
   "source": [
    "pipe_model = Pipeline([\n",
    "    ('feats', FeatureUnion([\n",
    "        ('vect_pipe', pipe_cv),\n",
    "        ('other_cols', get_columns_transformer)\n",
    "    ])),\n",
    "    ('rf', RandomForestClassifier())\n",
    "])"
   ]
  },
  {
   "cell_type": "code",
   "execution_count": 58,
   "id": "eb68bef3-b1f7-48b6-a7cd-2a172342e5b1",
   "metadata": {
    "tags": []
   },
   "outputs": [
    {
     "name": "stdout",
     "output_type": "stream",
     "text": [
      "Fitting 5 folds for each of 96 candidates, totalling 480 fits\n",
      "0.9149721758486367\n"
     ]
    },
    {
     "data": {
      "text/plain": [
       "{'feats__vect_pipe__vect__binary': False,\n",
       " 'rf__max_depth': None,\n",
       " 'rf__max_features': 'auto',\n",
       " 'rf__n_estimators': 125}"
      ]
     },
     "execution_count": 58,
     "metadata": {},
     "output_type": "execute_result"
    }
   ],
   "source": [
    "param_grid = {\n",
    "    'feats__vect_pipe__vect__binary': [True, False],\n",
    "    'rf__n_estimators': [75, 100, 125],\n",
    "    'rf__max_depth': [None, 3, 4, 5],\n",
    "    'rf__max_features': ['auto', 3, 4, 5]\n",
    "}\n",
    "gs = GridSearchCV(pipe_model,\n",
    "                  param_grid=param_grid,\n",
    "                  verbose=1,\n",
    "                  scoring='accuracy'\n",
    "                 )\n",
    "gs.fit(X_train, y_train)\n",
    "print(gs.best_score_)\n",
    "gs.best_params_"
   ]
  },
  {
   "cell_type": "markdown",
   "id": "8df7eb24-4705-452a-8aa4-931b9b6ef185",
   "metadata": {},
   "source": [
    "### Evaluations"
   ]
  },
  {
   "cell_type": "code",
   "execution_count": 59,
   "id": "182723aa-aa0e-4d8e-a4d6-4500430b850f",
   "metadata": {},
   "outputs": [
    {
     "data": {
      "text/plain": [
       "1.0"
      ]
     },
     "execution_count": 59,
     "metadata": {},
     "output_type": "execute_result"
    }
   ],
   "source": [
    "gs.score(X_train, y_train)"
   ]
  },
  {
   "cell_type": "code",
   "execution_count": 60,
   "id": "8ebb6b44-f1bf-4d4c-a82e-f5ea3c1fa0dc",
   "metadata": {},
   "outputs": [
    {
     "data": {
      "text/plain": [
       "0.907"
      ]
     },
     "execution_count": 60,
     "metadata": {},
     "output_type": "execute_result"
    }
   ],
   "source": [
    "gs.score(X_test, y_test)"
   ]
  },
  {
   "cell_type": "markdown",
   "id": "a1e699c6-2630-4f0d-9c6e-35b1dc2aae5e",
   "metadata": {},
   "source": [
    "#### Predictions"
   ]
  },
  {
   "cell_type": "code",
   "execution_count": 61,
   "id": "8266eb2f-ca45-4d56-be11-ec4f13b27eac",
   "metadata": {},
   "outputs": [
    {
     "data": {
      "text/plain": [
       "array([0, 0, 1, 0, 0, 0, 1, 1, 1, 0])"
      ]
     },
     "execution_count": 61,
     "metadata": {},
     "output_type": "execute_result"
    }
   ],
   "source": [
    "preds = gs.predict(X_test)\n",
    "preds[:10]"
   ]
  },
  {
   "cell_type": "markdown",
   "id": "d4ac2d95-ec56-4f7c-957a-3fb991cd01b0",
   "metadata": {},
   "source": [
    "#### Model Evaluation"
   ]
  },
  {
   "cell_type": "code",
   "execution_count": 62,
   "id": "d48430d0-fc42-4a3c-8284-af344ff7b0c3",
   "metadata": {},
   "outputs": [
    {
     "data": {
      "image/png": "[encoded data removed]",
      "text/plain": [
       "<Figure size 432x288 with 2 Axes>"
      ]
     },
     "metadata": {
      "needs_background": "light"
     },
     "output_type": "display_data"
    }
   ],
   "source": [
    "plot_confusion_matrix(gs, X_test, y_test, cmap='terrain', display_labels=['Ultrarunning', 'Backpacking'])\n",
    "plt.savefig(\"../graphics/model_five_rf_confusion_matrix.jpg\", bbox_inches=\"tight\", dpi=100); #save as jpg"
   ]
  },
  {
   "cell_type": "code",
   "execution_count": 63,
   "id": "1386a7b0-e12c-49e5-8296-3e6f3a3bc7ae",
   "metadata": {},
   "outputs": [
    {
     "name": "stdout",
     "output_type": "stream",
     "text": [
      "TN = 423\n",
      "FP = 58\n",
      "FN = 35\n",
      "TP = 484\n"
     ]
    }
   ],
   "source": [
    "from sklearn.metrics import confusion_matrix\n",
    "tn, fp, fn, tp = confusion_matrix(y_test, preds).ravel()\n",
    "\n",
    "print(f'TN = {tn}')\n",
    "print(f'FP = {fp}')\n",
    "print(f'FN = {fn}')\n",
    "print(f'TP = {tp}')"
   ]
  },
  {
   "cell_type": "code",
   "execution_count": 64,
   "id": "c2619d8b-02ab-4b30-a39f-08c55d239d4a",
   "metadata": {},
   "outputs": [
    {
     "data": {
      "text/plain": [
       "0.907"
      ]
     },
     "execution_count": 64,
     "metadata": {},
     "output_type": "execute_result"
    }
   ],
   "source": [
    "metrics.accuracy_score(y_test, preds)"
   ]
  },
  {
   "cell_type": "code",
   "execution_count": 65,
   "id": "9ad5ae3d-6700-4641-86c7-9dd2dcee515a",
   "metadata": {},
   "outputs": [
    {
     "name": "stdout",
     "output_type": "stream",
     "text": [
      "              precision    recall  f1-score   support\n",
      "\n",
      "           0       0.92      0.88      0.90       481\n",
      "           1       0.89      0.93      0.91       519\n",
      "\n",
      "    accuracy                           0.91      1000\n",
      "   macro avg       0.91      0.91      0.91      1000\n",
      "weighted avg       0.91      0.91      0.91      1000\n",
      "\n"
     ]
    }
   ],
   "source": [
    "print(classification_report(y_test, preds))"
   ]
  },
  {
   "cell_type": "code",
   "execution_count": 66,
   "id": "c479975e-8714-458c-9320-4ffa501333e7",
   "metadata": {},
   "outputs": [
    {
     "data": {
      "image/png": "[encoded data removed]",
      "text/plain": [
       "<Figure size 432x288 with 1 Axes>"
      ]
     },
     "metadata": {
      "needs_background": "light"
     },
     "output_type": "display_data"
    }
   ],
   "source": [
    "plot_roc_curve(gs, X_test, y_test)\n",
    "plt.savefig(\"../graphics/model_five_rf_roc_curve.jpg\", bbox_inches=\"tight\", dpi=100); #save as jpg;"
   ]
  },
  {
   "cell_type": "markdown",
   "id": "5a7fe18f-8015-4db9-b64b-1d6cbf766c18",
   "metadata": {
    "tags": []
   },
   "source": [
    "### Coefficients"
   ]
  },
  {
   "cell_type": "code",
   "execution_count": 67,
   "id": "b2100e09-a2fd-4c17-9014-a8fe1768f30c",
   "metadata": {},
   "outputs": [],
   "source": [
    "coef = gs.best_estimator_._final_estimator.feature_importances_ # get coefficients\n",
    "features = gs.best_estimator_.named_steps['feats'].transformer_list[0][1].named_steps['vect'].get_feature_names() #get feature names\n",
    "zipped = zip(coef, features) #zip them together\n",
    "lst = list(zipped) #turn zip object into a list\n",
    "coef_df = pd.DataFrame(lst) # turn list into a df"
   ]
  },
  {
   "cell_type": "code",
   "execution_count": 68,
   "id": "b56df05d-4f7e-4938-a9d2-e25e7499946e",
   "metadata": {},
   "outputs": [
    {
     "data": {
      "text/html": [
       "<div>\n",
       "<style scoped>\n",
       "    .dataframe tbody tr th:only-of-type {\n",
       "        vertical-align: middle;\n",
       "    }\n",
       "\n",
       "    .dataframe tbody tr th {\n",
       "        vertical-align: top;\n",
       "    }\n",
       "\n",
       "    .dataframe thead th {\n",
       "        text-align: right;\n",
       "    }\n",
       "</style>\n",
       "<table border=\"1\" class=\"dataframe\">\n",
       "  <thead>\n",
       "    <tr style=\"text-align: right;\">\n",
       "      <th></th>\n",
       "      <th>0</th>\n",
       "      <th>1</th>\n",
       "    </tr>\n",
       "  </thead>\n",
       "  <tbody>\n",
       "    <tr>\n",
       "      <th>11418</th>\n",
       "      <td>0.037035</td>\n",
       "      <td>running</td>\n",
       "    </tr>\n",
       "    <tr>\n",
       "      <th>11405</th>\n",
       "      <td>0.024550</td>\n",
       "      <td>run</td>\n",
       "    </tr>\n",
       "    <tr>\n",
       "      <th>2156</th>\n",
       "      <td>0.022007</td>\n",
       "      <td>backpacking</td>\n",
       "    </tr>\n",
       "    <tr>\n",
       "      <th>13866</th>\n",
       "      <td>0.021372</td>\n",
       "      <td>ultra</td>\n",
       "    </tr>\n",
       "    <tr>\n",
       "      <th>13592</th>\n",
       "      <td>0.015926</td>\n",
       "      <td>training</td>\n",
       "    </tr>\n",
       "    <tr>\n",
       "      <th>10661</th>\n",
       "      <td>0.015761</td>\n",
       "      <td>race</td>\n",
       "    </tr>\n",
       "    <tr>\n",
       "      <th>13721</th>\n",
       "      <td>0.008907</td>\n",
       "      <td>trip</td>\n",
       "    </tr>\n",
       "    <tr>\n",
       "      <th>882</th>\n",
       "      <td>0.008601</td>\n",
       "      <td>50</td>\n",
       "    </tr>\n",
       "    <tr>\n",
       "      <th>895</th>\n",
       "      <td>0.008327</td>\n",
       "      <td>50k</td>\n",
       "    </tr>\n",
       "    <tr>\n",
       "      <th>8644</th>\n",
       "      <td>0.006804</td>\n",
       "      <td>mile</td>\n",
       "    </tr>\n",
       "  </tbody>\n",
       "</table>\n",
       "</div>"
      ],
      "text/plain": [
       "              0            1\n",
       "11418  0.037035      running\n",
       "11405  0.024550          run\n",
       "2156   0.022007  backpacking\n",
       "13866  0.021372        ultra\n",
       "13592  0.015926     training\n",
       "10661  0.015761         race\n",
       "13721  0.008907         trip\n",
       "882    0.008601           50\n",
       "895    0.008327          50k\n",
       "8644   0.006804         mile"
      ]
     },
     "execution_count": 68,
     "metadata": {},
     "output_type": "execute_result"
    }
   ],
   "source": [
    "coef_df.sort_values(by=0, ascending=False).head(10)"
   ]
  },
  {
   "cell_type": "code",
   "execution_count": 69,
   "id": "de356d57-200a-485a-8b89-749468815e83",
   "metadata": {},
   "outputs": [
    {
     "data": {
      "text/html": [
       "<div>\n",
       "<style scoped>\n",
       "    .dataframe tbody tr th:only-of-type {\n",
       "        vertical-align: middle;\n",
       "    }\n",
       "\n",
       "    .dataframe tbody tr th {\n",
       "        vertical-align: top;\n",
       "    }\n",
       "\n",
       "    .dataframe thead th {\n",
       "        text-align: right;\n",
       "    }\n",
       "</style>\n",
       "<table border=\"1\" class=\"dataframe\">\n",
       "  <thead>\n",
       "    <tr style=\"text-align: right;\">\n",
       "      <th></th>\n",
       "      <th>0</th>\n",
       "      <th>1</th>\n",
       "    </tr>\n",
       "  </thead>\n",
       "  <tbody>\n",
       "    <tr>\n",
       "      <th>8644</th>\n",
       "      <td>0.006804</td>\n",
       "      <td>mile</td>\n",
       "    </tr>\n",
       "    <tr>\n",
       "      <th>895</th>\n",
       "      <td>0.008327</td>\n",
       "      <td>50k</td>\n",
       "    </tr>\n",
       "    <tr>\n",
       "      <th>882</th>\n",
       "      <td>0.008601</td>\n",
       "      <td>50</td>\n",
       "    </tr>\n",
       "    <tr>\n",
       "      <th>13721</th>\n",
       "      <td>0.008907</td>\n",
       "      <td>trip</td>\n",
       "    </tr>\n",
       "    <tr>\n",
       "      <th>10661</th>\n",
       "      <td>0.015761</td>\n",
       "      <td>race</td>\n",
       "    </tr>\n",
       "    <tr>\n",
       "      <th>13592</th>\n",
       "      <td>0.015926</td>\n",
       "      <td>training</td>\n",
       "    </tr>\n",
       "    <tr>\n",
       "      <th>13866</th>\n",
       "      <td>0.021372</td>\n",
       "      <td>ultra</td>\n",
       "    </tr>\n",
       "    <tr>\n",
       "      <th>2156</th>\n",
       "      <td>0.022007</td>\n",
       "      <td>backpacking</td>\n",
       "    </tr>\n",
       "    <tr>\n",
       "      <th>11405</th>\n",
       "      <td>0.024550</td>\n",
       "      <td>run</td>\n",
       "    </tr>\n",
       "    <tr>\n",
       "      <th>11418</th>\n",
       "      <td>0.037035</td>\n",
       "      <td>running</td>\n",
       "    </tr>\n",
       "  </tbody>\n",
       "</table>\n",
       "</div>"
      ],
      "text/plain": [
       "              0            1\n",
       "8644   0.006804         mile\n",
       "895    0.008327          50k\n",
       "882    0.008601           50\n",
       "13721  0.008907         trip\n",
       "10661  0.015761         race\n",
       "13592  0.015926     training\n",
       "13866  0.021372        ultra\n",
       "2156   0.022007  backpacking\n",
       "11405  0.024550          run\n",
       "11418  0.037035      running"
      ]
     },
     "execution_count": 69,
     "metadata": {},
     "output_type": "execute_result"
    }
   ],
   "source": [
    "top_ten_pos_class = coef_df.sort_values(by=0, ascending=True).tail(10)\n",
    "top_ten_pos_class"
   ]
  },
  {
   "cell_type": "code",
   "execution_count": 70,
   "id": "4bb4f5b4-123e-44f7-8abf-a467826c2640",
   "metadata": {},
   "outputs": [
    {
     "data": {
      "image/png": "[encoded data removed]",
      "text/plain": [
       "<Figure size 864x432 with 1 Axes>"
      ]
     },
     "metadata": {
      "needs_background": "light"
     },
     "output_type": "display_data"
    }
   ],
   "source": [
    "plt.figure(figsize=(12,6))\n",
    "best_pred_sust = top_ten_pos_class.sort_values(by=0, ascending=False).head(15)\n",
    "best_pred_sust = top_ten_pos_class.sort_values(by=0, ascending=True).tail(15)\n",
    "x = best_pred_sust[1]\n",
    "y = best_pred_sust[0]\n",
    "plt.barh(x,y, color ='lightgreen')\n",
    "plt.xlabel('Coefficient', fontdict= {'fontsize':14})\n",
    "plt.ylabel('Most Impactful Words', fontdict= {'fontsize':14})\n",
    "plt.title('Best Predictors For Backpacking Subreddit', fontdict = {'fontsize':16})\n",
    "plt.tight_layout()\n",
    "plt.savefig(\"../graphics/model_five_rf_Top10_backpacking_coef.jpg\", bbox_inches=\"tight\", dpi=100); #save as jpg;"
   ]
  },
  {
   "cell_type": "code",
   "execution_count": 71,
   "id": "bfbd7f63-42af-457d-a425-7821155b9d78",
   "metadata": {},
   "outputs": [
    {
     "data": {
      "text/html": [
       "<div>\n",
       "<style scoped>\n",
       "    .dataframe tbody tr th:only-of-type {\n",
       "        vertical-align: middle;\n",
       "    }\n",
       "\n",
       "    .dataframe tbody tr th {\n",
       "        vertical-align: top;\n",
       "    }\n",
       "\n",
       "    .dataframe thead th {\n",
       "        text-align: right;\n",
       "    }\n",
       "</style>\n",
       "<table border=\"1\" class=\"dataframe\">\n",
       "  <thead>\n",
       "    <tr style=\"text-align: right;\">\n",
       "      <th></th>\n",
       "      <th>0</th>\n",
       "      <th>1</th>\n",
       "    </tr>\n",
       "  </thead>\n",
       "  <tbody>\n",
       "    <tr>\n",
       "      <th>11418</th>\n",
       "      <td>0.037035</td>\n",
       "      <td>running</td>\n",
       "    </tr>\n",
       "    <tr>\n",
       "      <th>11405</th>\n",
       "      <td>0.024550</td>\n",
       "      <td>run</td>\n",
       "    </tr>\n",
       "    <tr>\n",
       "      <th>2156</th>\n",
       "      <td>0.022007</td>\n",
       "      <td>backpacking</td>\n",
       "    </tr>\n",
       "    <tr>\n",
       "      <th>13866</th>\n",
       "      <td>0.021372</td>\n",
       "      <td>ultra</td>\n",
       "    </tr>\n",
       "    <tr>\n",
       "      <th>13592</th>\n",
       "      <td>0.015926</td>\n",
       "      <td>training</td>\n",
       "    </tr>\n",
       "    <tr>\n",
       "      <th>10661</th>\n",
       "      <td>0.015761</td>\n",
       "      <td>race</td>\n",
       "    </tr>\n",
       "    <tr>\n",
       "      <th>13721</th>\n",
       "      <td>0.008907</td>\n",
       "      <td>trip</td>\n",
       "    </tr>\n",
       "    <tr>\n",
       "      <th>882</th>\n",
       "      <td>0.008601</td>\n",
       "      <td>50</td>\n",
       "    </tr>\n",
       "    <tr>\n",
       "      <th>895</th>\n",
       "      <td>0.008327</td>\n",
       "      <td>50k</td>\n",
       "    </tr>\n",
       "    <tr>\n",
       "      <th>8644</th>\n",
       "      <td>0.006804</td>\n",
       "      <td>mile</td>\n",
       "    </tr>\n",
       "  </tbody>\n",
       "</table>\n",
       "</div>"
      ],
      "text/plain": [
       "              0            1\n",
       "11418  0.037035      running\n",
       "11405  0.024550          run\n",
       "2156   0.022007  backpacking\n",
       "13866  0.021372        ultra\n",
       "13592  0.015926     training\n",
       "10661  0.015761         race\n",
       "13721  0.008907         trip\n",
       "882    0.008601           50\n",
       "895    0.008327          50k\n",
       "8644   0.006804         mile"
      ]
     },
     "execution_count": 71,
     "metadata": {},
     "output_type": "execute_result"
    }
   ],
   "source": [
    "top_ten_neg_class = coef_df.sort_values(by=0, ascending=False).head(10)\n",
    "top_ten_neg_class"
   ]
  },
  {
   "cell_type": "code",
   "execution_count": 72,
   "id": "b6cc179e-7af0-4e12-9fc6-9233032c95d8",
   "metadata": {},
   "outputs": [
    {
     "data": {
      "image/png": "[encoded data removed]",
      "text/plain": [
       "<Figure size 864x432 with 1 Axes>"
      ]
     },
     "metadata": {
      "needs_background": "light"
     },
     "output_type": "display_data"
    }
   ],
   "source": [
    "plt.figure(figsize=(12,6))\n",
    "best_pred_sust = top_ten_neg_class.sort_values(by=0, ascending=False).head(15)\n",
    "best_pred_sust = top_ten_neg_class.sort_values(by=0, ascending=True).tail(15)\n",
    "x = best_pred_sust[1]\n",
    "y = best_pred_sust[0]\n",
    "plt.barh(x,y, color ='lightgreen')\n",
    "plt.xlabel('Coefficient', fontdict= {'fontsize':14})\n",
    "plt.ylabel('Most Impactful Words', fontdict= {'fontsize':14})\n",
    "plt.title('Best Predictors For Backpacking Subreddit', fontdict = {'fontsize':16})\n",
    "plt.tight_layout()\n",
    "plt.savefig(\"../graphics/model_five_rf_Top10_ultrarunning_coef.jpg\", bbox_inches=\"tight\", dpi=100); #save as jpg;"
   ]
  },
  {
   "cell_type": "markdown",
   "id": "5f05bf06-1799-4d70-a305-1b8c28014734",
   "metadata": {
    "tags": []
   },
   "source": [
    "### Analyzing Misclassified Predictions"
   ]
  },
  {
   "cell_type": "code",
   "execution_count": 73,
   "id": "1b301652-8e33-42a4-ae89-60945f55655c",
   "metadata": {},
   "outputs": [],
   "source": [
    "misclassified = X_test[y_test != preds]\n",
    "\n",
    "misclass_subreddit = pd.merge(misclassified, df['subreddit'], left_index=True, right_index=True)"
   ]
  },
  {
   "cell_type": "code",
   "execution_count": 74,
   "id": "36b7cff0-097e-44bb-b483-def992ef254d",
   "metadata": {},
   "outputs": [
    {
     "data": {
      "image/png": "[encoded data removed]",
      "text/plain": [
       "<Figure size 1440x864 with 12 Axes>"
      ]
     },
     "metadata": {
      "needs_background": "light"
     },
     "output_type": "display_data"
    }
   ],
   "source": [
    "# Looking at the distribution of posts by feature from the Ultrarunning subreddit that were misclassified\n",
    "\n",
    "ultrarunning_misclassified = misclass_subreddit[misclass_subreddit['subreddit'] == 0]\n",
    "ultrarunning_misclassified.hist(figsize=(20,12));"
   ]
  },
  {
   "cell_type": "code",
   "execution_count": 75,
   "id": "2d3a6385-dfaa-4a42-aad9-9111d740f88b",
   "metadata": {},
   "outputs": [
    {
     "data": {
      "image/png": "[encoded data removed]",
      "text/plain": [
       "<Figure size 1440x864 with 12 Axes>"
      ]
     },
     "metadata": {
      "needs_background": "light"
     },
     "output_type": "display_data"
    }
   ],
   "source": [
    "# Looking at the distribution of posts by feature from the Backpacking subreddit that were misclassified\n",
    "\n",
    "backpacking_misclassified = misclass_subreddit[misclass_subreddit['subreddit'] == 1]\n",
    "backpacking_misclassified.hist(figsize=(20,12));"
   ]
  },
  {
   "cell_type": "code",
   "execution_count": null,
   "id": "8b84c04a-848a-424a-9a6e-54b8ed114a45",
   "metadata": {},
   "outputs": [],
   "source": []
  }
 ],
 "metadata": {
  "kernelspec": {
   "display_name": "Python 3 (ipykernel)",
   "language": "python",
   "name": "python3"
  },
  "language_info": {
   "codemirror_mode": {
    "name": "ipython",
    "version": 3
   },
   "file_extension": ".py",
   "mimetype": "text/x-python",
   "name": "python",
   "nbconvert_exporter": "python",
   "pygments_lexer": "ipython3",
   "version": "3.9.7"
  }
 },
 "nbformat": 4,
 "nbformat_minor": 5
}
