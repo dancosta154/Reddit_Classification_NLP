{
 "cells": [
  {
   "cell_type": "markdown",
   "id": "78d55533-a824-409c-badc-ec212932494b",
   "metadata": {},
   "source": [
    "## Notebook Description\n",
    "### Model Four\n",
    "This notebook is dedicated to my fourth model, which uses data from `engineered_data` folder. The model runs the `title_merge` column through the `CountVectorize`, before running through a `Random Forest` model. Resulting in an Accuracy Score of 0.919"
   ]
  },
  {
   "cell_type": "code",
   "execution_count": 25,
   "id": "35559589-2f7f-46d2-8915-0a5396a4bdeb",
   "metadata": {},
   "outputs": [],
   "source": [
    "# imports\n",
    "import pandas as pd\n",
    "import numpy as np\n",
    "import matplotlib.pyplot as plt\n",
    "from sklearn.ensemble import RandomForestClassifier, ExtraTreesClassifier\n",
    "from sklearn.model_selection import train_test_split, GridSearchCV\n",
    "from sklearn.pipeline import Pipeline, FeatureUnion\n",
    "from sklearn.feature_extraction.text import CountVectorizer\n",
    "from sklearn.metrics import plot_confusion_matrix, confusion_matrix, ConfusionMatrixDisplay, RocCurveDisplay\n",
    "import sklearn.metrics as metrics\n",
    "from sklearn.metrics import classification_report\n",
    "from sklearn.metrics import plot_roc_curve"
   ]
  },
  {
   "cell_type": "code",
   "execution_count": 26,
   "id": "206f5352-842c-4ffc-9dea-46c252d74a08",
   "metadata": {},
   "outputs": [
    {
     "data": {
      "text/html": [
       "<div>\n",
       "<style scoped>\n",
       "    .dataframe tbody tr th:only-of-type {\n",
       "        vertical-align: middle;\n",
       "    }\n",
       "\n",
       "    .dataframe tbody tr th {\n",
       "        vertical-align: top;\n",
       "    }\n",
       "\n",
       "    .dataframe thead th {\n",
       "        text-align: right;\n",
       "    }\n",
       "</style>\n",
       "<table border=\"1\" class=\"dataframe\">\n",
       "  <thead>\n",
       "    <tr style=\"text-align: right;\">\n",
       "      <th></th>\n",
       "      <th>subreddit</th>\n",
       "      <th>created_utc</th>\n",
       "      <th>title_merge</th>\n",
       "      <th>title_sentiment_neg</th>\n",
       "      <th>title_sentiment_neu</th>\n",
       "      <th>title_sentiment_pos</th>\n",
       "      <th>title_sentiment_compound</th>\n",
       "      <th>title_length</th>\n",
       "      <th>title_word_count</th>\n",
       "      <th>capitalized_letters_in_title</th>\n",
       "      <th>sentences_in_title</th>\n",
       "    </tr>\n",
       "  </thead>\n",
       "  <tbody>\n",
       "    <tr>\n",
       "      <th>0</th>\n",
       "      <td>backpacking</td>\n",
       "      <td>1646011972</td>\n",
       "      <td>Where to backpack 4 nights in Utah, Arizona, o...</td>\n",
       "      <td>0.000</td>\n",
       "      <td>0.804</td>\n",
       "      <td>0.196</td>\n",
       "      <td>0.9127</td>\n",
       "      <td>315</td>\n",
       "      <td>60</td>\n",
       "      <td>16</td>\n",
       "      <td>4</td>\n",
       "    </tr>\n",
       "    <tr>\n",
       "      <th>1</th>\n",
       "      <td>backpacking</td>\n",
       "      <td>1646007041</td>\n",
       "      <td>Peace Walls, Belfast</td>\n",
       "      <td>0.000</td>\n",
       "      <td>0.364</td>\n",
       "      <td>0.636</td>\n",
       "      <td>0.5423</td>\n",
       "      <td>21</td>\n",
       "      <td>4</td>\n",
       "      <td>3</td>\n",
       "      <td>0</td>\n",
       "    </tr>\n",
       "    <tr>\n",
       "      <th>2</th>\n",
       "      <td>backpacking</td>\n",
       "      <td>1646005307</td>\n",
       "      <td>How To Mount Snowshoes On Osprey Talon 22 Back...</td>\n",
       "      <td>0.000</td>\n",
       "      <td>0.760</td>\n",
       "      <td>0.240</td>\n",
       "      <td>0.9282</td>\n",
       "      <td>247</td>\n",
       "      <td>45</td>\n",
       "      <td>11</td>\n",
       "      <td>5</td>\n",
       "    </tr>\n",
       "    <tr>\n",
       "      <th>3</th>\n",
       "      <td>backpacking</td>\n",
       "      <td>1646004876</td>\n",
       "      <td>Bringing dog to Kearsarge pass? [removed]</td>\n",
       "      <td>0.000</td>\n",
       "      <td>1.000</td>\n",
       "      <td>0.000</td>\n",
       "      <td>0.0000</td>\n",
       "      <td>41</td>\n",
       "      <td>6</td>\n",
       "      <td>2</td>\n",
       "      <td>1</td>\n",
       "    </tr>\n",
       "    <tr>\n",
       "      <th>4</th>\n",
       "      <td>backpacking</td>\n",
       "      <td>1646000495</td>\n",
       "      <td>Mid 30s short trip to Thailand - Bangkok &amp;amp;...</td>\n",
       "      <td>0.024</td>\n",
       "      <td>0.787</td>\n",
       "      <td>0.189</td>\n",
       "      <td>0.9786</td>\n",
       "      <td>839</td>\n",
       "      <td>162</td>\n",
       "      <td>32</td>\n",
       "      <td>11</td>\n",
       "    </tr>\n",
       "  </tbody>\n",
       "</table>\n",
       "</div>"
      ],
      "text/plain": [
       "     subreddit  created_utc  \\\n",
       "0  backpacking   1646011972   \n",
       "1  backpacking   1646007041   \n",
       "2  backpacking   1646005307   \n",
       "3  backpacking   1646004876   \n",
       "4  backpacking   1646000495   \n",
       "\n",
       "                                         title_merge  title_sentiment_neg  \\\n",
       "0  Where to backpack 4 nights in Utah, Arizona, o...                0.000   \n",
       "1                              Peace Walls, Belfast                 0.000   \n",
       "2  How To Mount Snowshoes On Osprey Talon 22 Back...                0.000   \n",
       "3          Bringing dog to Kearsarge pass? [removed]                0.000   \n",
       "4  Mid 30s short trip to Thailand - Bangkok &amp;...                0.024   \n",
       "\n",
       "   title_sentiment_neu  title_sentiment_pos  title_sentiment_compound  \\\n",
       "0                0.804                0.196                    0.9127   \n",
       "1                0.364                0.636                    0.5423   \n",
       "2                0.760                0.240                    0.9282   \n",
       "3                1.000                0.000                    0.0000   \n",
       "4                0.787                0.189                    0.9786   \n",
       "\n",
       "   title_length  title_word_count  capitalized_letters_in_title  \\\n",
       "0           315                60                            16   \n",
       "1            21                 4                             3   \n",
       "2           247                45                            11   \n",
       "3            41                 6                             2   \n",
       "4           839               162                            32   \n",
       "\n",
       "   sentences_in_title  \n",
       "0                   4  \n",
       "1                   0  \n",
       "2                   5  \n",
       "3                   1  \n",
       "4                  11  "
      ]
     },
     "execution_count": 26,
     "metadata": {},
     "output_type": "execute_result"
    }
   ],
   "source": [
    "# This file path SHOULD throw an error, but I can't get it to and I have no clue why! Other models use this exact file, and are stored in this same folder,\n",
    "# and use a different file path. If I try `../engineered_data...` here, it will throw an error - no clue why!\n",
    "\n",
    "df = pd.read_csv('../engineered_data/engineered_data_merged_columns.csv')\n",
    "df.head()"
   ]
  },
  {
   "cell_type": "markdown",
   "id": "c033cd6c-0b7a-4122-b8d2-223ac856f1ce",
   "metadata": {},
   "source": [
    "#### Baseline Model"
   ]
  },
  {
   "cell_type": "code",
   "execution_count": 27,
   "id": "63968fc0-1e4c-45af-994b-7c1630d515af",
   "metadata": {},
   "outputs": [
    {
     "data": {
      "text/plain": [
       "ultrarunning    0.500125\n",
       "backpacking     0.499875\n",
       "Name: subreddit, dtype: float64"
      ]
     },
     "execution_count": 27,
     "metadata": {},
     "output_type": "execute_result"
    }
   ],
   "source": [
    "# Baseline model\n",
    "# Need my model to be better than .50\n",
    "\n",
    "df['subreddit'].value_counts(normalize=True)"
   ]
  },
  {
   "cell_type": "markdown",
   "id": "66acdc98-05a2-4b80-b34c-72011a4d7911",
   "metadata": {},
   "source": [
    "#### Set Up Target Variable"
   ]
  },
  {
   "cell_type": "code",
   "execution_count": 28,
   "id": "b4fbcc4b-90cc-4cef-8e6b-87cf77be09ec",
   "metadata": {},
   "outputs": [
    {
     "data": {
      "text/html": [
       "<div>\n",
       "<style scoped>\n",
       "    .dataframe tbody tr th:only-of-type {\n",
       "        vertical-align: middle;\n",
       "    }\n",
       "\n",
       "    .dataframe tbody tr th {\n",
       "        vertical-align: top;\n",
       "    }\n",
       "\n",
       "    .dataframe thead th {\n",
       "        text-align: right;\n",
       "    }\n",
       "</style>\n",
       "<table border=\"1\" class=\"dataframe\">\n",
       "  <thead>\n",
       "    <tr style=\"text-align: right;\">\n",
       "      <th></th>\n",
       "      <th>subreddit</th>\n",
       "      <th>created_utc</th>\n",
       "      <th>title_merge</th>\n",
       "      <th>title_sentiment_neg</th>\n",
       "      <th>title_sentiment_neu</th>\n",
       "      <th>title_sentiment_pos</th>\n",
       "      <th>title_sentiment_compound</th>\n",
       "      <th>title_length</th>\n",
       "      <th>title_word_count</th>\n",
       "      <th>capitalized_letters_in_title</th>\n",
       "      <th>sentences_in_title</th>\n",
       "    </tr>\n",
       "  </thead>\n",
       "  <tbody>\n",
       "    <tr>\n",
       "      <th>0</th>\n",
       "      <td>1</td>\n",
       "      <td>1646011972</td>\n",
       "      <td>Where to backpack 4 nights in Utah, Arizona, o...</td>\n",
       "      <td>0.000</td>\n",
       "      <td>0.804</td>\n",
       "      <td>0.196</td>\n",
       "      <td>0.9127</td>\n",
       "      <td>315</td>\n",
       "      <td>60</td>\n",
       "      <td>16</td>\n",
       "      <td>4</td>\n",
       "    </tr>\n",
       "    <tr>\n",
       "      <th>1</th>\n",
       "      <td>1</td>\n",
       "      <td>1646007041</td>\n",
       "      <td>Peace Walls, Belfast</td>\n",
       "      <td>0.000</td>\n",
       "      <td>0.364</td>\n",
       "      <td>0.636</td>\n",
       "      <td>0.5423</td>\n",
       "      <td>21</td>\n",
       "      <td>4</td>\n",
       "      <td>3</td>\n",
       "      <td>0</td>\n",
       "    </tr>\n",
       "    <tr>\n",
       "      <th>2</th>\n",
       "      <td>1</td>\n",
       "      <td>1646005307</td>\n",
       "      <td>How To Mount Snowshoes On Osprey Talon 22 Back...</td>\n",
       "      <td>0.000</td>\n",
       "      <td>0.760</td>\n",
       "      <td>0.240</td>\n",
       "      <td>0.9282</td>\n",
       "      <td>247</td>\n",
       "      <td>45</td>\n",
       "      <td>11</td>\n",
       "      <td>5</td>\n",
       "    </tr>\n",
       "    <tr>\n",
       "      <th>3</th>\n",
       "      <td>1</td>\n",
       "      <td>1646004876</td>\n",
       "      <td>Bringing dog to Kearsarge pass? [removed]</td>\n",
       "      <td>0.000</td>\n",
       "      <td>1.000</td>\n",
       "      <td>0.000</td>\n",
       "      <td>0.0000</td>\n",
       "      <td>41</td>\n",
       "      <td>6</td>\n",
       "      <td>2</td>\n",
       "      <td>1</td>\n",
       "    </tr>\n",
       "    <tr>\n",
       "      <th>4</th>\n",
       "      <td>1</td>\n",
       "      <td>1646000495</td>\n",
       "      <td>Mid 30s short trip to Thailand - Bangkok &amp;amp;...</td>\n",
       "      <td>0.024</td>\n",
       "      <td>0.787</td>\n",
       "      <td>0.189</td>\n",
       "      <td>0.9786</td>\n",
       "      <td>839</td>\n",
       "      <td>162</td>\n",
       "      <td>32</td>\n",
       "      <td>11</td>\n",
       "    </tr>\n",
       "  </tbody>\n",
       "</table>\n",
       "</div>"
      ],
      "text/plain": [
       "   subreddit  created_utc                                        title_merge  \\\n",
       "0          1   1646011972  Where to backpack 4 nights in Utah, Arizona, o...   \n",
       "1          1   1646007041                              Peace Walls, Belfast    \n",
       "2          1   1646005307  How To Mount Snowshoes On Osprey Talon 22 Back...   \n",
       "3          1   1646004876          Bringing dog to Kearsarge pass? [removed]   \n",
       "4          1   1646000495  Mid 30s short trip to Thailand - Bangkok &amp;...   \n",
       "\n",
       "   title_sentiment_neg  title_sentiment_neu  title_sentiment_pos  \\\n",
       "0                0.000                0.804                0.196   \n",
       "1                0.000                0.364                0.636   \n",
       "2                0.000                0.760                0.240   \n",
       "3                0.000                1.000                0.000   \n",
       "4                0.024                0.787                0.189   \n",
       "\n",
       "   title_sentiment_compound  title_length  title_word_count  \\\n",
       "0                    0.9127           315                60   \n",
       "1                    0.5423            21                 4   \n",
       "2                    0.9282           247                45   \n",
       "3                    0.0000            41                 6   \n",
       "4                    0.9786           839               162   \n",
       "\n",
       "   capitalized_letters_in_title  sentences_in_title  \n",
       "0                            16                   4  \n",
       "1                             3                   0  \n",
       "2                            11                   5  \n",
       "3                             2                   1  \n",
       "4                            32                  11  "
      ]
     },
     "execution_count": 28,
     "metadata": {},
     "output_type": "execute_result"
    }
   ],
   "source": [
    "df['subreddit'] = df['subreddit'].replace({'ultrarunning': 0, 'backpacking': 1})\n",
    "df.head()"
   ]
  },
  {
   "cell_type": "code",
   "execution_count": 29,
   "id": "3d08d1d2-844b-4e22-acf7-a67a70e295e0",
   "metadata": {},
   "outputs": [],
   "source": [
    "# Create X and Y for CountVectorizer\n",
    "\n",
    "X = df['title_merge']\n",
    "y = df['subreddit']"
   ]
  },
  {
   "cell_type": "code",
   "execution_count": 30,
   "id": "e84c4cc9-e261-4d2b-9a9f-fae3be1f79ab",
   "metadata": {},
   "outputs": [],
   "source": [
    "# Train/Test/Split\n",
    "X_train, X_test, y_train, y_test = train_test_split(X, y, random_state=42)"
   ]
  },
  {
   "cell_type": "markdown",
   "id": "fd2cd28d-52c9-4dd0-8d3d-49c71d74f466",
   "metadata": {},
   "source": [
    "#### CountVectorizer"
   ]
  },
  {
   "cell_type": "code",
   "execution_count": 31,
   "id": "40b9bfd8-3165-49f2-8cf4-d3a8f09ccbad",
   "metadata": {},
   "outputs": [],
   "source": [
    "pipe = Pipeline([\n",
    "    ('vect', CountVectorizer()),\n",
    "    ('model', RandomForestClassifier())\n",
    "])"
   ]
  },
  {
   "cell_type": "code",
   "execution_count": 32,
   "id": "43393859-01d0-43c5-bcbc-65226746bcc1",
   "metadata": {
    "tags": []
   },
   "outputs": [
    {
     "name": "stdout",
     "output_type": "stream",
     "text": [
      "Fitting 5 folds for each of 5 candidates, totalling 25 fits\n",
      "0.9186388425153034\n"
     ]
    },
    {
     "data": {
      "text/plain": [
       "{'model__n_estimators': 300}"
      ]
     },
     "execution_count": 32,
     "metadata": {},
     "output_type": "execute_result"
    }
   ],
   "source": [
    "param_grid = {\n",
    "    'model__n_estimators': [100, 300, 500, 800, 1200],\n",
    "}\n",
    "gs = GridSearchCV(pipe,\n",
    "                  param_grid=param_grid,\n",
    "                  verbose=1,\n",
    "                  scoring='accuracy'\n",
    "                 )\n",
    "gs.fit(X_train, y_train)\n",
    "print(gs.best_score_)\n",
    "gs.best_params_"
   ]
  },
  {
   "cell_type": "markdown",
   "id": "8df7eb24-4705-452a-8aa4-931b9b6ef185",
   "metadata": {},
   "source": [
    "### Evaluations"
   ]
  },
  {
   "cell_type": "code",
   "execution_count": 33,
   "id": "182723aa-aa0e-4d8e-a4d6-4500430b850f",
   "metadata": {},
   "outputs": [
    {
     "data": {
      "text/plain": [
       "0.9996665555185061"
      ]
     },
     "execution_count": 33,
     "metadata": {},
     "output_type": "execute_result"
    }
   ],
   "source": [
    "gs.score(X_train, y_train)"
   ]
  },
  {
   "cell_type": "code",
   "execution_count": 34,
   "id": "8ebb6b44-f1bf-4d4c-a82e-f5ea3c1fa0dc",
   "metadata": {},
   "outputs": [
    {
     "data": {
      "text/plain": [
       "0.921"
      ]
     },
     "execution_count": 34,
     "metadata": {},
     "output_type": "execute_result"
    }
   ],
   "source": [
    "gs.score(X_test, y_test)"
   ]
  },
  {
   "cell_type": "markdown",
   "id": "a1e699c6-2630-4f0d-9c6e-35b1dc2aae5e",
   "metadata": {},
   "source": [
    "#### Predictions"
   ]
  },
  {
   "cell_type": "code",
   "execution_count": 35,
   "id": "8266eb2f-ca45-4d56-be11-ec4f13b27eac",
   "metadata": {},
   "outputs": [
    {
     "data": {
      "text/plain": [
       "array([1, 0, 1, 0, 0, 0, 1, 1, 1, 0])"
      ]
     },
     "execution_count": 35,
     "metadata": {},
     "output_type": "execute_result"
    }
   ],
   "source": [
    "preds = gs.predict(X_test)\n",
    "preds[:10]"
   ]
  },
  {
   "cell_type": "markdown",
   "id": "d4ac2d95-ec56-4f7c-957a-3fb991cd01b0",
   "metadata": {},
   "source": [
    "#### Model Evaluation"
   ]
  },
  {
   "cell_type": "code",
   "execution_count": 36,
   "id": "d48430d0-fc42-4a3c-8284-af344ff7b0c3",
   "metadata": {},
   "outputs": [
    {
     "data": {
      "image/png": "[encoded data removed]",
      "text/plain": [
       "<Figure size 432x288 with 2 Axes>"
      ]
     },
     "metadata": {
      "needs_background": "light"
     },
     "output_type": "display_data"
    }
   ],
   "source": [
    "plot_confusion_matrix(gs, X_test, y_test, cmap='terrain', display_labels=['Ultrarunning', 'Backpacking'])\n",
    "plt.savefig(\"../graphics/model_four_rf_confusion_matrix.jpg\", bbox_inches=\"tight\", dpi=100); #save as jpg"
   ]
  },
  {
   "cell_type": "code",
   "execution_count": 37,
   "id": "1386a7b0-e12c-49e5-8296-3e6f3a3bc7ae",
   "metadata": {},
   "outputs": [
    {
     "name": "stdout",
     "output_type": "stream",
     "text": [
      "TN = 434\n",
      "FP = 47\n",
      "FN = 32\n",
      "TP = 487\n"
     ]
    }
   ],
   "source": [
    "from sklearn.metrics import confusion_matrix\n",
    "tn, fp, fn, tp = confusion_matrix(y_test, preds).ravel()\n",
    "\n",
    "print(f'TN = {tn}')\n",
    "print(f'FP = {fp}')\n",
    "print(f'FN = {fn}')\n",
    "print(f'TP = {tp}')"
   ]
  },
  {
   "cell_type": "code",
   "execution_count": 38,
   "id": "c2619d8b-02ab-4b30-a39f-08c55d239d4a",
   "metadata": {},
   "outputs": [
    {
     "data": {
      "text/plain": [
       "0.921"
      ]
     },
     "execution_count": 38,
     "metadata": {},
     "output_type": "execute_result"
    }
   ],
   "source": [
    "metrics.accuracy_score(y_test, preds)"
   ]
  },
  {
   "cell_type": "code",
   "execution_count": 39,
   "id": "9ad5ae3d-6700-4641-86c7-9dd2dcee515a",
   "metadata": {},
   "outputs": [
    {
     "name": "stdout",
     "output_type": "stream",
     "text": [
      "              precision    recall  f1-score   support\n",
      "\n",
      "           0       0.93      0.90      0.92       481\n",
      "           1       0.91      0.94      0.92       519\n",
      "\n",
      "    accuracy                           0.92      1000\n",
      "   macro avg       0.92      0.92      0.92      1000\n",
      "weighted avg       0.92      0.92      0.92      1000\n",
      "\n"
     ]
    }
   ],
   "source": [
    "print(classification_report(y_test, preds))"
   ]
  },
  {
   "cell_type": "code",
   "execution_count": 40,
   "id": "c479975e-8714-458c-9320-4ffa501333e7",
   "metadata": {},
   "outputs": [
    {
     "data": {
      "image/png": "[encoded data removed]",
      "text/plain": [
       "<Figure size 432x288 with 1 Axes>"
      ]
     },
     "metadata": {
      "needs_background": "light"
     },
     "output_type": "display_data"
    }
   ],
   "source": [
    "plot_roc_curve(gs, X_test, y_test)\n",
    "plt.savefig(\"../graphics/model_four_rf_roc_curve.jpg\", bbox_inches=\"tight\", dpi=100); #save as jpg;"
   ]
  },
  {
   "cell_type": "markdown",
   "id": "c005402a-a7b2-4dd4-92f7-46d8bc6ee72f",
   "metadata": {
    "tags": []
   },
   "source": [
    "### Coefficients"
   ]
  },
  {
   "cell_type": "code",
   "execution_count": 41,
   "id": "23a185a7-dd1c-4b36-989a-0ca17eb06f65",
   "metadata": {},
   "outputs": [],
   "source": [
    "coef = gs.best_estimator_._final_estimator.feature_importances_ # get coefficients\n",
    "features = gs.best_estimator_['vect'].get_feature_names() #get feature names\n",
    "zipped = zip(coef, features) #zip them together\n",
    "lst = list(zipped) #turn zip object into a list\n",
    "coef_df = pd.DataFrame(lst) # turn list into a df"
   ]
  },
  {
   "cell_type": "code",
   "execution_count": 42,
   "id": "69441b4e-71e2-4d42-9181-13006ee27c34",
   "metadata": {},
   "outputs": [
    {
     "data": {
      "text/html": [
       "<div>\n",
       "<style scoped>\n",
       "    .dataframe tbody tr th:only-of-type {\n",
       "        vertical-align: middle;\n",
       "    }\n",
       "\n",
       "    .dataframe tbody tr th {\n",
       "        vertical-align: top;\n",
       "    }\n",
       "\n",
       "    .dataframe thead th {\n",
       "        text-align: right;\n",
       "    }\n",
       "</style>\n",
       "<table border=\"1\" class=\"dataframe\">\n",
       "  <thead>\n",
       "    <tr style=\"text-align: right;\">\n",
       "      <th></th>\n",
       "      <th>0</th>\n",
       "      <th>1</th>\n",
       "    </tr>\n",
       "  </thead>\n",
       "  <tbody>\n",
       "    <tr>\n",
       "      <th>11418</th>\n",
       "      <td>0.034810</td>\n",
       "      <td>running</td>\n",
       "    </tr>\n",
       "    <tr>\n",
       "      <th>11405</th>\n",
       "      <td>0.028735</td>\n",
       "      <td>run</td>\n",
       "    </tr>\n",
       "    <tr>\n",
       "      <th>13866</th>\n",
       "      <td>0.027476</td>\n",
       "      <td>ultra</td>\n",
       "    </tr>\n",
       "    <tr>\n",
       "      <th>10661</th>\n",
       "      <td>0.023744</td>\n",
       "      <td>race</td>\n",
       "    </tr>\n",
       "    <tr>\n",
       "      <th>13592</th>\n",
       "      <td>0.017393</td>\n",
       "      <td>training</td>\n",
       "    </tr>\n",
       "    <tr>\n",
       "      <th>2156</th>\n",
       "      <td>0.016869</td>\n",
       "      <td>backpacking</td>\n",
       "    </tr>\n",
       "    <tr>\n",
       "      <th>13721</th>\n",
       "      <td>0.009141</td>\n",
       "      <td>trip</td>\n",
       "    </tr>\n",
       "    <tr>\n",
       "      <th>895</th>\n",
       "      <td>0.009127</td>\n",
       "      <td>50k</td>\n",
       "    </tr>\n",
       "    <tr>\n",
       "      <th>8649</th>\n",
       "      <td>0.007871</td>\n",
       "      <td>miles</td>\n",
       "    </tr>\n",
       "    <tr>\n",
       "      <th>11425</th>\n",
       "      <td>0.007752</td>\n",
       "      <td>runs</td>\n",
       "    </tr>\n",
       "  </tbody>\n",
       "</table>\n",
       "</div>"
      ],
      "text/plain": [
       "              0            1\n",
       "11418  0.034810      running\n",
       "11405  0.028735          run\n",
       "13866  0.027476        ultra\n",
       "10661  0.023744         race\n",
       "13592  0.017393     training\n",
       "2156   0.016869  backpacking\n",
       "13721  0.009141         trip\n",
       "895    0.009127          50k\n",
       "8649   0.007871        miles\n",
       "11425  0.007752         runs"
      ]
     },
     "execution_count": 42,
     "metadata": {},
     "output_type": "execute_result"
    }
   ],
   "source": [
    "coef_df.sort_values(by=0, ascending=False).head(10)"
   ]
  },
  {
   "cell_type": "code",
   "execution_count": 43,
   "id": "502ea3d5-11f4-4701-b0b6-cfc4897af97a",
   "metadata": {},
   "outputs": [
    {
     "data": {
      "text/html": [
       "<div>\n",
       "<style scoped>\n",
       "    .dataframe tbody tr th:only-of-type {\n",
       "        vertical-align: middle;\n",
       "    }\n",
       "\n",
       "    .dataframe tbody tr th {\n",
       "        vertical-align: top;\n",
       "    }\n",
       "\n",
       "    .dataframe thead th {\n",
       "        text-align: right;\n",
       "    }\n",
       "</style>\n",
       "<table border=\"1\" class=\"dataframe\">\n",
       "  <thead>\n",
       "    <tr style=\"text-align: right;\">\n",
       "      <th></th>\n",
       "      <th>0</th>\n",
       "      <th>1</th>\n",
       "    </tr>\n",
       "  </thead>\n",
       "  <tbody>\n",
       "    <tr>\n",
       "      <th>11425</th>\n",
       "      <td>0.007752</td>\n",
       "      <td>runs</td>\n",
       "    </tr>\n",
       "    <tr>\n",
       "      <th>8649</th>\n",
       "      <td>0.007871</td>\n",
       "      <td>miles</td>\n",
       "    </tr>\n",
       "    <tr>\n",
       "      <th>895</th>\n",
       "      <td>0.009127</td>\n",
       "      <td>50k</td>\n",
       "    </tr>\n",
       "    <tr>\n",
       "      <th>13721</th>\n",
       "      <td>0.009141</td>\n",
       "      <td>trip</td>\n",
       "    </tr>\n",
       "    <tr>\n",
       "      <th>2156</th>\n",
       "      <td>0.016869</td>\n",
       "      <td>backpacking</td>\n",
       "    </tr>\n",
       "    <tr>\n",
       "      <th>13592</th>\n",
       "      <td>0.017393</td>\n",
       "      <td>training</td>\n",
       "    </tr>\n",
       "    <tr>\n",
       "      <th>10661</th>\n",
       "      <td>0.023744</td>\n",
       "      <td>race</td>\n",
       "    </tr>\n",
       "    <tr>\n",
       "      <th>13866</th>\n",
       "      <td>0.027476</td>\n",
       "      <td>ultra</td>\n",
       "    </tr>\n",
       "    <tr>\n",
       "      <th>11405</th>\n",
       "      <td>0.028735</td>\n",
       "      <td>run</td>\n",
       "    </tr>\n",
       "    <tr>\n",
       "      <th>11418</th>\n",
       "      <td>0.034810</td>\n",
       "      <td>running</td>\n",
       "    </tr>\n",
       "  </tbody>\n",
       "</table>\n",
       "</div>"
      ],
      "text/plain": [
       "              0            1\n",
       "11425  0.007752         runs\n",
       "8649   0.007871        miles\n",
       "895    0.009127          50k\n",
       "13721  0.009141         trip\n",
       "2156   0.016869  backpacking\n",
       "13592  0.017393     training\n",
       "10661  0.023744         race\n",
       "13866  0.027476        ultra\n",
       "11405  0.028735          run\n",
       "11418  0.034810      running"
      ]
     },
     "execution_count": 43,
     "metadata": {},
     "output_type": "execute_result"
    }
   ],
   "source": [
    "top_ten_pos_class = coef_df.sort_values(by=0, ascending=True).tail(10)\n",
    "top_ten_pos_class"
   ]
  },
  {
   "cell_type": "code",
   "execution_count": 44,
   "id": "5a540617-d585-41a6-aa08-b411c72d430c",
   "metadata": {},
   "outputs": [
    {
     "data": {
      "image/png": "[encoded data removed]",
      "text/plain": [
       "<Figure size 864x432 with 1 Axes>"
      ]
     },
     "metadata": {
      "needs_background": "light"
     },
     "output_type": "display_data"
    }
   ],
   "source": [
    "plt.figure(figsize=(12,6))\n",
    "best_pred_sust = top_ten_pos_class.sort_values(by=0, ascending=False).head(15)\n",
    "best_pred_sust = top_ten_pos_class.sort_values(by=0, ascending=True).tail(15)\n",
    "x = best_pred_sust[1]\n",
    "y = best_pred_sust[0]\n",
    "plt.barh(x,y, color = '#097a80')\n",
    "plt.xlabel('Coefficient', fontdict= {'fontsize':14})\n",
    "plt.ylabel('Most Impactful Words', fontdict= {'fontsize':14})\n",
    "plt.title('Best Predictors For Backpacking Subreddit', fontdict = {'fontsize':16})\n",
    "plt.tight_layout()\n",
    "plt.savefig(\"../graphics/model_four_rf_Top10_backpacking_coef.jpg\", bbox_inches=\"tight\", dpi=100); #save as jpg;"
   ]
  },
  {
   "cell_type": "code",
   "execution_count": 45,
   "id": "319676c6-c043-4d14-a796-4df2c545fc16",
   "metadata": {},
   "outputs": [
    {
     "data": {
      "text/html": [
       "<div>\n",
       "<style scoped>\n",
       "    .dataframe tbody tr th:only-of-type {\n",
       "        vertical-align: middle;\n",
       "    }\n",
       "\n",
       "    .dataframe tbody tr th {\n",
       "        vertical-align: top;\n",
       "    }\n",
       "\n",
       "    .dataframe thead th {\n",
       "        text-align: right;\n",
       "    }\n",
       "</style>\n",
       "<table border=\"1\" class=\"dataframe\">\n",
       "  <thead>\n",
       "    <tr style=\"text-align: right;\">\n",
       "      <th></th>\n",
       "      <th>0</th>\n",
       "      <th>1</th>\n",
       "    </tr>\n",
       "  </thead>\n",
       "  <tbody>\n",
       "    <tr>\n",
       "      <th>11418</th>\n",
       "      <td>0.034810</td>\n",
       "      <td>running</td>\n",
       "    </tr>\n",
       "    <tr>\n",
       "      <th>11405</th>\n",
       "      <td>0.028735</td>\n",
       "      <td>run</td>\n",
       "    </tr>\n",
       "    <tr>\n",
       "      <th>13866</th>\n",
       "      <td>0.027476</td>\n",
       "      <td>ultra</td>\n",
       "    </tr>\n",
       "    <tr>\n",
       "      <th>10661</th>\n",
       "      <td>0.023744</td>\n",
       "      <td>race</td>\n",
       "    </tr>\n",
       "    <tr>\n",
       "      <th>13592</th>\n",
       "      <td>0.017393</td>\n",
       "      <td>training</td>\n",
       "    </tr>\n",
       "    <tr>\n",
       "      <th>2156</th>\n",
       "      <td>0.016869</td>\n",
       "      <td>backpacking</td>\n",
       "    </tr>\n",
       "    <tr>\n",
       "      <th>13721</th>\n",
       "      <td>0.009141</td>\n",
       "      <td>trip</td>\n",
       "    </tr>\n",
       "    <tr>\n",
       "      <th>895</th>\n",
       "      <td>0.009127</td>\n",
       "      <td>50k</td>\n",
       "    </tr>\n",
       "    <tr>\n",
       "      <th>8649</th>\n",
       "      <td>0.007871</td>\n",
       "      <td>miles</td>\n",
       "    </tr>\n",
       "    <tr>\n",
       "      <th>11425</th>\n",
       "      <td>0.007752</td>\n",
       "      <td>runs</td>\n",
       "    </tr>\n",
       "  </tbody>\n",
       "</table>\n",
       "</div>"
      ],
      "text/plain": [
       "              0            1\n",
       "11418  0.034810      running\n",
       "11405  0.028735          run\n",
       "13866  0.027476        ultra\n",
       "10661  0.023744         race\n",
       "13592  0.017393     training\n",
       "2156   0.016869  backpacking\n",
       "13721  0.009141         trip\n",
       "895    0.009127          50k\n",
       "8649   0.007871        miles\n",
       "11425  0.007752         runs"
      ]
     },
     "execution_count": 45,
     "metadata": {},
     "output_type": "execute_result"
    }
   ],
   "source": [
    "top_ten_neg_class = coef_df.sort_values(by=0, ascending=False).head(10)\n",
    "top_ten_neg_class"
   ]
  },
  {
   "cell_type": "code",
   "execution_count": 46,
   "id": "817950e7-45bd-454a-aba6-8b5c7e9811bb",
   "metadata": {},
   "outputs": [
    {
     "data": {
      "image/png": "[encoded data removed]",
      "text/plain": [
       "<Figure size 864x432 with 1 Axes>"
      ]
     },
     "metadata": {
      "needs_background": "light"
     },
     "output_type": "display_data"
    }
   ],
   "source": [
    "plt.figure(figsize=(12,6))\n",
    "best_pred_sust = top_ten_neg_class.sort_values(by=0, ascending=False).head(15)\n",
    "best_pred_sust = top_ten_neg_class.sort_values(by=0, ascending=True).tail(15)\n",
    "x = best_pred_sust[1]\n",
    "y = best_pred_sust[0]\n",
    "plt.barh(x,y, color = '#80097a')\n",
    "plt.xlabel('Coefficient', fontdict= {'fontsize':14})\n",
    "plt.ylabel('Most Impactful Words', fontdict= {'fontsize':14})\n",
    "plt.title('Best Predictors For Ultrarunning Subreddit', fontdict = {'fontsize':16})\n",
    "plt.tight_layout()\n",
    "plt.savefig(\"../graphics/model_four_rf_Top10_ultrarunning_coef.jpg\", bbox_inches=\"tight\", dpi=100); #save as jpg;"
   ]
  },
  {
   "cell_type": "code",
   "execution_count": null,
   "id": "c883e005-618c-4216-adef-aec36dadb5f5",
   "metadata": {},
   "outputs": [],
   "source": []
  }
 ],
 "metadata": {
  "kernelspec": {
   "display_name": "Python 3 (ipykernel)",
   "language": "python",
   "name": "python3"
  },
  "language_info": {
   "codemirror_mode": {
    "name": "ipython",
    "version": 3
   },
   "file_extension": ".py",
   "mimetype": "text/x-python",
   "name": "python",
   "nbconvert_exporter": "python",
   "pygments_lexer": "ipython3",
   "version": "3.9.7"
  }
 },
 "nbformat": 4,
 "nbformat_minor": 5
}
