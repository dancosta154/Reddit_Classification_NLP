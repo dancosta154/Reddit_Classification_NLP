{
 "cells": [
  {
   "cell_type": "markdown",
   "id": "78d55533-a824-409c-badc-ec212932494b",
   "metadata": {},
   "source": [
    "## Notebook Description\n",
    "### Model Two\n",
    "This notebook is dedicated to my second model, which uses the data from `clean_data` folder. The model uses only the `Title` column and a combination of `TfidfVectorizer` and `KNeighborsClassifier`. Resulting in an Accuracy Score of 0.79"
   ]
  },
  {
   "cell_type": "code",
   "execution_count": 22,
   "id": "35559589-2f7f-46d2-8915-0a5396a4bdeb",
   "metadata": {},
   "outputs": [],
   "source": [
    "# imports\n",
    "import pandas as pd\n",
    "from sklearn.model_selection import train_test_split, GridSearchCV\n",
    "from sklearn.linear_model import LogisticRegression\n",
    "from sklearn.feature_extraction.text import TfidfVectorizer\n",
    "from sklearn.pipeline import Pipeline\n",
    "from sklearn.metrics import plot_confusion_matrix, confusion_matrix, ConfusionMatrixDisplay, RocCurveDisplay\n",
    "import sklearn.metrics as metrics\n",
    "from sklearn.neighbors import KNeighborsClassifier\n",
    "from sklearn.metrics import classification_report\n",
    "from sklearn.metrics import plot_roc_curve"
   ]
  },
  {
   "cell_type": "code",
   "execution_count": 23,
   "id": "206f5352-842c-4ffc-9dea-46c252d74a08",
   "metadata": {},
   "outputs": [
    {
     "data": {
      "text/html": [
       "<div>\n",
       "<style scoped>\n",
       "    .dataframe tbody tr th:only-of-type {\n",
       "        vertical-align: middle;\n",
       "    }\n",
       "\n",
       "    .dataframe tbody tr th {\n",
       "        vertical-align: top;\n",
       "    }\n",
       "\n",
       "    .dataframe thead th {\n",
       "        text-align: right;\n",
       "    }\n",
       "</style>\n",
       "<table border=\"1\" class=\"dataframe\">\n",
       "  <thead>\n",
       "    <tr style=\"text-align: right;\">\n",
       "      <th></th>\n",
       "      <th>title</th>\n",
       "      <th>selftext</th>\n",
       "      <th>subreddit</th>\n",
       "      <th>created_utc</th>\n",
       "    </tr>\n",
       "  </thead>\n",
       "  <tbody>\n",
       "    <tr>\n",
       "      <th>0</th>\n",
       "      <td>Where to backpack 4 nights in Utah, Arizona, o...</td>\n",
       "      <td>Hello Reddit folks! Four of my friends and I a...</td>\n",
       "      <td>backpacking</td>\n",
       "      <td>1646011972</td>\n",
       "    </tr>\n",
       "    <tr>\n",
       "      <th>1</th>\n",
       "      <td>Peace Walls, Belfast</td>\n",
       "      <td>NaN</td>\n",
       "      <td>backpacking</td>\n",
       "      <td>1646007041</td>\n",
       "    </tr>\n",
       "    <tr>\n",
       "      <th>2</th>\n",
       "      <td>How To Mount Snowshoes On Osprey Talon 22 Back...</td>\n",
       "      <td>The backpack is fairly small, but the suspensi...</td>\n",
       "      <td>backpacking</td>\n",
       "      <td>1646005307</td>\n",
       "    </tr>\n",
       "    <tr>\n",
       "      <th>3</th>\n",
       "      <td>Bringing dog to Kearsarge pass?</td>\n",
       "      <td>[removed]</td>\n",
       "      <td>backpacking</td>\n",
       "      <td>1646004876</td>\n",
       "    </tr>\n",
       "    <tr>\n",
       "      <th>4</th>\n",
       "      <td>Mid 30s short trip to Thailand - Bangkok &amp;amp;...</td>\n",
       "      <td>My husband and I plan to go to Thailand for a ...</td>\n",
       "      <td>backpacking</td>\n",
       "      <td>1646000495</td>\n",
       "    </tr>\n",
       "  </tbody>\n",
       "</table>\n",
       "</div>"
      ],
      "text/plain": [
       "                                               title  \\\n",
       "0  Where to backpack 4 nights in Utah, Arizona, o...   \n",
       "1                               Peace Walls, Belfast   \n",
       "2  How To Mount Snowshoes On Osprey Talon 22 Back...   \n",
       "3                    Bringing dog to Kearsarge pass?   \n",
       "4  Mid 30s short trip to Thailand - Bangkok &amp;...   \n",
       "\n",
       "                                            selftext    subreddit  created_utc  \n",
       "0  Hello Reddit folks! Four of my friends and I a...  backpacking   1646011972  \n",
       "1                                                NaN  backpacking   1646007041  \n",
       "2  The backpack is fairly small, but the suspensi...  backpacking   1646005307  \n",
       "3                                          [removed]  backpacking   1646004876  \n",
       "4  My husband and I plan to go to Thailand for a ...  backpacking   1646000495  "
      ]
     },
     "execution_count": 23,
     "metadata": {},
     "output_type": "execute_result"
    }
   ],
   "source": [
    "df = pd.read_csv('../clean_data/reddit_clean.csv')\n",
    "df.head()"
   ]
  },
  {
   "cell_type": "code",
   "execution_count": 24,
   "id": "b4fbcc4b-90cc-4cef-8e6b-87cf77be09ec",
   "metadata": {},
   "outputs": [],
   "source": [
    "df['subreddit'] = df['subreddit'].replace({'ultrarunning': 0, 'backpacking': 1})"
   ]
  },
  {
   "cell_type": "code",
   "execution_count": 25,
   "id": "1e724812-593b-4e93-bfa2-005e3cd71b8b",
   "metadata": {},
   "outputs": [],
   "source": [
    "# Create X and Y for CountVectorizer\n",
    "\n",
    "X = df['title']\n",
    "y = df['subreddit']"
   ]
  },
  {
   "cell_type": "code",
   "execution_count": 26,
   "id": "21604588-c454-4914-bacc-35ebc5d9f33b",
   "metadata": {},
   "outputs": [
    {
     "data": {
      "text/plain": [
       "0    0.500125\n",
       "1    0.499875\n",
       "Name: subreddit, dtype: float64"
      ]
     },
     "execution_count": 26,
     "metadata": {},
     "output_type": "execute_result"
    }
   ],
   "source": [
    "# Baseline model\n",
    "# My model needs to be better than .50\n",
    "\n",
    "df['subreddit'].value_counts(normalize=True)"
   ]
  },
  {
   "cell_type": "code",
   "execution_count": 27,
   "id": "e84c4cc9-e261-4d2b-9a9f-fae3be1f79ab",
   "metadata": {},
   "outputs": [],
   "source": [
    "# Train/Test/Split\n",
    "X_train, X_test, y_train, y_test = train_test_split(X, y, random_state=42)"
   ]
  },
  {
   "cell_type": "code",
   "execution_count": 28,
   "id": "2bb9ca86-595c-470e-bf78-a3e4b4bd5fb6",
   "metadata": {},
   "outputs": [],
   "source": [
    "pipe = Pipeline([\n",
    "    ('tfid', TfidfVectorizer()),\n",
    "    ('knn', KNeighborsClassifier())\n",
    "])"
   ]
  },
  {
   "cell_type": "code",
   "execution_count": 29,
   "id": "adaeeb44-bfd1-4c05-a020-06e222a5723c",
   "metadata": {
    "tags": []
   },
   "outputs": [
    {
     "name": "stdout",
     "output_type": "stream",
     "text": [
      "Fitting 5 folds for each of 96 candidates, totalling 480 fits\n",
      "0.8029326655537007\n"
     ]
    },
    {
     "data": {
      "text/plain": [
       "{'tfid__binary': True,\n",
       " 'tfid__max_features': None,\n",
       " 'tfid__min_df': 1,\n",
       " 'tfid__ngram_range': (1, 1),\n",
       " 'tfid__stop_words': None}"
      ]
     },
     "execution_count": 29,
     "metadata": {},
     "output_type": "execute_result"
    }
   ],
   "source": [
    "param_grid = {\n",
    "    'tfid__binary': [True, False],\n",
    "    'tfid__max_features': [None, 4000, 5000],\n",
    "    'tfid__min_df': [1,2,3,4],\n",
    "    'tfid__stop_words': [None, 'english'],\n",
    "    'tfid__ngram_range': [(1,1),(1,2)]\n",
    "}\n",
    "gs = GridSearchCV(pipe, \n",
    "                  param_grid=param_grid,\n",
    "                  verbose=1,\n",
    "                  cv=5)\n",
    "gs.fit(X_train, y_train)\n",
    "print(gs.best_score_)\n",
    "gs.best_params_"
   ]
  },
  {
   "cell_type": "markdown",
   "id": "a1e699c6-2630-4f0d-9c6e-35b1dc2aae5e",
   "metadata": {},
   "source": [
    "### Predictions and Evaluations\n"
   ]
  },
  {
   "cell_type": "code",
   "execution_count": 30,
   "id": "8266eb2f-ca45-4d56-be11-ec4f13b27eac",
   "metadata": {},
   "outputs": [],
   "source": [
    "preds = gs.predict(X_test)"
   ]
  },
  {
   "cell_type": "code",
   "execution_count": 31,
   "id": "72ec84a9-0f72-4c60-962b-42b90d464b96",
   "metadata": {},
   "outputs": [
    {
     "data": {
      "text/plain": [
       "array([1, 0, 1, 1, 1, 1, 1, 1, 1, 1])"
      ]
     },
     "execution_count": 31,
     "metadata": {},
     "output_type": "execute_result"
    }
   ],
   "source": [
    "preds[:10]"
   ]
  },
  {
   "cell_type": "markdown",
   "id": "d4ac2d95-ec56-4f7c-957a-3fb991cd01b0",
   "metadata": {},
   "source": [
    "### Model Evaluation"
   ]
  },
  {
   "cell_type": "code",
   "execution_count": 32,
   "id": "d48430d0-fc42-4a3c-8284-af344ff7b0c3",
   "metadata": {},
   "outputs": [
    {
     "data": {
      "image/png": "[encoded data removed]",
      "text/plain": [
       "<Figure size 432x288 with 2 Axes>"
      ]
     },
     "metadata": {
      "needs_background": "light"
     },
     "output_type": "display_data"
    }
   ],
   "source": [
    "plot_confusion_matrix(gs, X_test, y_test, cmap='tab20b', display_labels=['Ultrarunning', 'Backpacking']);"
   ]
  },
  {
   "cell_type": "code",
   "execution_count": 33,
   "id": "1386a7b0-e12c-49e5-8296-3e6f3a3bc7ae",
   "metadata": {},
   "outputs": [
    {
     "name": "stdout",
     "output_type": "stream",
     "text": [
      "TN = 330\n",
      "FP = 151\n",
      "FN = 60\n",
      "TP = 459\n"
     ]
    }
   ],
   "source": [
    "tn, fp, fn, tp = confusion_matrix(y_test, preds).ravel()\n",
    "\n",
    "print(f'TN = {tn}')\n",
    "print(f'FP = {fp}')\n",
    "print(f'FN = {fn}')\n",
    "print(f'TP = {tp}')"
   ]
  },
  {
   "cell_type": "code",
   "execution_count": 34,
   "id": "9ad5ae3d-6700-4641-86c7-9dd2dcee515a",
   "metadata": {},
   "outputs": [
    {
     "name": "stdout",
     "output_type": "stream",
     "text": [
      "              precision    recall  f1-score   support\n",
      "\n",
      "           0       0.85      0.69      0.76       481\n",
      "           1       0.75      0.88      0.81       519\n",
      "\n",
      "    accuracy                           0.79      1000\n",
      "   macro avg       0.80      0.79      0.79      1000\n",
      "weighted avg       0.80      0.79      0.79      1000\n",
      "\n"
     ]
    }
   ],
   "source": [
    "from sklearn.metrics import classification_report\n",
    "print(classification_report(y_test, preds))"
   ]
  },
  {
   "cell_type": "code",
   "execution_count": 35,
   "id": "c479975e-8714-458c-9320-4ffa501333e7",
   "metadata": {},
   "outputs": [
    {
     "data": {
      "image/png": "[encoded data removed]",
      "text/plain": [
       "<Figure size 432x288 with 1 Axes>"
      ]
     },
     "metadata": {
      "needs_background": "light"
     },
     "output_type": "display_data"
    }
   ],
   "source": [
    "from sklearn.metrics import plot_roc_curve\n",
    "plot_roc_curve(gs, X_test, y_test);"
   ]
  },
  {
   "cell_type": "code",
   "execution_count": null,
   "id": "f88ef609-6c43-4e05-a7db-9e77dfead90a",
   "metadata": {},
   "outputs": [],
   "source": []
  }
 ],
 "metadata": {
  "kernelspec": {
   "display_name": "Python 3 (ipykernel)",
   "language": "python",
   "name": "python3"
  },
  "language_info": {
   "codemirror_mode": {
    "name": "ipython",
    "version": 3
   },
   "file_extension": ".py",
   "mimetype": "text/x-python",
   "name": "python",
   "nbconvert_exporter": "python",
   "pygments_lexer": "ipython3",
   "version": "3.9.7"
  }
 },
 "nbformat": 4,
 "nbformat_minor": 5
}
