{
 "cells": [
  {
   "cell_type": "markdown",
   "id": "78d55533-a824-409c-badc-ec212932494b",
   "metadata": {},
   "source": [
    "## Notebook Description\n",
    "### Model Three\n",
    "This notebook is dedicated to my third model, which uses data from `engineered_data` folder. The model runs the `title_merge` column through the `CountVectorize`, then using a `FeatureUnion` joins the Feature Engineered columns before running the entire dataframe through a `Logistic Regression` model. Resulting in an Accuracy Score of 0.933. This is my best model and used in the presentation."
   ]
  },
  {
   "cell_type": "code",
   "execution_count": 93,
   "id": "35559589-2f7f-46d2-8915-0a5396a4bdeb",
   "metadata": {},
   "outputs": [],
   "source": [
    "# imports\n",
    "import pandas as pd\n",
    "import numpy as np\n",
    "import matplotlib.pyplot as plt\n",
    "from sklearn.model_selection import train_test_split, GridSearchCV\n",
    "from sklearn.linear_model import LogisticRegression\n",
    "from sklearn.feature_extraction.text import CountVectorizer\n",
    "from sklearn.pipeline import Pipeline, FeatureUnion\n",
    "from sklearn.metrics import plot_confusion_matrix, confusion_matrix, ConfusionMatrixDisplay, RocCurveDisplay\n",
    "import sklearn.metrics as metrics\n",
    "from sklearn.metrics import classification_report\n",
    "from sklearn.metrics import plot_roc_curve\n",
    "from sklearn.preprocessing import FunctionTransformer"
   ]
  },
  {
   "cell_type": "code",
   "execution_count": 94,
   "id": "206f5352-842c-4ffc-9dea-46c252d74a08",
   "metadata": {},
   "outputs": [],
   "source": [
    "df = pd.read_csv('../engineered_data/engineered_data_merged_columns.csv')"
   ]
  },
  {
   "cell_type": "code",
   "execution_count": 95,
   "id": "36e8ef09-4038-41c1-8fce-033451a52f6c",
   "metadata": {},
   "outputs": [
    {
     "data": {
      "text/html": [
       "<div>\n",
       "<style scoped>\n",
       "    .dataframe tbody tr th:only-of-type {\n",
       "        vertical-align: middle;\n",
       "    }\n",
       "\n",
       "    .dataframe tbody tr th {\n",
       "        vertical-align: top;\n",
       "    }\n",
       "\n",
       "    .dataframe thead th {\n",
       "        text-align: right;\n",
       "    }\n",
       "</style>\n",
       "<table border=\"1\" class=\"dataframe\">\n",
       "  <thead>\n",
       "    <tr style=\"text-align: right;\">\n",
       "      <th></th>\n",
       "      <th>subreddit</th>\n",
       "      <th>created_utc</th>\n",
       "      <th>title_merge</th>\n",
       "      <th>title_sentiment_neg</th>\n",
       "      <th>title_sentiment_neu</th>\n",
       "      <th>title_sentiment_pos</th>\n",
       "      <th>title_sentiment_compound</th>\n",
       "      <th>title_length</th>\n",
       "      <th>title_word_count</th>\n",
       "      <th>capitalized_letters_in_title</th>\n",
       "      <th>sentences_in_title</th>\n",
       "    </tr>\n",
       "  </thead>\n",
       "  <tbody>\n",
       "    <tr>\n",
       "      <th>0</th>\n",
       "      <td>backpacking</td>\n",
       "      <td>1646011972</td>\n",
       "      <td>Where to backpack 4 nights in Utah, Arizona, o...</td>\n",
       "      <td>0.000</td>\n",
       "      <td>0.804</td>\n",
       "      <td>0.196</td>\n",
       "      <td>0.9127</td>\n",
       "      <td>315</td>\n",
       "      <td>60</td>\n",
       "      <td>16</td>\n",
       "      <td>4</td>\n",
       "    </tr>\n",
       "    <tr>\n",
       "      <th>1</th>\n",
       "      <td>backpacking</td>\n",
       "      <td>1646007041</td>\n",
       "      <td>Peace Walls, Belfast</td>\n",
       "      <td>0.000</td>\n",
       "      <td>0.364</td>\n",
       "      <td>0.636</td>\n",
       "      <td>0.5423</td>\n",
       "      <td>21</td>\n",
       "      <td>4</td>\n",
       "      <td>3</td>\n",
       "      <td>0</td>\n",
       "    </tr>\n",
       "    <tr>\n",
       "      <th>2</th>\n",
       "      <td>backpacking</td>\n",
       "      <td>1646005307</td>\n",
       "      <td>How To Mount Snowshoes On Osprey Talon 22 Back...</td>\n",
       "      <td>0.000</td>\n",
       "      <td>0.760</td>\n",
       "      <td>0.240</td>\n",
       "      <td>0.9282</td>\n",
       "      <td>247</td>\n",
       "      <td>45</td>\n",
       "      <td>11</td>\n",
       "      <td>5</td>\n",
       "    </tr>\n",
       "    <tr>\n",
       "      <th>3</th>\n",
       "      <td>backpacking</td>\n",
       "      <td>1646004876</td>\n",
       "      <td>Bringing dog to Kearsarge pass? [removed]</td>\n",
       "      <td>0.000</td>\n",
       "      <td>1.000</td>\n",
       "      <td>0.000</td>\n",
       "      <td>0.0000</td>\n",
       "      <td>41</td>\n",
       "      <td>6</td>\n",
       "      <td>2</td>\n",
       "      <td>1</td>\n",
       "    </tr>\n",
       "    <tr>\n",
       "      <th>4</th>\n",
       "      <td>backpacking</td>\n",
       "      <td>1646000495</td>\n",
       "      <td>Mid 30s short trip to Thailand - Bangkok &amp;amp;...</td>\n",
       "      <td>0.024</td>\n",
       "      <td>0.787</td>\n",
       "      <td>0.189</td>\n",
       "      <td>0.9786</td>\n",
       "      <td>839</td>\n",
       "      <td>162</td>\n",
       "      <td>32</td>\n",
       "      <td>11</td>\n",
       "    </tr>\n",
       "  </tbody>\n",
       "</table>\n",
       "</div>"
      ],
      "text/plain": [
       "     subreddit  created_utc                                        title_merge  title_sentiment_neg  title_sentiment_neu  title_sentiment_pos  title_sentiment_compound  title_length  title_word_count  capitalized_letters_in_title  sentences_in_title\n",
       "0  backpacking   1646011972  Where to backpack 4 nights in Utah, Arizona, o...                0.000                0.804                0.196                    0.9127           315                60                            16                   4\n",
       "1  backpacking   1646007041                              Peace Walls, Belfast                 0.000                0.364                0.636                    0.5423            21                 4                             3                   0\n",
       "2  backpacking   1646005307  How To Mount Snowshoes On Osprey Talon 22 Back...                0.000                0.760                0.240                    0.9282           247                45                            11                   5\n",
       "3  backpacking   1646004876          Bringing dog to Kearsarge pass? [removed]                0.000                1.000                0.000                    0.0000            41                 6                             2                   1\n",
       "4  backpacking   1646000495  Mid 30s short trip to Thailand - Bangkok &amp;...                0.024                0.787                0.189                    0.9786           839               162                            32                  11"
      ]
     },
     "execution_count": 95,
     "metadata": {},
     "output_type": "execute_result"
    }
   ],
   "source": [
    "df.head()"
   ]
  },
  {
   "cell_type": "markdown",
   "id": "c033cd6c-0b7a-4122-b8d2-223ac856f1ce",
   "metadata": {},
   "source": [
    "#### Baseline Model"
   ]
  },
  {
   "cell_type": "code",
   "execution_count": 96,
   "id": "63968fc0-1e4c-45af-994b-7c1630d515af",
   "metadata": {},
   "outputs": [
    {
     "data": {
      "text/plain": [
       "ultrarunning    0.500125\n",
       "backpacking     0.499875\n",
       "Name: subreddit, dtype: float64"
      ]
     },
     "execution_count": 96,
     "metadata": {},
     "output_type": "execute_result"
    }
   ],
   "source": [
    "# Baseline model\n",
    "# Need my model to be better than .50\n",
    "\n",
    "df['subreddit'].value_counts(normalize=True)"
   ]
  },
  {
   "cell_type": "markdown",
   "id": "66acdc98-05a2-4b80-b34c-72011a4d7911",
   "metadata": {},
   "source": [
    "#### Set Up Target Variable"
   ]
  },
  {
   "cell_type": "code",
   "execution_count": 97,
   "id": "b4fbcc4b-90cc-4cef-8e6b-87cf77be09ec",
   "metadata": {},
   "outputs": [],
   "source": [
    "df['subreddit'] = df['subreddit'].replace({'ultrarunning': 0, 'backpacking': 1})"
   ]
  },
  {
   "cell_type": "code",
   "execution_count": 98,
   "id": "3d08d1d2-844b-4e22-acf7-a67a70e295e0",
   "metadata": {},
   "outputs": [],
   "source": [
    "# Create X and Y for Log_Reg\n",
    "\n",
    "X = df.drop(columns=['subreddit'])\n",
    "y = df['subreddit']"
   ]
  },
  {
   "cell_type": "code",
   "execution_count": 99,
   "id": "e84c4cc9-e261-4d2b-9a9f-fae3be1f79ab",
   "metadata": {},
   "outputs": [],
   "source": [
    "# Train/Test/Split\n",
    "X_train, X_test, y_train, y_test = train_test_split(X, y, random_state=42)"
   ]
  },
  {
   "cell_type": "markdown",
   "id": "fd2cd28d-52c9-4dd0-8d3d-49c71d74f466",
   "metadata": {},
   "source": [
    "### Using Feature Union to utilize Feature Engineered columns in Pipeline\n",
    "\n",
    "The following steps allow for `CountVectorizing` the `title_merge` column, while also passing in the feature engineered columns to the `Logistic Regression` model. Ultimately, a nested pipeline allows for this. Indexing into this nested relationship to tune hyperparameters can be seen with strings such as `feats__vect_pipe__vect__binary` in the `params_grid` dictionary"
   ]
  },
  {
   "cell_type": "code",
   "execution_count": 100,
   "id": "e751255e-4769-4cc2-92e4-63cebde63e06",
   "metadata": {},
   "outputs": [],
   "source": [
    "def get_title(df):\n",
    "    return df['title_merge']\n",
    "\n",
    "get_title_transformer = FunctionTransformer(get_title, validate=False)"
   ]
  },
  {
   "cell_type": "code",
   "execution_count": 101,
   "id": "02b70026-3fed-4bf3-bc98-534dcf6dc886",
   "metadata": {},
   "outputs": [],
   "source": [
    "def get_other_columns(df):\n",
    "    return df[['title_sentiment_compound', 'title_length', 'title_word_count',\n",
    "           'capitalized_letters_in_title', 'sentences_in_title']]\n",
    "\n",
    "get_columns_transformer = FunctionTransformer(get_other_columns, validate=False)"
   ]
  },
  {
   "cell_type": "code",
   "execution_count": 102,
   "id": "6c6b3a1f-badf-483e-9bb1-2f5e9a2ad38b",
   "metadata": {
    "tags": []
   },
   "outputs": [],
   "source": [
    "pipe_cv = Pipeline([\n",
    "    ('title_transform', get_title_transformer),\n",
    "    ('vect', CountVectorizer())\n",
    "])"
   ]
  },
  {
   "cell_type": "code",
   "execution_count": 103,
   "id": "e8e97605-d5e7-465a-90be-78080b1d1b37",
   "metadata": {},
   "outputs": [],
   "source": [
    "pipe_model = Pipeline([\n",
    "    ('feats', FeatureUnion([\n",
    "        ('vect_pipe', pipe_cv),\n",
    "        ('other_cols', get_columns_transformer)\n",
    "    ])),\n",
    "    ('log_reg', LogisticRegression())\n",
    "])"
   ]
  },
  {
   "cell_type": "code",
   "execution_count": 104,
   "id": "43393859-01d0-43c5-bcbc-65226746bcc1",
   "metadata": {
    "tags": []
   },
   "outputs": [
    {
     "name": "stdout",
     "output_type": "stream",
     "text": [
      "Fitting 5 folds for each of 2 candidates, totalling 10 fits\n",
      "0.9316410684474123\n"
     ]
    },
    {
     "data": {
      "text/plain": [
       "{'feats__vect_pipe__vect__binary': True, 'log_reg__max_iter': 1500}"
      ]
     },
     "execution_count": 104,
     "metadata": {},
     "output_type": "execute_result"
    }
   ],
   "source": [
    "param_grid = {\n",
    "    'feats__vect_pipe__vect__binary': [True, False],\n",
    "     'log_reg__max_iter': [1500]\n",
    "}\n",
    "gs = GridSearchCV(pipe_model,\n",
    "                  param_grid=param_grid,\n",
    "                  verbose=1,\n",
    "                  scoring='accuracy'\n",
    "                 )\n",
    "gs.fit(X_train, y_train)\n",
    "print(gs.best_score_)\n",
    "gs.best_params_"
   ]
  },
  {
   "cell_type": "markdown",
   "id": "8df7eb24-4705-452a-8aa4-931b9b6ef185",
   "metadata": {
    "tags": []
   },
   "source": [
    "### Evaluations"
   ]
  },
  {
   "cell_type": "code",
   "execution_count": 105,
   "id": "182723aa-aa0e-4d8e-a4d6-4500430b850f",
   "metadata": {},
   "outputs": [
    {
     "data": {
      "text/plain": [
       "0.9933311103701233"
      ]
     },
     "execution_count": 105,
     "metadata": {},
     "output_type": "execute_result"
    }
   ],
   "source": [
    "gs.score(X_train, y_train)"
   ]
  },
  {
   "cell_type": "code",
   "execution_count": 106,
   "id": "8ebb6b44-f1bf-4d4c-a82e-f5ea3c1fa0dc",
   "metadata": {},
   "outputs": [
    {
     "data": {
      "text/plain": [
       "0.933"
      ]
     },
     "execution_count": 106,
     "metadata": {},
     "output_type": "execute_result"
    }
   ],
   "source": [
    "gs.score(X_test, y_test)"
   ]
  },
  {
   "cell_type": "markdown",
   "id": "a1e699c6-2630-4f0d-9c6e-35b1dc2aae5e",
   "metadata": {},
   "source": [
    "#### Predictions"
   ]
  },
  {
   "cell_type": "code",
   "execution_count": 107,
   "id": "8266eb2f-ca45-4d56-be11-ec4f13b27eac",
   "metadata": {},
   "outputs": [
    {
     "data": {
      "text/plain": [
       "array([1, 0, 1, 0, 0, 0, 1, 1, 1, 0])"
      ]
     },
     "execution_count": 107,
     "metadata": {},
     "output_type": "execute_result"
    }
   ],
   "source": [
    "preds = gs.predict(X_test)\n",
    "preds[:10]"
   ]
  },
  {
   "cell_type": "markdown",
   "id": "d4ac2d95-ec56-4f7c-957a-3fb991cd01b0",
   "metadata": {},
   "source": [
    "#### Model Evaluation"
   ]
  },
  {
   "cell_type": "code",
   "execution_count": 108,
   "id": "d48430d0-fc42-4a3c-8284-af344ff7b0c3",
   "metadata": {},
   "outputs": [
    {
     "data": {
      "image/png": "[encoded data removed]",
      "text/plain": [
       "<Figure size 432x288 with 2 Axes>"
      ]
     },
     "metadata": {
      "needs_background": "light"
     },
     "output_type": "display_data"
    }
   ],
   "source": [
    "plot_confusion_matrix(gs, X_test, y_test, cmap='terrain', display_labels=['Ultrarunning', 'Backpacking'])\n",
    "plt.title('Confusion Matrix\\nLogistic Regression', fontdict = {'fontsize':12})\n",
    "plt.savefig(\"../graphics/model_three_lr_confusion_matrix.jpg\", bbox_inches=\"tight\", dpi=100); #save as jpg"
   ]
  },
  {
   "cell_type": "code",
   "execution_count": 109,
   "id": "1386a7b0-e12c-49e5-8296-3e6f3a3bc7ae",
   "metadata": {},
   "outputs": [
    {
     "name": "stdout",
     "output_type": "stream",
     "text": [
      "TN = 428\n",
      "FP = 53\n",
      "FN = 14\n",
      "TP = 505\n"
     ]
    }
   ],
   "source": [
    "from sklearn.metrics import confusion_matrix\n",
    "tn, fp, fn, tp = confusion_matrix(y_test, preds).ravel()\n",
    "\n",
    "print(f'TN = {tn}')\n",
    "print(f'FP = {fp}')\n",
    "print(f'FN = {fn}')\n",
    "print(f'TP = {tp}')"
   ]
  },
  {
   "cell_type": "code",
   "execution_count": 110,
   "id": "c2619d8b-02ab-4b30-a39f-08c55d239d4a",
   "metadata": {},
   "outputs": [
    {
     "data": {
      "text/plain": [
       "0.933"
      ]
     },
     "execution_count": 110,
     "metadata": {},
     "output_type": "execute_result"
    }
   ],
   "source": [
    "metrics.accuracy_score(y_test, preds)"
   ]
  },
  {
   "cell_type": "code",
   "execution_count": 111,
   "id": "9ad5ae3d-6700-4641-86c7-9dd2dcee515a",
   "metadata": {},
   "outputs": [
    {
     "name": "stdout",
     "output_type": "stream",
     "text": [
      "              precision    recall  f1-score   support\n",
      "\n",
      "           0       0.97      0.89      0.93       481\n",
      "           1       0.91      0.97      0.94       519\n",
      "\n",
      "    accuracy                           0.93      1000\n",
      "   macro avg       0.94      0.93      0.93      1000\n",
      "weighted avg       0.94      0.93      0.93      1000\n",
      "\n"
     ]
    }
   ],
   "source": [
    "print(classification_report(y_test, preds))"
   ]
  },
  {
   "cell_type": "code",
   "execution_count": 112,
   "id": "c479975e-8714-458c-9320-4ffa501333e7",
   "metadata": {},
   "outputs": [
    {
     "data": {
      "image/png": "[encoded data removed]",
      "text/plain": [
       "<Figure size 432x288 with 1 Axes>"
      ]
     },
     "metadata": {
      "needs_background": "light"
     },
     "output_type": "display_data"
    }
   ],
   "source": [
    "plot_roc_curve(gs, X_test, y_test)\n",
    "plt.savefig(\"../graphics/model_three_lr_roc_curve.jpg\", bbox_inches=\"tight\", dpi=100); #save as jpg"
   ]
  },
  {
   "cell_type": "markdown",
   "id": "f37689f2-42e3-4ea5-a3c0-b93029182304",
   "metadata": {
    "tags": []
   },
   "source": [
    "### Coefficients\n",
    "Interpreted as, for each instance of the word \"backpacking\" it's 10.9x more likely to be your positive class (backpacking) vs your negative class (ultrarunning)"
   ]
  },
  {
   "cell_type": "code",
   "execution_count": 113,
   "id": "4cfd322f-349f-466c-99bc-7490abd67419",
   "metadata": {},
   "outputs": [],
   "source": [
    "coef = gs.best_estimator_.named_steps['log_reg'].coef_ # get coefficients\n",
    "features = gs.best_estimator_.named_steps['feats'].transformer_list[0][1].named_steps['vect'].get_feature_names() #get feature names\n",
    "zipped = zip(coef[0], features) #zip them together\n",
    "lst = list(zipped) #turn zip object into a list\n",
    "coef_df = pd.DataFrame(lst) # turn list into a df\n",
    "coef_df[0] = np.exp(coef_df[0]) # because logistic regression puts the coefficients on a log scale, you have to do this."
   ]
  },
  {
   "cell_type": "code",
   "execution_count": 114,
   "id": "22ec5135-ec1b-4b1f-b814-6b85ce19e455",
   "metadata": {},
   "outputs": [
    {
     "data": {
      "text/html": [
       "<div>\n",
       "<style scoped>\n",
       "    .dataframe tbody tr th:only-of-type {\n",
       "        vertical-align: middle;\n",
       "    }\n",
       "\n",
       "    .dataframe tbody tr th {\n",
       "        vertical-align: top;\n",
       "    }\n",
       "\n",
       "    .dataframe thead th {\n",
       "        text-align: right;\n",
       "    }\n",
       "</style>\n",
       "<table border=\"1\" class=\"dataframe\">\n",
       "  <thead>\n",
       "    <tr style=\"text-align: right;\">\n",
       "      <th></th>\n",
       "      <th>0</th>\n",
       "      <th>1</th>\n",
       "    </tr>\n",
       "  </thead>\n",
       "  <tbody>\n",
       "    <tr>\n",
       "      <th>2156</th>\n",
       "      <td>11.056749</td>\n",
       "      <td>backpacking</td>\n",
       "    </tr>\n",
       "    <tr>\n",
       "      <th>13635</th>\n",
       "      <td>5.594199</td>\n",
       "      <td>travel</td>\n",
       "    </tr>\n",
       "    <tr>\n",
       "      <th>6707</th>\n",
       "      <td>5.215689</td>\n",
       "      <td>hike</td>\n",
       "    </tr>\n",
       "    <tr>\n",
       "      <th>13721</th>\n",
       "      <td>4.850473</td>\n",
       "      <td>trip</td>\n",
       "    </tr>\n",
       "    <tr>\n",
       "      <th>2151</th>\n",
       "      <td>3.981651</td>\n",
       "      <td>backpack</td>\n",
       "    </tr>\n",
       "    <tr>\n",
       "      <th>...</th>\n",
       "      <td>...</td>\n",
       "      <td>...</td>\n",
       "    </tr>\n",
       "    <tr>\n",
       "      <th>13592</th>\n",
       "      <td>0.116115</td>\n",
       "      <td>training</td>\n",
       "    </tr>\n",
       "    <tr>\n",
       "      <th>11405</th>\n",
       "      <td>0.086697</td>\n",
       "      <td>run</td>\n",
       "    </tr>\n",
       "    <tr>\n",
       "      <th>13866</th>\n",
       "      <td>0.080508</td>\n",
       "      <td>ultra</td>\n",
       "    </tr>\n",
       "    <tr>\n",
       "      <th>10661</th>\n",
       "      <td>0.080120</td>\n",
       "      <td>race</td>\n",
       "    </tr>\n",
       "    <tr>\n",
       "      <th>11418</th>\n",
       "      <td>0.042326</td>\n",
       "      <td>running</td>\n",
       "    </tr>\n",
       "  </tbody>\n",
       "</table>\n",
       "<p>15023 rows × 2 columns</p>\n",
       "</div>"
      ],
      "text/plain": [
       "               0            1\n",
       "2156   11.056749  backpacking\n",
       "13635   5.594199       travel\n",
       "6707    5.215689         hike\n",
       "13721   4.850473         trip\n",
       "2151    3.981651     backpack\n",
       "...          ...          ...\n",
       "13592   0.116115     training\n",
       "11405   0.086697          run\n",
       "13866   0.080508        ultra\n",
       "10661   0.080120         race\n",
       "11418   0.042326      running\n",
       "\n",
       "[15023 rows x 2 columns]"
      ]
     },
     "execution_count": 114,
     "metadata": {},
     "output_type": "execute_result"
    }
   ],
   "source": [
    "coef_df.sort_values(by = 0, ascending=False)"
   ]
  },
  {
   "cell_type": "code",
   "execution_count": 115,
   "id": "b1253689-0df6-4c31-97ae-2f78ec0e2f9f",
   "metadata": {},
   "outputs": [
    {
     "data": {
      "text/html": [
       "<div>\n",
       "<style scoped>\n",
       "    .dataframe tbody tr th:only-of-type {\n",
       "        vertical-align: middle;\n",
       "    }\n",
       "\n",
       "    .dataframe tbody tr th {\n",
       "        vertical-align: top;\n",
       "    }\n",
       "\n",
       "    .dataframe thead th {\n",
       "        text-align: right;\n",
       "    }\n",
       "</style>\n",
       "<table border=\"1\" class=\"dataframe\">\n",
       "  <thead>\n",
       "    <tr style=\"text-align: right;\">\n",
       "      <th></th>\n",
       "      <th>0</th>\n",
       "      <th>1</th>\n",
       "    </tr>\n",
       "  </thead>\n",
       "  <tbody>\n",
       "    <tr>\n",
       "      <th>2064</th>\n",
       "      <td>2.412581</td>\n",
       "      <td>australia</td>\n",
       "    </tr>\n",
       "    <tr>\n",
       "      <th>2961</th>\n",
       "      <td>2.847478</td>\n",
       "      <td>camp</td>\n",
       "    </tr>\n",
       "    <tr>\n",
       "      <th>7152</th>\n",
       "      <td>2.858506</td>\n",
       "      <td>india</td>\n",
       "    </tr>\n",
       "    <tr>\n",
       "      <th>11031</th>\n",
       "      <td>3.263461</td>\n",
       "      <td>removed</td>\n",
       "    </tr>\n",
       "    <tr>\n",
       "      <th>6712</th>\n",
       "      <td>3.448559</td>\n",
       "      <td>hiking</td>\n",
       "    </tr>\n",
       "    <tr>\n",
       "      <th>2151</th>\n",
       "      <td>3.981651</td>\n",
       "      <td>backpack</td>\n",
       "    </tr>\n",
       "    <tr>\n",
       "      <th>13721</th>\n",
       "      <td>4.850473</td>\n",
       "      <td>trip</td>\n",
       "    </tr>\n",
       "    <tr>\n",
       "      <th>6707</th>\n",
       "      <td>5.215689</td>\n",
       "      <td>hike</td>\n",
       "    </tr>\n",
       "    <tr>\n",
       "      <th>13635</th>\n",
       "      <td>5.594199</td>\n",
       "      <td>travel</td>\n",
       "    </tr>\n",
       "    <tr>\n",
       "      <th>2156</th>\n",
       "      <td>11.056749</td>\n",
       "      <td>backpacking</td>\n",
       "    </tr>\n",
       "  </tbody>\n",
       "</table>\n",
       "</div>"
      ],
      "text/plain": [
       "               0            1\n",
       "2064    2.412581    australia\n",
       "2961    2.847478         camp\n",
       "7152    2.858506        india\n",
       "11031   3.263461      removed\n",
       "6712    3.448559       hiking\n",
       "2151    3.981651     backpack\n",
       "13721   4.850473         trip\n",
       "6707    5.215689         hike\n",
       "13635   5.594199       travel\n",
       "2156   11.056749  backpacking"
      ]
     },
     "execution_count": 115,
     "metadata": {},
     "output_type": "execute_result"
    }
   ],
   "source": [
    "top_ten_pos_class = coef_df.sort_values(by=0, ascending=True).tail(10)\n",
    "top_ten_pos_class"
   ]
  },
  {
   "cell_type": "code",
   "execution_count": 116,
   "id": "fc1255e6-a2b9-426c-980b-684f93d78b7a",
   "metadata": {},
   "outputs": [
    {
     "data": {
      "image/png": "[encoded data removed]",
      "text/plain": [
       "<Figure size 864x432 with 1 Axes>"
      ]
     },
     "metadata": {
      "needs_background": "light"
     },
     "output_type": "display_data"
    }
   ],
   "source": [
    "plt.figure(figsize=(12,6))\n",
    "best_pred_sust = top_ten_pos_class.sort_values(by=0, ascending=False).head(15)\n",
    "best_pred_sust = top_ten_pos_class.sort_values(by=0, ascending=True).tail(15)\n",
    "x = best_pred_sust[1]\n",
    "y = best_pred_sust[0]\n",
    "plt.barh(x,y, color = '#097a80')\n",
    "plt.xlabel('Coefficient', fontdict= {'fontsize':14})\n",
    "plt.ylabel('Most Impactful Words', fontdict= {'fontsize':14})\n",
    "plt.title('Best Predictors For Backpacking Subreddit', fontdict = {'fontsize':16})\n",
    "plt.tight_layout()\n",
    "plt.savefig(\"../graphics/model_three_lr_Top10_backpacking_coef.jpg\", bbox_inches=\"tight\", dpi=100); #save as jpg;"
   ]
  },
  {
   "cell_type": "code",
   "execution_count": 117,
   "id": "f674797f-a318-488c-9c9f-7387a5d34203",
   "metadata": {},
   "outputs": [
    {
     "data": {
      "text/html": [
       "<div>\n",
       "<style scoped>\n",
       "    .dataframe tbody tr th:only-of-type {\n",
       "        vertical-align: middle;\n",
       "    }\n",
       "\n",
       "    .dataframe tbody tr th {\n",
       "        vertical-align: top;\n",
       "    }\n",
       "\n",
       "    .dataframe thead th {\n",
       "        text-align: right;\n",
       "    }\n",
       "</style>\n",
       "<table border=\"1\" class=\"dataframe\">\n",
       "  <thead>\n",
       "    <tr style=\"text-align: right;\">\n",
       "      <th></th>\n",
       "      <th>0</th>\n",
       "      <th>1</th>\n",
       "    </tr>\n",
       "  </thead>\n",
       "  <tbody>\n",
       "    <tr>\n",
       "      <th>47</th>\n",
       "      <td>0.200765</td>\n",
       "      <td>100</td>\n",
       "    </tr>\n",
       "    <tr>\n",
       "      <th>13888</th>\n",
       "      <td>0.198135</td>\n",
       "      <td>ultras</td>\n",
       "    </tr>\n",
       "    <tr>\n",
       "      <th>13886</th>\n",
       "      <td>0.188397</td>\n",
       "      <td>ultrarunning</td>\n",
       "    </tr>\n",
       "    <tr>\n",
       "      <th>895</th>\n",
       "      <td>0.187081</td>\n",
       "      <td>50k</td>\n",
       "    </tr>\n",
       "    <tr>\n",
       "      <th>11414</th>\n",
       "      <td>0.147891</td>\n",
       "      <td>runners</td>\n",
       "    </tr>\n",
       "    <tr>\n",
       "      <th>13592</th>\n",
       "      <td>0.116115</td>\n",
       "      <td>training</td>\n",
       "    </tr>\n",
       "    <tr>\n",
       "      <th>11405</th>\n",
       "      <td>0.086697</td>\n",
       "      <td>run</td>\n",
       "    </tr>\n",
       "    <tr>\n",
       "      <th>13866</th>\n",
       "      <td>0.080508</td>\n",
       "      <td>ultra</td>\n",
       "    </tr>\n",
       "    <tr>\n",
       "      <th>10661</th>\n",
       "      <td>0.080120</td>\n",
       "      <td>race</td>\n",
       "    </tr>\n",
       "    <tr>\n",
       "      <th>11418</th>\n",
       "      <td>0.042326</td>\n",
       "      <td>running</td>\n",
       "    </tr>\n",
       "  </tbody>\n",
       "</table>\n",
       "</div>"
      ],
      "text/plain": [
       "              0             1\n",
       "47     0.200765           100\n",
       "13888  0.198135        ultras\n",
       "13886  0.188397  ultrarunning\n",
       "895    0.187081           50k\n",
       "11414  0.147891       runners\n",
       "13592  0.116115      training\n",
       "11405  0.086697           run\n",
       "13866  0.080508         ultra\n",
       "10661  0.080120          race\n",
       "11418  0.042326       running"
      ]
     },
     "execution_count": 117,
     "metadata": {},
     "output_type": "execute_result"
    }
   ],
   "source": [
    "top_ten_neg_class = coef_df.sort_values(by=0, ascending=False).tail(10)\n",
    "top_ten_neg_class"
   ]
  },
  {
   "cell_type": "code",
   "execution_count": 118,
   "id": "e5953da9-718b-45fd-ac05-cb9e3ecc49c4",
   "metadata": {},
   "outputs": [
    {
     "data": {
      "image/png": "[encoded data removed]",
      "text/plain": [
       "<Figure size 864x432 with 1 Axes>"
      ]
     },
     "metadata": {
      "needs_background": "light"
     },
     "output_type": "display_data"
    }
   ],
   "source": [
    "plt.figure(figsize=(12,6))\n",
    "best_pred_sust = top_ten_neg_class.sort_values(by=0, ascending=False).head(15)\n",
    "best_pred_sust = top_ten_neg_class.sort_values(by=0, ascending=True).tail(15)\n",
    "x = best_pred_sust[1]\n",
    "y = best_pred_sust[0]\n",
    "plt.barh(x,y, color = '#80097a')\n",
    "plt.xlabel('Coefficient', fontdict= {'fontsize':14})\n",
    "plt.ylabel('Most Impactful Words', fontdict= {'fontsize':14})\n",
    "plt.title('Best Predictors For Ultrarunning Subreddit', fontdict = {'fontsize':16})\n",
    "plt.tight_layout()\n",
    "plt.savefig(\"../graphics/model_three_lr_Top10_ultrarunning_coef.jpg\", bbox_inches=\"tight\", dpi=100); #save as jpg;"
   ]
  },
  {
   "cell_type": "markdown",
   "id": "14efa13f-6144-41b5-9661-af2f7afa7a42",
   "metadata": {
    "tags": []
   },
   "source": [
    "### Analyzing Misclassified Predictions"
   ]
  },
  {
   "cell_type": "code",
   "execution_count": 119,
   "id": "1b301652-8e33-42a4-ae89-60945f55655c",
   "metadata": {},
   "outputs": [],
   "source": [
    "misclassified = X_test[y_test != preds]\n",
    "\n",
    "misclass_subreddit = pd.merge(misclassified, df['subreddit'], left_index=True, right_index=True)"
   ]
  },
  {
   "cell_type": "code",
   "execution_count": 120,
   "id": "36b7cff0-097e-44bb-b483-def992ef254d",
   "metadata": {},
   "outputs": [
    {
     "data": {
      "image/png": "[encoded data removed]",
      "text/plain": [
       "<Figure size 1440x864 with 12 Axes>"
      ]
     },
     "metadata": {
      "needs_background": "light"
     },
     "output_type": "display_data"
    }
   ],
   "source": [
    "# Looking at the distribution of posts by feature from the Ultrarunning subreddit that were misclassified\n",
    "\n",
    "ultrarunning_misclassified = misclass_subreddit[misclass_subreddit['subreddit'] == 0]\n",
    "ultrarunning_misclassified.hist(figsize=(20,12));"
   ]
  },
  {
   "cell_type": "code",
   "execution_count": 121,
   "id": "2d3a6385-dfaa-4a42-aad9-9111d740f88b",
   "metadata": {},
   "outputs": [
    {
     "data": {
      "image/png": "[encoded data removed]",
      "text/plain": [
       "<Figure size 1440x864 with 12 Axes>"
      ]
     },
     "metadata": {
      "needs_background": "light"
     },
     "output_type": "display_data"
    }
   ],
   "source": [
    "# Looking at the distribution of posts by feature from the Backpacking subreddit that were misclassified\n",
    "\n",
    "backpacking_misclassified = misclass_subreddit[misclass_subreddit['subreddit'] == 1]\n",
    "backpacking_misclassified.hist(figsize=(20,12));"
   ]
  },
  {
   "cell_type": "code",
   "execution_count": 122,
   "id": "630d234b-e482-44f0-b88d-768e115a4854",
   "metadata": {},
   "outputs": [
    {
     "data": {
      "text/html": [
       "<style type=\"text/css\">\n",
       "#T_292bc_row0_col0, #T_292bc_row1_col0, #T_292bc_row2_col0, #T_292bc_row3_col0 {\n",
       "  width: 600px;\n",
       "}\n",
       "</style>\n",
       "<table id=\"T_292bc_\">\n",
       "  <thead>\n",
       "    <tr>\n",
       "      <th class=\"blank level0\" >&nbsp;</th>\n",
       "      <th class=\"col_heading level0 col0\" >title_merge</th>\n",
       "    </tr>\n",
       "  </thead>\n",
       "  <tbody>\n",
       "    <tr>\n",
       "      <th id=\"T_292bc_level0_row0\" class=\"row_heading level0 row0\" >1178</th>\n",
       "      <td id=\"T_292bc_row0_col0\" class=\"data row0 col0\" >My lighting kit for all overnight trips. What do you all bring and why? </td>\n",
       "    </tr>\n",
       "    <tr>\n",
       "      <th id=\"T_292bc_level0_row1\" class=\"row_heading level0 row1\" >729</th>\n",
       "      <td id=\"T_292bc_row1_col0\" class=\"data row1 col0\" >What kind of pillow do you use, and what other types have you tried? What kind of pillow do you usually use lately, and what types of you used in the past? What didn't you like about those that you like about your current pillow?\n",
       "\n",
       "Thanks</td>\n",
       "    </tr>\n",
       "    <tr>\n",
       "      <th id=\"T_292bc_level0_row2\" class=\"row_heading level0 row2\" >298</th>\n",
       "      <td id=\"T_292bc_row2_col0\" class=\"data row2 col0\" >Who else has tried this insane incline?? </td>\n",
       "    </tr>\n",
       "    <tr>\n",
       "      <th id=\"T_292bc_level0_row3\" class=\"row_heading level0 row3\" >283</th>\n",
       "      <td id=\"T_292bc_row3_col0\" class=\"data row3 col0\" >recs for filtering bottles like nalgene's everyday type, but no straw? Or that don't use a soft straw if they do use a straw? \n",
       "\n",
       "mainly need to filter tap, have a multi year warranty / high durability like Grayl's 10yr, and bonus if lighter than stainless steel.</td>\n",
       "    </tr>\n",
       "  </tbody>\n",
       "</table>\n"
      ],
      "text/plain": [
       "<pandas.io.formats.style.Styler at 0x7fa831d4d2e0>"
      ]
     },
     "execution_count": 122,
     "metadata": {},
     "output_type": "execute_result"
    }
   ],
   "source": [
    "pd.set_option('display.max_rows', 500)\n",
    "backpacking_misclassified_subset = backpacking_misclassified[['title_merge']].loc[[1178, 729, 298, 283]]\n",
    "backpacking_misclassified_subset[['title_merge']].style.set_properties(subset=['title_merge'], **{'width': '600px'})"
   ]
  },
  {
   "cell_type": "code",
   "execution_count": null,
   "id": "d9c565a5-5af3-4c5d-aa6b-2ceb86e161b6",
   "metadata": {},
   "outputs": [],
   "source": []
  }
 ],
 "metadata": {
  "kernelspec": {
   "display_name": "Python 3 (ipykernel)",
   "language": "python",
   "name": "python3"
  },
  "language_info": {
   "codemirror_mode": {
    "name": "ipython",
    "version": 3
   },
   "file_extension": ".py",
   "mimetype": "text/x-python",
   "name": "python",
   "nbconvert_exporter": "python",
   "pygments_lexer": "ipython3",
   "version": "3.9.7"
  }
 },
 "nbformat": 4,
 "nbformat_minor": 5
}
