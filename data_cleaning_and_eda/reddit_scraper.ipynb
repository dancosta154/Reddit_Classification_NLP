{
 "cells": [
  {
   "cell_type": "markdown",
   "id": "d81be881-0745-4d4c-b4ab-137b7546619d",
   "metadata": {},
   "source": [
    "## Notebook Description\n",
    "This notebook is dedicated to scraping posts from Reddit, for the Backpacking and Ultrarunning subreddits, then saving the output .csv in the `raw_data` folder."
   ]
  },
  {
   "cell_type": "code",
   "execution_count": 1,
   "id": "63230c76-a0a5-4839-867b-c85bc9e42632",
   "metadata": {},
   "outputs": [],
   "source": [
    "import time\n",
    "import requests\n",
    "import pandas as pd"
   ]
  },
  {
   "cell_type": "code",
   "execution_count": 2,
   "id": "07144c18-335a-41d1-98de-9d8c70f8bcf0",
   "metadata": {},
   "outputs": [
    {
     "name": "stdout",
     "output_type": "stream",
     "text": [
      "Scraped 100 posts for the backpacking subreddit\n",
      "Scraped 200 posts for the backpacking subreddit\n",
      "Scraped 300 posts for the backpacking subreddit\n",
      "Scraped 400 posts for the backpacking subreddit\n",
      "Scraped 500 posts for the backpacking subreddit\n",
      "Scraped 600 posts for the backpacking subreddit\n",
      "Scraped 700 posts for the backpacking subreddit\n",
      "Scraped 800 posts for the backpacking subreddit\n",
      "Scraped 900 posts for the backpacking subreddit\n",
      "Scraped 1000 posts for the backpacking subreddit\n",
      "Scraped 1100 posts for the backpacking subreddit\n",
      "Scraped 1200 posts for the backpacking subreddit\n",
      "Scraped 1300 posts for the backpacking subreddit\n",
      "Scraped 1400 posts for the backpacking subreddit\n",
      "Scraped 1500 posts for the backpacking subreddit\n",
      "Scraped 1600 posts for the backpacking subreddit\n",
      "Scraped 1700 posts for the backpacking subreddit\n",
      "Scraped 1800 posts for the backpacking subreddit\n",
      "Scraped 1900 posts for the backpacking subreddit\n",
      "Scraped 2000 posts for the backpacking subreddit\n",
      "Scraped 100 posts for the ultrarunning subreddit\n",
      "Scraped 200 posts for the ultrarunning subreddit\n",
      "Scraped 300 posts for the ultrarunning subreddit\n",
      "Scraped 400 posts for the ultrarunning subreddit\n",
      "Scraped 500 posts for the ultrarunning subreddit\n",
      "Scraped 600 posts for the ultrarunning subreddit\n",
      "Scraped 700 posts for the ultrarunning subreddit\n",
      "Scraped 800 posts for the ultrarunning subreddit\n",
      "Scraped 900 posts for the ultrarunning subreddit\n",
      "Scraped 1000 posts for the ultrarunning subreddit\n",
      "Scraped 1100 posts for the ultrarunning subreddit\n",
      "Scraped 1200 posts for the ultrarunning subreddit\n",
      "Scraped 1300 posts for the ultrarunning subreddit\n",
      "Scraped 1400 posts for the ultrarunning subreddit\n",
      "Scraped 1500 posts for the ultrarunning subreddit\n",
      "Scraped 1600 posts for the ultrarunning subreddit\n",
      "Scraped 1700 posts for the ultrarunning subreddit\n",
      "Scraped 1800 posts for the ultrarunning subreddit\n",
      "Scraped 1900 posts for the ultrarunning subreddit\n",
      "Scraped 2000 posts for the ultrarunning subreddit\n"
     ]
    }
   ],
   "source": [
    "# This scraper is at the mercy of the pushshift API, which at the time of submitting this project, was down and providing a 521 error\n",
    "\n",
    "base_url = 'https://api.pushshift.io/reddit'\n",
    "dfs = []\n",
    "subreddits = ['backpacking', 'ultrarunning']\n",
    "for subreddit in subreddits:\n",
    "    # Set before to be current time\n",
    "    before = int(time.time()) # now\n",
    "    for i in range(1, 21): # Keep range small until things are working as expected\n",
    "        # create params: before, subreddit, size\n",
    "        params = {\n",
    "            'subreddit': subreddit,\n",
    "            'size': 100,\n",
    "            'before': before\n",
    "        }\n",
    "        # use the requests to get the response\n",
    "        res = requests.get(base_url + '/search/submission/?', params=params)\n",
    "        # if requests == 200\n",
    "        if res.status_code == 200:\n",
    "        # turn the response into JSON\n",
    "            df = res.json()\n",
    "            # turn the JSON into a DataFrame\n",
    "            posts = pd.DataFrame(df['data'])[['title', 'selftext', 'subreddit', 'created_utc']]\n",
    "            # add posts DataFrame to dfs\n",
    "            dfs.append(posts)\n",
    "        # set before to be the timestamp of the last post\n",
    "        print(f'Scraped {i * 100} posts for the {subreddit} subreddit')\n",
    "        before = posts['created_utc'].values[-1]\n",
    "        # space out requests to 3 second intervals - Super important!\n",
    "        time.sleep(3)\n",
    "        \n",
    "# concat all dfs\n",
    "df = pd.concat(dfs, ignore_index=True)"
   ]
  },
  {
   "cell_type": "code",
   "execution_count": 3,
   "id": "988d9e0f-bbd2-4fd7-8546-5ff2362b77ee",
   "metadata": {},
   "outputs": [
    {
     "data": {
      "text/plain": [
       "ultrarunning    2000\n",
       "backpacking     1999\n",
       "Name: subreddit, dtype: int64"
      ]
     },
     "execution_count": 3,
     "metadata": {},
     "output_type": "execute_result"
    }
   ],
   "source": [
    "df['subreddit'].value_counts()"
   ]
  },
  {
   "cell_type": "code",
   "execution_count": 4,
   "id": "1f87db5f-e6c1-45fa-9d4d-a9427bae1fb1",
   "metadata": {},
   "outputs": [
    {
     "data": {
      "text/html": [
       "<div>\n",
       "<style scoped>\n",
       "    .dataframe tbody tr th:only-of-type {\n",
       "        vertical-align: middle;\n",
       "    }\n",
       "\n",
       "    .dataframe tbody tr th {\n",
       "        vertical-align: top;\n",
       "    }\n",
       "\n",
       "    .dataframe thead th {\n",
       "        text-align: right;\n",
       "    }\n",
       "</style>\n",
       "<table border=\"1\" class=\"dataframe\">\n",
       "  <thead>\n",
       "    <tr style=\"text-align: right;\">\n",
       "      <th></th>\n",
       "      <th>title</th>\n",
       "      <th>selftext</th>\n",
       "      <th>subreddit</th>\n",
       "      <th>created_utc</th>\n",
       "    </tr>\n",
       "  </thead>\n",
       "  <tbody>\n",
       "    <tr>\n",
       "      <th>0</th>\n",
       "      <td>We’d comfort in the back country? Check these ...</td>\n",
       "      <td></td>\n",
       "      <td>backpacking</td>\n",
       "      <td>1646363240</td>\n",
       "    </tr>\n",
       "    <tr>\n",
       "      <th>1</th>\n",
       "      <td>Finding water on the trail</td>\n",
       "      <td>Yo waddup every1, I was wondering how I might ...</td>\n",
       "      <td>backpacking</td>\n",
       "      <td>1646363128</td>\n",
       "    </tr>\n",
       "    <tr>\n",
       "      <th>2</th>\n",
       "      <td>Pacing Tips</td>\n",
       "      <td>Hey y'all! I've just been backpacking in Mexic...</td>\n",
       "      <td>backpacking</td>\n",
       "      <td>1646359058</td>\n",
       "    </tr>\n",
       "    <tr>\n",
       "      <th>3</th>\n",
       "      <td>Fes Morocco 5 hr layover</td>\n",
       "      <td>[removed]</td>\n",
       "      <td>backpacking</td>\n",
       "      <td>1646358302</td>\n",
       "    </tr>\n",
       "    <tr>\n",
       "      <th>4</th>\n",
       "      <td>Hi all, I have a favor to ask. I designed a mo...</td>\n",
       "      <td></td>\n",
       "      <td>backpacking</td>\n",
       "      <td>1646356995</td>\n",
       "    </tr>\n",
       "  </tbody>\n",
       "</table>\n",
       "</div>"
      ],
      "text/plain": [
       "                                               title  \\\n",
       "0  We’d comfort in the back country? Check these ...   \n",
       "1                         Finding water on the trail   \n",
       "2                                        Pacing Tips   \n",
       "3                           Fes Morocco 5 hr layover   \n",
       "4  Hi all, I have a favor to ask. I designed a mo...   \n",
       "\n",
       "                                            selftext    subreddit  created_utc  \n",
       "0                                                     backpacking   1646363240  \n",
       "1  Yo waddup every1, I was wondering how I might ...  backpacking   1646363128  \n",
       "2  Hey y'all! I've just been backpacking in Mexic...  backpacking   1646359058  \n",
       "3                                          [removed]  backpacking   1646358302  \n",
       "4                                                     backpacking   1646356995  "
      ]
     },
     "execution_count": 4,
     "metadata": {},
     "output_type": "execute_result"
    }
   ],
   "source": [
    "df.head()"
   ]
  },
  {
   "cell_type": "code",
   "execution_count": 5,
   "id": "1dce7456-296a-4f81-8e7d-8e17a6c5bf45",
   "metadata": {},
   "outputs": [],
   "source": [
    "# write df to CSV\n",
    "df.to_csv('../raw_data/reddit.csv', index=0)"
   ]
  },
  {
   "cell_type": "code",
   "execution_count": null,
   "id": "007d09ee-a5af-4fcf-be1d-4668b866d9de",
   "metadata": {},
   "outputs": [],
   "source": []
  }
 ],
 "metadata": {
  "kernelspec": {
   "display_name": "Python 3 (ipykernel)",
   "language": "python",
   "name": "python3"
  },
  "language_info": {
   "codemirror_mode": {
    "name": "ipython",
    "version": 3
   },
   "file_extension": ".py",
   "mimetype": "text/x-python",
   "name": "python",
   "nbconvert_exporter": "python",
   "pygments_lexer": "ipython3",
   "version": "3.9.7"
  }
 },
 "nbformat": 4,
 "nbformat_minor": 5
}
