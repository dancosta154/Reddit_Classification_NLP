{
 "cells": [
  {
   "cell_type": "markdown",
   "id": "a649c916-1481-4dcc-8d40-f05dd167ff84",
   "metadata": {},
   "source": [
    "## Notebook Description\n",
    "This notebook is dedicated to cleaning the raw data then saving the cleaned CSV to the `clean_data` folder"
   ]
  },
  {
   "cell_type": "code",
   "execution_count": 1,
   "id": "7b4b0856-6317-48c5-bdaa-21f2f8987466",
   "metadata": {},
   "outputs": [],
   "source": [
    "import pandas as pd\n",
    "import numpy as np"
   ]
  },
  {
   "cell_type": "markdown",
   "id": "d00e698b-befa-417a-bbcc-d45755627131",
   "metadata": {},
   "source": [
    "# Loading Data"
   ]
  },
  {
   "cell_type": "code",
   "execution_count": 2,
   "id": "55ae2b02-2e17-42be-98e3-34d25aa0e49d",
   "metadata": {},
   "outputs": [
    {
     "data": {
      "text/html": [
       "<div>\n",
       "<style scoped>\n",
       "    .dataframe tbody tr th:only-of-type {\n",
       "        vertical-align: middle;\n",
       "    }\n",
       "\n",
       "    .dataframe tbody tr th {\n",
       "        vertical-align: top;\n",
       "    }\n",
       "\n",
       "    .dataframe thead th {\n",
       "        text-align: right;\n",
       "    }\n",
       "</style>\n",
       "<table border=\"1\" class=\"dataframe\">\n",
       "  <thead>\n",
       "    <tr style=\"text-align: right;\">\n",
       "      <th></th>\n",
       "      <th>title</th>\n",
       "      <th>selftext</th>\n",
       "      <th>subreddit</th>\n",
       "      <th>created_utc</th>\n",
       "    </tr>\n",
       "  </thead>\n",
       "  <tbody>\n",
       "    <tr>\n",
       "      <th>0</th>\n",
       "      <td>Where to backpack 4 nights in Utah, Arizona, o...</td>\n",
       "      <td>Hello Reddit folks! Four of my friends and I a...</td>\n",
       "      <td>backpacking</td>\n",
       "      <td>1646011972</td>\n",
       "    </tr>\n",
       "    <tr>\n",
       "      <th>1</th>\n",
       "      <td>Peace Walls, Belfast</td>\n",
       "      <td>NaN</td>\n",
       "      <td>backpacking</td>\n",
       "      <td>1646007041</td>\n",
       "    </tr>\n",
       "    <tr>\n",
       "      <th>2</th>\n",
       "      <td>How To Mount Snowshoes On Osprey Talon 22 Back...</td>\n",
       "      <td>The backpack is fairly small, but the suspensi...</td>\n",
       "      <td>backpacking</td>\n",
       "      <td>1646005307</td>\n",
       "    </tr>\n",
       "    <tr>\n",
       "      <th>3</th>\n",
       "      <td>Bringing dog to Kearsarge pass?</td>\n",
       "      <td>[removed]</td>\n",
       "      <td>backpacking</td>\n",
       "      <td>1646004876</td>\n",
       "    </tr>\n",
       "    <tr>\n",
       "      <th>4</th>\n",
       "      <td>Mid 30s short trip to Thailand - Bangkok &amp;amp;...</td>\n",
       "      <td>My husband and I plan to go to Thailand for a ...</td>\n",
       "      <td>backpacking</td>\n",
       "      <td>1646000495</td>\n",
       "    </tr>\n",
       "  </tbody>\n",
       "</table>\n",
       "</div>"
      ],
      "text/plain": [
       "                                               title  \\\n",
       "0  Where to backpack 4 nights in Utah, Arizona, o...   \n",
       "1                               Peace Walls, Belfast   \n",
       "2  How To Mount Snowshoes On Osprey Talon 22 Back...   \n",
       "3                    Bringing dog to Kearsarge pass?   \n",
       "4  Mid 30s short trip to Thailand - Bangkok &amp;...   \n",
       "\n",
       "                                            selftext    subreddit  created_utc  \n",
       "0  Hello Reddit folks! Four of my friends and I a...  backpacking   1646011972  \n",
       "1                                                NaN  backpacking   1646007041  \n",
       "2  The backpack is fairly small, but the suspensi...  backpacking   1646005307  \n",
       "3                                          [removed]  backpacking   1646004876  \n",
       "4  My husband and I plan to go to Thailand for a ...  backpacking   1646000495  "
      ]
     },
     "execution_count": 2,
     "metadata": {},
     "output_type": "execute_result"
    }
   ],
   "source": [
    "df = pd.read_csv('../raw_data/reddit.csv')\n",
    "df.head()"
   ]
  },
  {
   "cell_type": "markdown",
   "id": "225c826c-6322-45b8-a36e-f048ba9e6f07",
   "metadata": {},
   "source": [
    "# Data Cleaning"
   ]
  },
  {
   "cell_type": "code",
   "execution_count": 3,
   "id": "8572893a-a48b-4a19-90d8-e78e9fdff0f8",
   "metadata": {},
   "outputs": [
    {
     "data": {
      "text/plain": [
       "title             0\n",
       "selftext       1431\n",
       "subreddit         0\n",
       "created_utc       0\n",
       "dtype: int64"
      ]
     },
     "execution_count": 3,
     "metadata": {},
     "output_type": "execute_result"
    }
   ],
   "source": [
    "df.isnull().sum()"
   ]
  },
  {
   "cell_type": "markdown",
   "id": "7e4d54f4-f3f3-4b66-9902-60c3a7c7f6ae",
   "metadata": {},
   "source": [
    "## Cleaning selftext column"
   ]
  },
  {
   "cell_type": "code",
   "execution_count": 4,
   "id": "af2d520c-e93d-4214-a86c-c159fa6c0d8a",
   "metadata": {},
   "outputs": [
    {
     "data": {
      "text/plain": [
       "title          0\n",
       "selftext       0\n",
       "subreddit      0\n",
       "created_utc    0\n",
       "dtype: int64"
      ]
     },
     "execution_count": 4,
     "metadata": {},
     "output_type": "execute_result"
    }
   ],
   "source": [
    "df['selftext'] = df['selftext'].fillna('')\n",
    "df.isnull().sum()"
   ]
  },
  {
   "cell_type": "code",
   "execution_count": 5,
   "id": "60de5d64-aac5-4c81-88f2-f51269951526",
   "metadata": {},
   "outputs": [
    {
     "data": {
      "text/html": [
       "<div>\n",
       "<style scoped>\n",
       "    .dataframe tbody tr th:only-of-type {\n",
       "        vertical-align: middle;\n",
       "    }\n",
       "\n",
       "    .dataframe tbody tr th {\n",
       "        vertical-align: top;\n",
       "    }\n",
       "\n",
       "    .dataframe thead th {\n",
       "        text-align: right;\n",
       "    }\n",
       "</style>\n",
       "<table border=\"1\" class=\"dataframe\">\n",
       "  <thead>\n",
       "    <tr style=\"text-align: right;\">\n",
       "      <th></th>\n",
       "      <th>title</th>\n",
       "      <th>selftext</th>\n",
       "      <th>subreddit</th>\n",
       "      <th>created_utc</th>\n",
       "    </tr>\n",
       "  </thead>\n",
       "  <tbody>\n",
       "    <tr>\n",
       "      <th>0</th>\n",
       "      <td>Where to backpack 4 nights in Utah, Arizona, o...</td>\n",
       "      <td>Hello Reddit folks! Four of my friends and I a...</td>\n",
       "      <td>backpacking</td>\n",
       "      <td>1646011972</td>\n",
       "    </tr>\n",
       "    <tr>\n",
       "      <th>1</th>\n",
       "      <td>Peace Walls, Belfast</td>\n",
       "      <td></td>\n",
       "      <td>backpacking</td>\n",
       "      <td>1646007041</td>\n",
       "    </tr>\n",
       "    <tr>\n",
       "      <th>2</th>\n",
       "      <td>How To Mount Snowshoes On Osprey Talon 22 Back...</td>\n",
       "      <td>The backpack is fairly small, but the suspensi...</td>\n",
       "      <td>backpacking</td>\n",
       "      <td>1646005307</td>\n",
       "    </tr>\n",
       "    <tr>\n",
       "      <th>3</th>\n",
       "      <td>Bringing dog to Kearsarge pass?</td>\n",
       "      <td>[removed]</td>\n",
       "      <td>backpacking</td>\n",
       "      <td>1646004876</td>\n",
       "    </tr>\n",
       "    <tr>\n",
       "      <th>4</th>\n",
       "      <td>Mid 30s short trip to Thailand - Bangkok &amp;amp;...</td>\n",
       "      <td>My husband and I plan to go to Thailand for a ...</td>\n",
       "      <td>backpacking</td>\n",
       "      <td>1646000495</td>\n",
       "    </tr>\n",
       "  </tbody>\n",
       "</table>\n",
       "</div>"
      ],
      "text/plain": [
       "                                               title  \\\n",
       "0  Where to backpack 4 nights in Utah, Arizona, o...   \n",
       "1                               Peace Walls, Belfast   \n",
       "2  How To Mount Snowshoes On Osprey Talon 22 Back...   \n",
       "3                    Bringing dog to Kearsarge pass?   \n",
       "4  Mid 30s short trip to Thailand - Bangkok &amp;...   \n",
       "\n",
       "                                            selftext    subreddit  created_utc  \n",
       "0  Hello Reddit folks! Four of my friends and I a...  backpacking   1646011972  \n",
       "1                                                     backpacking   1646007041  \n",
       "2  The backpack is fairly small, but the suspensi...  backpacking   1646005307  \n",
       "3                                          [removed]  backpacking   1646004876  \n",
       "4  My husband and I plan to go to Thailand for a ...  backpacking   1646000495  "
      ]
     },
     "execution_count": 5,
     "metadata": {},
     "output_type": "execute_result"
    }
   ],
   "source": [
    "df.head()"
   ]
  },
  {
   "cell_type": "markdown",
   "id": "35cdfaeb-a95c-4854-ab9b-0537cee66284",
   "metadata": {},
   "source": [
    "## Exporting cleaned dataset to `clean_data` folder"
   ]
  },
  {
   "cell_type": "code",
   "execution_count": 6,
   "id": "61f08b71-10a2-4085-b940-0c9a37741f74",
   "metadata": {},
   "outputs": [],
   "source": [
    "# Write engineered data to CSV to be used in modeling\n",
    "df.to_csv('../clean_data/reddit_clean.csv', index=False)"
   ]
  },
  {
   "cell_type": "code",
   "execution_count": null,
   "id": "1636d9e5-5d11-44b2-80a3-92869777ce8a",
   "metadata": {},
   "outputs": [],
   "source": []
  }
 ],
 "metadata": {
  "kernelspec": {
   "display_name": "Python 3 (ipykernel)",
   "language": "python",
   "name": "python3"
  },
  "language_info": {
   "codemirror_mode": {
    "name": "ipython",
    "version": 3
   },
   "file_extension": ".py",
   "mimetype": "text/x-python",
   "name": "python",
   "nbconvert_exporter": "python",
   "pygments_lexer": "ipython3",
   "version": "3.9.7"
  }
 },
 "nbformat": 4,
 "nbformat_minor": 5
}
