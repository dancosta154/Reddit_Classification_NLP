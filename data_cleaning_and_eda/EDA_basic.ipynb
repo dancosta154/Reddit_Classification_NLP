{
 "cells": [
  {
   "cell_type": "markdown",
   "id": "c1125bbc-aec9-46ba-a899-60b491e13dfd",
   "metadata": {},
   "source": [
    "## Notebook Description\n",
    "This notebook is dedicated to basic EDA on the clean data read in from the `clean_data` folder. It will look at the data in one dataframe, then split the data into two dataframes (one for each Subreddit), to look at the data independently."
   ]
  },
  {
   "cell_type": "code",
   "execution_count": 2,
   "id": "50eb68a4-4216-488a-93ce-e89fb8f1fa78",
   "metadata": {},
   "outputs": [],
   "source": [
    "# imports\n",
    "import pandas as pd\n",
    "import numpy as np\n",
    "import matplotlib.pyplot as plt\n",
    "import seaborn as sns\n",
    "\n",
    "from sklearn.model_selection import train_test_split\n",
    "from sklearn.feature_extraction.text import CountVectorizer"
   ]
  },
  {
   "cell_type": "code",
   "execution_count": 3,
   "id": "f7973ec4-2863-4877-acf0-a2354347b591",
   "metadata": {},
   "outputs": [
    {
     "data": {
      "text/html": [
       "<div>\n",
       "<style scoped>\n",
       "    .dataframe tbody tr th:only-of-type {\n",
       "        vertical-align: middle;\n",
       "    }\n",
       "\n",
       "    .dataframe tbody tr th {\n",
       "        vertical-align: top;\n",
       "    }\n",
       "\n",
       "    .dataframe thead th {\n",
       "        text-align: right;\n",
       "    }\n",
       "</style>\n",
       "<table border=\"1\" class=\"dataframe\">\n",
       "  <thead>\n",
       "    <tr style=\"text-align: right;\">\n",
       "      <th></th>\n",
       "      <th>title</th>\n",
       "      <th>selftext</th>\n",
       "      <th>subreddit</th>\n",
       "      <th>created_utc</th>\n",
       "    </tr>\n",
       "  </thead>\n",
       "  <tbody>\n",
       "    <tr>\n",
       "      <th>0</th>\n",
       "      <td>We’d comfort in the back country? Check these ...</td>\n",
       "      <td>NaN</td>\n",
       "      <td>backpacking</td>\n",
       "      <td>1646363240</td>\n",
       "    </tr>\n",
       "    <tr>\n",
       "      <th>1</th>\n",
       "      <td>Finding water on the trail</td>\n",
       "      <td>Yo waddup every1, I was wondering how I might ...</td>\n",
       "      <td>backpacking</td>\n",
       "      <td>1646363128</td>\n",
       "    </tr>\n",
       "    <tr>\n",
       "      <th>2</th>\n",
       "      <td>Pacing Tips</td>\n",
       "      <td>Hey y'all! I've just been backpacking in Mexic...</td>\n",
       "      <td>backpacking</td>\n",
       "      <td>1646359058</td>\n",
       "    </tr>\n",
       "    <tr>\n",
       "      <th>3</th>\n",
       "      <td>Fes Morocco 5 hr layover</td>\n",
       "      <td>[removed]</td>\n",
       "      <td>backpacking</td>\n",
       "      <td>1646358302</td>\n",
       "    </tr>\n",
       "    <tr>\n",
       "      <th>4</th>\n",
       "      <td>Hi all, I have a favor to ask. I designed a mo...</td>\n",
       "      <td>NaN</td>\n",
       "      <td>backpacking</td>\n",
       "      <td>1646356995</td>\n",
       "    </tr>\n",
       "  </tbody>\n",
       "</table>\n",
       "</div>"
      ],
      "text/plain": [
       "                                               title  \\\n",
       "0  We’d comfort in the back country? Check these ...   \n",
       "1                         Finding water on the trail   \n",
       "2                                        Pacing Tips   \n",
       "3                           Fes Morocco 5 hr layover   \n",
       "4  Hi all, I have a favor to ask. I designed a mo...   \n",
       "\n",
       "                                            selftext    subreddit  created_utc  \n",
       "0                                                NaN  backpacking   1646363240  \n",
       "1  Yo waddup every1, I was wondering how I might ...  backpacking   1646363128  \n",
       "2  Hey y'all! I've just been backpacking in Mexic...  backpacking   1646359058  \n",
       "3                                          [removed]  backpacking   1646358302  \n",
       "4                                                NaN  backpacking   1646356995  "
      ]
     },
     "execution_count": 3,
     "metadata": {},
     "output_type": "execute_result"
    }
   ],
   "source": [
    "df = pd.read_csv('../raw_data/reddit.csv')\n",
    "df.head()"
   ]
  },
  {
   "cell_type": "code",
   "execution_count": 4,
   "id": "ad090236-1f01-48d3-90c6-2a75062236d9",
   "metadata": {},
   "outputs": [
    {
     "data": {
      "text/plain": [
       "title             0\n",
       "selftext       1420\n",
       "subreddit         0\n",
       "created_utc       0\n",
       "dtype: int64"
      ]
     },
     "execution_count": 4,
     "metadata": {},
     "output_type": "execute_result"
    }
   ],
   "source": [
    "df.isnull().sum()"
   ]
  },
  {
   "cell_type": "code",
   "execution_count": 5,
   "id": "9bb089eb-aa47-4642-9216-82d998b13fe9",
   "metadata": {},
   "outputs": [
    {
     "data": {
      "text/plain": [
       "title          0\n",
       "selftext       0\n",
       "subreddit      0\n",
       "created_utc    0\n",
       "dtype: int64"
      ]
     },
     "execution_count": 5,
     "metadata": {},
     "output_type": "execute_result"
    }
   ],
   "source": [
    "# Replacing null values with blank, as the missing values are text.\n",
    "df['selftext'] = df['selftext'].fillna('')\n",
    "df.isnull().sum()"
   ]
  },
  {
   "cell_type": "markdown",
   "id": "eb51dcc9-0408-4513-9ed2-2adb8a8a79bb",
   "metadata": {},
   "source": [
    "## EDA on Original DF"
   ]
  },
  {
   "cell_type": "code",
   "execution_count": 6,
   "id": "003f4004-9d83-4556-bf5b-5f81e86aab29",
   "metadata": {},
   "outputs": [
    {
     "data": {
      "text/plain": [
       "(3999, 4)"
      ]
     },
     "execution_count": 6,
     "metadata": {},
     "output_type": "execute_result"
    }
   ],
   "source": [
    "df.shape"
   ]
  },
  {
   "cell_type": "code",
   "execution_count": 7,
   "id": "49d300b5-32b3-464b-861a-8955478144d9",
   "metadata": {},
   "outputs": [
    {
     "name": "stdout",
     "output_type": "stream",
     "text": [
      "<class 'pandas.core.frame.DataFrame'>\n",
      "RangeIndex: 3999 entries, 0 to 3998\n",
      "Data columns (total 4 columns):\n",
      " #   Column       Non-Null Count  Dtype \n",
      "---  ------       --------------  ----- \n",
      " 0   title        3999 non-null   object\n",
      " 1   selftext     3999 non-null   object\n",
      " 2   subreddit    3999 non-null   object\n",
      " 3   created_utc  3999 non-null   int64 \n",
      "dtypes: int64(1), object(3)\n",
      "memory usage: 125.1+ KB\n"
     ]
    }
   ],
   "source": [
    "df.info()"
   ]
  },
  {
   "cell_type": "code",
   "execution_count": 8,
   "id": "b24f632f-cab7-4809-8bca-ecd80448b1a0",
   "metadata": {},
   "outputs": [
    {
     "data": {
      "text/html": [
       "<div>\n",
       "<style scoped>\n",
       "    .dataframe tbody tr th:only-of-type {\n",
       "        vertical-align: middle;\n",
       "    }\n",
       "\n",
       "    .dataframe tbody tr th {\n",
       "        vertical-align: top;\n",
       "    }\n",
       "\n",
       "    .dataframe thead th {\n",
       "        text-align: right;\n",
       "    }\n",
       "</style>\n",
       "<table border=\"1\" class=\"dataframe\">\n",
       "  <thead>\n",
       "    <tr style=\"text-align: right;\">\n",
       "      <th></th>\n",
       "      <th>created_utc</th>\n",
       "    </tr>\n",
       "  </thead>\n",
       "  <tbody>\n",
       "    <tr>\n",
       "      <th>count</th>\n",
       "      <td>3.999000e+03</td>\n",
       "    </tr>\n",
       "    <tr>\n",
       "      <th>mean</th>\n",
       "      <td>1.636892e+09</td>\n",
       "    </tr>\n",
       "    <tr>\n",
       "      <th>std</th>\n",
       "      <td>9.196830e+06</td>\n",
       "    </tr>\n",
       "    <tr>\n",
       "      <th>min</th>\n",
       "      <td>1.614219e+09</td>\n",
       "    </tr>\n",
       "    <tr>\n",
       "      <th>25%</th>\n",
       "      <td>1.630080e+09</td>\n",
       "    </tr>\n",
       "    <tr>\n",
       "      <th>50%</th>\n",
       "      <td>1.641596e+09</td>\n",
       "    </tr>\n",
       "    <tr>\n",
       "      <th>75%</th>\n",
       "      <td>1.643916e+09</td>\n",
       "    </tr>\n",
       "    <tr>\n",
       "      <th>max</th>\n",
       "      <td>1.646363e+09</td>\n",
       "    </tr>\n",
       "  </tbody>\n",
       "</table>\n",
       "</div>"
      ],
      "text/plain": [
       "        created_utc\n",
       "count  3.999000e+03\n",
       "mean   1.636892e+09\n",
       "std    9.196830e+06\n",
       "min    1.614219e+09\n",
       "25%    1.630080e+09\n",
       "50%    1.641596e+09\n",
       "75%    1.643916e+09\n",
       "max    1.646363e+09"
      ]
     },
     "execution_count": 8,
     "metadata": {},
     "output_type": "execute_result"
    }
   ],
   "source": [
    "df.describe()"
   ]
  },
  {
   "cell_type": "code",
   "execution_count": 9,
   "id": "c6a7f617-dff4-43c3-8534-29e600659301",
   "metadata": {},
   "outputs": [
    {
     "data": {
      "text/plain": [
       "subreddit\n",
       "backpacking     1999\n",
       "ultrarunning    2000\n",
       "Name: selftext, dtype: int64"
      ]
     },
     "execution_count": 9,
     "metadata": {},
     "output_type": "execute_result"
    }
   ],
   "source": [
    "df.groupby('subreddit')['selftext'].count()"
   ]
  },
  {
   "cell_type": "markdown",
   "id": "95b622ba-7965-4e5c-a283-71d7c191f8b7",
   "metadata": {},
   "source": [
    "### Analyze the Timing of Reddit Submmissions"
   ]
  },
  {
   "cell_type": "code",
   "execution_count": 11,
   "id": "dbed37b5-2561-421f-8e97-b5959260a2da",
   "metadata": {},
   "outputs": [
    {
     "data": {
      "text/plain": [
       "Timedelta('372 days 01:04:12')"
      ]
     },
     "execution_count": 11,
     "metadata": {},
     "output_type": "execute_result"
    }
   ],
   "source": [
    "# Length of time between first and last post in df\n",
    "pd.to_datetime(df['created_utc'].max(), unit='s') - pd.to_datetime(df['created_utc'].min(), unit='s')"
   ]
  },
  {
   "cell_type": "markdown",
   "id": "16871162-362d-43fc-bf5e-bb4d1d4c3602",
   "metadata": {},
   "source": [
    "#### Creating New Time Columns"
   ]
  },
  {
   "cell_type": "code",
   "execution_count": 12,
   "id": "4feafa0f-e74e-4236-afa6-cceeb61069d6",
   "metadata": {},
   "outputs": [],
   "source": [
    "# Creates EST time from UTC\n",
    "df['created_est'] = pd.to_datetime(df['created_utc'], unit='s')\n",
    "\n",
    "\n",
    "# Returns only yyy-mm-dd format from `created_est`\n",
    "# Source: # https://stackoverflow.com/questions/38516251/valueerror-cannot-cast-datetimeindex-to-dtype-datetime64us\n",
    "df['date_posted'] = df['created_est'].dt.to_period('M').apply(lambda d: pd.to_datetime(str(d)))\n",
    "\n",
    "\n",
    "# Creates a Month Name column\n",
    "df['month_name'] = df['date_posted'].dt.month_name()\n",
    "\n",
    "\n",
    "# Converts month_name to type CategoricalDtype\n",
    "# Source https://towardsdatascience.com/ridgeline-plots-the-perfect-way-to-visualize-data-distributions-with-python-de99a5493052\n",
    "\n",
    "from pandas.api.types import CategoricalDtype\n",
    "\n",
    "cat_month = CategoricalDtype(\n",
    "    ['January', 'February', 'March', 'April', 'May', 'June',\n",
    "     'July', 'August', 'September', 'October', 'November', 'December']\n",
    ")\n",
    "\n",
    "df['month_name'] = df['month_name'].astype(cat_month)"
   ]
  },
  {
   "cell_type": "code",
   "execution_count": 14,
   "id": "ece60029-f18c-4911-9691-3dd693b09f9a",
   "metadata": {},
   "outputs": [
    {
     "data": {
      "image/png": "[encoded data removed]",
      "text/plain": [
       "<Figure size 432x288 with 1 Axes>"
      ]
     },
     "metadata": {
      "needs_background": "light"
     },
     "output_type": "display_data"
    }
   ],
   "source": [
    "# Reddit Posts by Month\n",
    "\n",
    "df.sort_values('month_name',ascending=False).groupby('month_name', sort=False)['date_posted'].count().plot.barh(color = '#097a80')\n",
    "plt.title(\"Distribution of Reddit Posts by Month\")\n",
    "plt.xlabel(\"Frequency\")\n",
    "plt.ylabel(\"Month\")\n",
    "plt.savefig(\"../graphics/Distribution_of_Reddit_Posts_by_month.jpg\", bbox_inches=\"tight\", dpi=100); #save as jpg;;"
   ]
  },
  {
   "cell_type": "code",
   "execution_count": 21,
   "id": "a6ae41b6-64d1-4edd-af7a-c062c6f86f38",
   "metadata": {
    "tags": []
   },
   "outputs": [
    {
     "data": {
      "text/plain": [
       "<Figure size 432x288 with 0 Axes>"
      ]
     },
     "metadata": {},
     "output_type": "display_data"
    },
    {
     "data": {
      "image/png": "[encoded data removed]",
      "text/plain": [
       "<Figure size 864x576 with 13 Axes>"
      ]
     },
     "metadata": {
      "needs_background": "light"
     },
     "output_type": "display_data"
    }
   ],
   "source": [
    "from joypy import joyplot\n",
    "\n",
    "plt.figure()\n",
    "\n",
    "joyplot(\n",
    "    data=df[['created_utc', 'month_name']], \n",
    "    by='month_name',\n",
    "    figsize=(12, 8),\n",
    "    overlap=1\n",
    ")\n",
    "plt.title('Distribution of Reddit Posts by Month', fontsize=20)\n",
    "plt.ylabel('Month');"
   ]
  },
  {
   "cell_type": "markdown",
   "id": "fefbd097-39cc-4582-a7ce-c0ac861eafc5",
   "metadata": {},
   "source": [
    "## Baseline Model"
   ]
  },
  {
   "cell_type": "code",
   "execution_count": 40,
   "id": "2d25d648-424a-4883-994d-bee92603c0da",
   "metadata": {},
   "outputs": [
    {
     "data": {
      "text/plain": [
       "ultrarunning    0.500125\n",
       "backpacking     0.499875\n",
       "Name: subreddit, dtype: float64"
      ]
     },
     "execution_count": 40,
     "metadata": {},
     "output_type": "execute_result"
    }
   ],
   "source": [
    "# Baseline model\n",
    "df['subreddit'].value_counts(normalize=True)"
   ]
  },
  {
   "cell_type": "markdown",
   "id": "4e588a70-c7b5-478a-abd2-bae95b915cdc",
   "metadata": {},
   "source": [
    "## Set up for CountVectorizer"
   ]
  },
  {
   "cell_type": "code",
   "execution_count": 23,
   "id": "0a979e87-7928-4ab0-80dc-866a597924e0",
   "metadata": {},
   "outputs": [],
   "source": [
    "# Set up for CountVectorizer\n",
    "\n",
    "X = df['title']\n",
    "y = df['subreddit']"
   ]
  },
  {
   "cell_type": "code",
   "execution_count": 25,
   "id": "dd79df2a-dbc3-44fe-b743-8935775b88a2",
   "metadata": {},
   "outputs": [],
   "source": [
    "# Train/Test/Split\n",
    "\n",
    "X_train, X_test, y_train, y_test = train_test_split(X, y, random_state=42)"
   ]
  },
  {
   "cell_type": "code",
   "execution_count": 27,
   "id": "f214dfec-9088-4c75-80b1-e8a63331a114",
   "metadata": {},
   "outputs": [
    {
     "data": {
      "text/plain": [
       "CountVectorizer(stop_words='english')"
      ]
     },
     "execution_count": 27,
     "metadata": {},
     "output_type": "execute_result"
    }
   ],
   "source": [
    "# Instantiate a CountVectorizer with the default hyperparameters and stop_words\n",
    "cvec = CountVectorizer(stop_words='english')\n",
    "\n",
    "# Fit the vectorizer on my corpus\n",
    "cvec.fit(X_train)"
   ]
  },
  {
   "cell_type": "code",
   "execution_count": 28,
   "id": "0f0d286d-9e99-412a-aa79-0a9baa5bee4d",
   "metadata": {},
   "outputs": [],
   "source": [
    "# Transform the corpus\n",
    "X_train = cvec.transform(X_train)\n",
    "\n",
    "# Transform test\n",
    "X_test = cvec.transform(X_test)"
   ]
  },
  {
   "cell_type": "code",
   "execution_count": 29,
   "id": "a4b62636-ad57-459e-b189-7937441b2a3d",
   "metadata": {},
   "outputs": [
    {
     "data": {
      "text/plain": [
       "['chews',\n",
       " 'chi',\n",
       " 'chic',\n",
       " 'chicago',\n",
       " 'chicagoland',\n",
       " 'chicken',\n",
       " 'children',\n",
       " 'chile',\n",
       " 'chill',\n",
       " 'chiloé']"
      ]
     },
     "execution_count": 29,
     "metadata": {},
     "output_type": "execute_result"
    }
   ],
   "source": [
    "# View some of the feature_names\n",
    "\n",
    "cvec.get_feature_names()[1000:1010]"
   ]
  },
  {
   "cell_type": "code",
   "execution_count": 30,
   "id": "7180b232-5376-4991-909a-faab280ab7ec",
   "metadata": {},
   "outputs": [],
   "source": [
    "X_train_df = pd.DataFrame(X_train.todense(),\n",
    "                         columns=cvec.get_feature_names())"
   ]
  },
  {
   "cell_type": "code",
   "execution_count": 31,
   "id": "36dadd74-0421-4891-bfd3-1e1ddeec6acb",
   "metadata": {},
   "outputs": [
    {
     "data": {
      "text/html": [
       "<div>\n",
       "<style scoped>\n",
       "    .dataframe tbody tr th:only-of-type {\n",
       "        vertical-align: middle;\n",
       "    }\n",
       "\n",
       "    .dataframe tbody tr th {\n",
       "        vertical-align: top;\n",
       "    }\n",
       "\n",
       "    .dataframe thead th {\n",
       "        text-align: right;\n",
       "    }\n",
       "</style>\n",
       "<table border=\"1\" class=\"dataframe\">\n",
       "  <thead>\n",
       "    <tr style=\"text-align: right;\">\n",
       "      <th></th>\n",
       "      <th>000</th>\n",
       "      <th>000ft</th>\n",
       "      <th>000m</th>\n",
       "      <th>01</th>\n",
       "      <th>02</th>\n",
       "      <th>03</th>\n",
       "      <th>05</th>\n",
       "      <th>0⁰c</th>\n",
       "      <th>10</th>\n",
       "      <th>100</th>\n",
       "      <th>...</th>\n",
       "      <th>لعبة</th>\n",
       "      <th>للاندرويد</th>\n",
       "      <th>مباشر</th>\n",
       "      <th>مجانا</th>\n",
       "      <th>अन</th>\n",
       "      <th>एक</th>\n",
       "      <th>कर</th>\n",
       "      <th>नप</th>\n",
       "      <th>महल</th>\n",
       "      <th>सप</th>\n",
       "    </tr>\n",
       "  </thead>\n",
       "  <tbody>\n",
       "    <tr>\n",
       "      <th>0</th>\n",
       "      <td>0</td>\n",
       "      <td>0</td>\n",
       "      <td>0</td>\n",
       "      <td>0</td>\n",
       "      <td>0</td>\n",
       "      <td>0</td>\n",
       "      <td>0</td>\n",
       "      <td>0</td>\n",
       "      <td>0</td>\n",
       "      <td>1</td>\n",
       "      <td>...</td>\n",
       "      <td>0</td>\n",
       "      <td>0</td>\n",
       "      <td>0</td>\n",
       "      <td>0</td>\n",
       "      <td>0</td>\n",
       "      <td>0</td>\n",
       "      <td>0</td>\n",
       "      <td>0</td>\n",
       "      <td>0</td>\n",
       "      <td>0</td>\n",
       "    </tr>\n",
       "    <tr>\n",
       "      <th>1</th>\n",
       "      <td>0</td>\n",
       "      <td>0</td>\n",
       "      <td>0</td>\n",
       "      <td>0</td>\n",
       "      <td>0</td>\n",
       "      <td>0</td>\n",
       "      <td>0</td>\n",
       "      <td>0</td>\n",
       "      <td>0</td>\n",
       "      <td>1</td>\n",
       "      <td>...</td>\n",
       "      <td>0</td>\n",
       "      <td>0</td>\n",
       "      <td>0</td>\n",
       "      <td>0</td>\n",
       "      <td>0</td>\n",
       "      <td>0</td>\n",
       "      <td>0</td>\n",
       "      <td>0</td>\n",
       "      <td>0</td>\n",
       "      <td>0</td>\n",
       "    </tr>\n",
       "    <tr>\n",
       "      <th>2</th>\n",
       "      <td>0</td>\n",
       "      <td>0</td>\n",
       "      <td>0</td>\n",
       "      <td>0</td>\n",
       "      <td>0</td>\n",
       "      <td>0</td>\n",
       "      <td>0</td>\n",
       "      <td>0</td>\n",
       "      <td>0</td>\n",
       "      <td>0</td>\n",
       "      <td>...</td>\n",
       "      <td>0</td>\n",
       "      <td>0</td>\n",
       "      <td>0</td>\n",
       "      <td>0</td>\n",
       "      <td>0</td>\n",
       "      <td>0</td>\n",
       "      <td>0</td>\n",
       "      <td>0</td>\n",
       "      <td>0</td>\n",
       "      <td>0</td>\n",
       "    </tr>\n",
       "    <tr>\n",
       "      <th>3</th>\n",
       "      <td>0</td>\n",
       "      <td>0</td>\n",
       "      <td>0</td>\n",
       "      <td>0</td>\n",
       "      <td>0</td>\n",
       "      <td>0</td>\n",
       "      <td>0</td>\n",
       "      <td>0</td>\n",
       "      <td>0</td>\n",
       "      <td>0</td>\n",
       "      <td>...</td>\n",
       "      <td>0</td>\n",
       "      <td>0</td>\n",
       "      <td>0</td>\n",
       "      <td>0</td>\n",
       "      <td>0</td>\n",
       "      <td>0</td>\n",
       "      <td>0</td>\n",
       "      <td>0</td>\n",
       "      <td>0</td>\n",
       "      <td>0</td>\n",
       "    </tr>\n",
       "    <tr>\n",
       "      <th>4</th>\n",
       "      <td>0</td>\n",
       "      <td>0</td>\n",
       "      <td>0</td>\n",
       "      <td>0</td>\n",
       "      <td>0</td>\n",
       "      <td>0</td>\n",
       "      <td>0</td>\n",
       "      <td>0</td>\n",
       "      <td>0</td>\n",
       "      <td>0</td>\n",
       "      <td>...</td>\n",
       "      <td>0</td>\n",
       "      <td>0</td>\n",
       "      <td>0</td>\n",
       "      <td>0</td>\n",
       "      <td>0</td>\n",
       "      <td>0</td>\n",
       "      <td>0</td>\n",
       "      <td>0</td>\n",
       "      <td>0</td>\n",
       "      <td>0</td>\n",
       "    </tr>\n",
       "  </tbody>\n",
       "</table>\n",
       "<p>5 rows × 5373 columns</p>\n",
       "</div>"
      ],
      "text/plain": [
       "   000  000ft  000m  01  02  03  05  0⁰c  10  100  ...  لعبة  للاندرويد  \\\n",
       "0    0      0     0   0   0   0   0    0   0    1  ...     0          0   \n",
       "1    0      0     0   0   0   0   0    0   0    1  ...     0          0   \n",
       "2    0      0     0   0   0   0   0    0   0    0  ...     0          0   \n",
       "3    0      0     0   0   0   0   0    0   0    0  ...     0          0   \n",
       "4    0      0     0   0   0   0   0    0   0    0  ...     0          0   \n",
       "\n",
       "   مباشر  مجانا  अन  एक  कर  नप  महल  सप  \n",
       "0      0      0   0   0   0   0    0   0  \n",
       "1      0      0   0   0   0   0    0   0  \n",
       "2      0      0   0   0   0   0    0   0  \n",
       "3      0      0   0   0   0   0    0   0  \n",
       "4      0      0   0   0   0   0    0   0  \n",
       "\n",
       "[5 rows x 5373 columns]"
      ]
     },
     "execution_count": 31,
     "metadata": {},
     "output_type": "execute_result"
    }
   ],
   "source": [
    "X_train_df.head()"
   ]
  },
  {
   "cell_type": "markdown",
   "id": "74115650-af87-4855-b2f1-93c32acdc754",
   "metadata": {},
   "source": [
    "## EDA on CountVectorized Title"
   ]
  },
  {
   "cell_type": "code",
   "execution_count": 32,
   "id": "ce73e5ee-360a-4167-b6ca-d52a74f55096",
   "metadata": {},
   "outputs": [
    {
     "data": {
      "image/png": "[encoded data removed]",
      "text/plain": [
       "<Figure size 864x432 with 1 Axes>"
      ]
     },
     "metadata": {
      "needs_background": "light"
     },
     "output_type": "display_data"
    }
   ],
   "source": [
    "# Top 20 occurring words in either subreddits - using only Title column\n",
    "\n",
    "X_train_df.sum(numeric_only=True).sort_values(ascending=True).tail(20).plot.barh(figsize=(12,6), color = '#097a80')\n",
    "plt.xlabel('Frequency', fontdict= {'fontsize':14})\n",
    "plt.ylabel('Common Words', fontdict= {'fontsize':14})\n",
    "plt.title('Top 20 Words in Either Subreddit - Title Only', fontdict = {'fontsize':16})\n",
    "plt.savefig(\"../graphics/Top_20_words_either_subreddit_title_only.jpg\", bbox_inches=\"tight\", dpi=100); #save as jpg"
   ]
  },
  {
   "cell_type": "markdown",
   "id": "1022f20e-6566-4210-bad7-91120d89b89d",
   "metadata": {},
   "source": [
    "## Splitting Dataframe by Subreddits"
   ]
  },
  {
   "cell_type": "code",
   "execution_count": 33,
   "id": "5989637c-567b-468f-9740-c94f405cb9f6",
   "metadata": {},
   "outputs": [
    {
     "data": {
      "text/plain": [
       "(1999, 7)"
      ]
     },
     "execution_count": 33,
     "metadata": {},
     "output_type": "execute_result"
    }
   ],
   "source": [
    "df_backpacking = df[df['subreddit'] == 'backpacking']\n",
    "df_backpacking.shape"
   ]
  },
  {
   "cell_type": "code",
   "execution_count": 34,
   "id": "55191e0c-a859-4e72-81c8-6db084e05ce3",
   "metadata": {},
   "outputs": [
    {
     "data": {
      "text/plain": [
       "(2000, 7)"
      ]
     },
     "execution_count": 34,
     "metadata": {},
     "output_type": "execute_result"
    }
   ],
   "source": [
    "df_ultrarunning = df[df['subreddit'] == 'ultrarunning']\n",
    "df_ultrarunning.shape"
   ]
  },
  {
   "cell_type": "code",
   "execution_count": 35,
   "id": "4b057e45-f201-4a1d-814c-80bcceb3fc63",
   "metadata": {},
   "outputs": [
    {
     "data": {
      "text/html": [
       "<div>\n",
       "<style scoped>\n",
       "    .dataframe tbody tr th:only-of-type {\n",
       "        vertical-align: middle;\n",
       "    }\n",
       "\n",
       "    .dataframe tbody tr th {\n",
       "        vertical-align: top;\n",
       "    }\n",
       "\n",
       "    .dataframe thead th {\n",
       "        text-align: right;\n",
       "    }\n",
       "</style>\n",
       "<table border=\"1\" class=\"dataframe\">\n",
       "  <thead>\n",
       "    <tr style=\"text-align: right;\">\n",
       "      <th></th>\n",
       "      <th>title</th>\n",
       "      <th>selftext</th>\n",
       "      <th>subreddit</th>\n",
       "      <th>created_utc</th>\n",
       "      <th>created_est</th>\n",
       "      <th>date_posted</th>\n",
       "      <th>month_name</th>\n",
       "    </tr>\n",
       "  </thead>\n",
       "  <tbody>\n",
       "    <tr>\n",
       "      <th>1999</th>\n",
       "      <td>Narrow Feet Trail Shoe Recs</td>\n",
       "      <td>Hi Y'all, \\n\\nJust wanted to poll the crowd of...</td>\n",
       "      <td>ultrarunning</td>\n",
       "      <td>1646336942</td>\n",
       "      <td>2022-03-03 19:49:02</td>\n",
       "      <td>2022-03-01</td>\n",
       "      <td>March</td>\n",
       "    </tr>\n",
       "    <tr>\n",
       "      <th>2000</th>\n",
       "      <td>Shoe sizing</td>\n",
       "      <td>I typically wear a 12.5, does any one buy shoe...</td>\n",
       "      <td>ultrarunning</td>\n",
       "      <td>1646321962</td>\n",
       "      <td>2022-03-03 15:39:22</td>\n",
       "      <td>2022-03-01</td>\n",
       "      <td>March</td>\n",
       "    </tr>\n",
       "    <tr>\n",
       "      <th>2001</th>\n",
       "      <td>Advice: Sledge/pulk design for a winter ultram...</td>\n",
       "      <td>I'm preparing for my first winter ultra, and a...</td>\n",
       "      <td>ultrarunning</td>\n",
       "      <td>1646270995</td>\n",
       "      <td>2022-03-03 01:29:55</td>\n",
       "      <td>2022-03-01</td>\n",
       "      <td>March</td>\n",
       "    </tr>\n",
       "    <tr>\n",
       "      <th>2002</th>\n",
       "      <td>venting - dumb clinics</td>\n",
       "      <td>I put a hard stop on my training with some con...</td>\n",
       "      <td>ultrarunning</td>\n",
       "      <td>1646253091</td>\n",
       "      <td>2022-03-02 20:31:31</td>\n",
       "      <td>2022-03-01</td>\n",
       "      <td>March</td>\n",
       "    </tr>\n",
       "    <tr>\n",
       "      <th>2003</th>\n",
       "      <td>Phantom Stress Pains</td>\n",
       "      <td>Hey everyone - I had a stress reaction this ti...</td>\n",
       "      <td>ultrarunning</td>\n",
       "      <td>1646191139</td>\n",
       "      <td>2022-03-02 03:18:59</td>\n",
       "      <td>2022-03-01</td>\n",
       "      <td>March</td>\n",
       "    </tr>\n",
       "  </tbody>\n",
       "</table>\n",
       "</div>"
      ],
      "text/plain": [
       "                                                  title  \\\n",
       "1999                        Narrow Feet Trail Shoe Recs   \n",
       "2000                                        Shoe sizing   \n",
       "2001  Advice: Sledge/pulk design for a winter ultram...   \n",
       "2002                             venting - dumb clinics   \n",
       "2003                               Phantom Stress Pains   \n",
       "\n",
       "                                               selftext     subreddit  \\\n",
       "1999  Hi Y'all, \\n\\nJust wanted to poll the crowd of...  ultrarunning   \n",
       "2000  I typically wear a 12.5, does any one buy shoe...  ultrarunning   \n",
       "2001  I'm preparing for my first winter ultra, and a...  ultrarunning   \n",
       "2002  I put a hard stop on my training with some con...  ultrarunning   \n",
       "2003  Hey everyone - I had a stress reaction this ti...  ultrarunning   \n",
       "\n",
       "      created_utc         created_est date_posted month_name  \n",
       "1999   1646336942 2022-03-03 19:49:02  2022-03-01      March  \n",
       "2000   1646321962 2022-03-03 15:39:22  2022-03-01      March  \n",
       "2001   1646270995 2022-03-03 01:29:55  2022-03-01      March  \n",
       "2002   1646253091 2022-03-02 20:31:31  2022-03-01      March  \n",
       "2003   1646191139 2022-03-02 03:18:59  2022-03-01      March  "
      ]
     },
     "execution_count": 35,
     "metadata": {},
     "output_type": "execute_result"
    }
   ],
   "source": [
    "df_ultrarunning.head()"
   ]
  },
  {
   "cell_type": "markdown",
   "id": "70583920-e193-4019-a022-763ced67863c",
   "metadata": {},
   "source": [
    "### CountVectorize & EDA for Backpacking Subreddit"
   ]
  },
  {
   "cell_type": "code",
   "execution_count": 36,
   "id": "9d372f72-a9f7-4985-81b7-c8858ea3963f",
   "metadata": {},
   "outputs": [],
   "source": [
    "cvec = CountVectorizer(stop_words = 'english')\n",
    "cvec.fit(df_backpacking['title'])\n",
    "csr = cvec.transform(df_backpacking['title'])\n",
    "df_backpacking = pd.DataFrame(csr.todense(), columns = cvec.get_feature_names())"
   ]
  },
  {
   "cell_type": "code",
   "execution_count": 37,
   "id": "f3fd7c46-a11b-40ac-8c17-ee43bfd28c08",
   "metadata": {},
   "outputs": [
    {
     "data": {
      "image/png": "[encoded data removed]",
      "text/plain": [
       "<Figure size 864x432 with 1 Axes>"
      ]
     },
     "metadata": {
      "needs_background": "light"
     },
     "output_type": "display_data"
    }
   ],
   "source": [
    "# Top 20 occurring words in Backpacking subreddit\n",
    "\n",
    "df_backpacking.sum(numeric_only=True).sort_values(ascending=True).tail(20).plot.barh(figsize=(12,6), color = '#097a80')\n",
    "plt.xlabel('Frequency', fontdict= {'fontsize':14})\n",
    "plt.ylabel('Common Words', fontdict= {'fontsize':14})\n",
    "plt.title('Top 20 Words in Backpacking Subreddit', fontdict = {'fontsize':16})\n",
    "plt.savefig(\"../graphics/Top_20_words_Backpacking.jpg\", bbox_inches=\"tight\", dpi=100); #save as jpg"
   ]
  },
  {
   "cell_type": "markdown",
   "id": "44bd08b8-3908-4198-ae9f-105d89c286f3",
   "metadata": {},
   "source": [
    "### CountVectorize & EDA for Ultrarunning Subreddit"
   ]
  },
  {
   "cell_type": "code",
   "execution_count": 38,
   "id": "b376546f-a36d-4658-ba71-433894b7e168",
   "metadata": {},
   "outputs": [],
   "source": [
    "cvec = CountVectorizer(stop_words = 'english')\n",
    "cvec.fit(df_ultrarunning['title'])\n",
    "csr = cvec.transform(df_ultrarunning['title'])\n",
    "df_ultrarunning = pd.DataFrame(csr.todense(), columns = cvec.get_feature_names())"
   ]
  },
  {
   "cell_type": "code",
   "execution_count": 39,
   "id": "6d788925-1398-42ae-8ae0-303488ab49a5",
   "metadata": {},
   "outputs": [
    {
     "data": {
      "image/png": "[encoded data removed]",
      "text/plain": [
       "<Figure size 864x432 with 1 Axes>"
      ]
     },
     "metadata": {
      "needs_background": "light"
     },
     "output_type": "display_data"
    }
   ],
   "source": [
    "# Top 20 occurring words in Ultrarunning subreddit\n",
    "\n",
    "df_ultrarunning.sum(numeric_only=True).sort_values(ascending=True).tail(20).plot.barh(figsize=(12,6), color = '#097a80')\n",
    "plt.xlabel('Frequency', fontdict= {'fontsize':14})\n",
    "plt.ylabel('Common Words', fontdict= {'fontsize':14})\n",
    "plt.title('Top 20 Words in Ultrarunning Subreddit', fontdict = {'fontsize':16})\n",
    "plt.savefig(\"../graphics/Top_20_words_Ultrarunning.jpg\", bbox_inches=\"tight\", dpi=100); #save as jpg"
   ]
  }
 ],
 "metadata": {
  "kernelspec": {
   "display_name": "Python 3 (ipykernel)",
   "language": "python",
   "name": "python3"
  },
  "language_info": {
   "codemirror_mode": {
    "name": "ipython",
    "version": 3
   },
   "file_extension": ".py",
   "mimetype": "text/x-python",
   "name": "python",
   "nbconvert_exporter": "python",
   "pygments_lexer": "ipython3",
   "version": "3.9.7"
  }
 },
 "nbformat": 4,
 "nbformat_minor": 5
}
