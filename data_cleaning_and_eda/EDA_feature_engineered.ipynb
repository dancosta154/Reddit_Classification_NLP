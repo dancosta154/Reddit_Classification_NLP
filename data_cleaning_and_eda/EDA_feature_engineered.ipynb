{
 "cells": [
  {
   "cell_type": "markdown",
   "id": "689371f4-d3f4-4334-8ac5-216ef0611bc4",
   "metadata": {},
   "source": [
    "## Notebook Description\n",
    "This notebook is dedicated to Feature Engineering and EDA on the clean data read in from the `clean_data` folder. It will look at the data in one dataframe, then split the data into two dataframes (one for each Subreddit), to look at the data independently. It will also look at the Feature Engineered columns to exploit patterns amongst the data."
   ]
  },
  {
   "cell_type": "code",
   "execution_count": 75,
   "id": "50eb68a4-4216-488a-93ce-e89fb8f1fa78",
   "metadata": {},
   "outputs": [],
   "source": [
    "# imports\n",
    "import pandas as pd\n",
    "import numpy as np\n",
    "import matplotlib.pyplot as plt\n",
    "import seaborn as sns\n",
    "\n",
    "from sklearn.model_selection import train_test_split\n",
    "from sklearn.feature_extraction.text import CountVectorizer\n",
    "from nltk.sentiment.vader import SentimentIntensityAnalyzer\n",
    "import re"
   ]
  },
  {
   "cell_type": "code",
   "execution_count": 76,
   "id": "f7973ec4-2863-4877-acf0-a2354347b591",
   "metadata": {},
   "outputs": [
    {
     "data": {
      "text/html": [
       "<div>\n",
       "<style scoped>\n",
       "    .dataframe tbody tr th:only-of-type {\n",
       "        vertical-align: middle;\n",
       "    }\n",
       "\n",
       "    .dataframe tbody tr th {\n",
       "        vertical-align: top;\n",
       "    }\n",
       "\n",
       "    .dataframe thead th {\n",
       "        text-align: right;\n",
       "    }\n",
       "</style>\n",
       "<table border=\"1\" class=\"dataframe\">\n",
       "  <thead>\n",
       "    <tr style=\"text-align: right;\">\n",
       "      <th></th>\n",
       "      <th>title</th>\n",
       "      <th>selftext</th>\n",
       "      <th>subreddit</th>\n",
       "      <th>created_utc</th>\n",
       "    </tr>\n",
       "  </thead>\n",
       "  <tbody>\n",
       "    <tr>\n",
       "      <th>0</th>\n",
       "      <td>Where to backpack 4 nights in Utah, Arizona, o...</td>\n",
       "      <td>Hello Reddit folks! Four of my friends and I a...</td>\n",
       "      <td>backpacking</td>\n",
       "      <td>1646011972</td>\n",
       "    </tr>\n",
       "    <tr>\n",
       "      <th>1</th>\n",
       "      <td>Peace Walls, Belfast</td>\n",
       "      <td>NaN</td>\n",
       "      <td>backpacking</td>\n",
       "      <td>1646007041</td>\n",
       "    </tr>\n",
       "    <tr>\n",
       "      <th>2</th>\n",
       "      <td>How To Mount Snowshoes On Osprey Talon 22 Back...</td>\n",
       "      <td>The backpack is fairly small, but the suspensi...</td>\n",
       "      <td>backpacking</td>\n",
       "      <td>1646005307</td>\n",
       "    </tr>\n",
       "    <tr>\n",
       "      <th>3</th>\n",
       "      <td>Bringing dog to Kearsarge pass?</td>\n",
       "      <td>[removed]</td>\n",
       "      <td>backpacking</td>\n",
       "      <td>1646004876</td>\n",
       "    </tr>\n",
       "    <tr>\n",
       "      <th>4</th>\n",
       "      <td>Mid 30s short trip to Thailand - Bangkok &amp;amp;...</td>\n",
       "      <td>My husband and I plan to go to Thailand for a ...</td>\n",
       "      <td>backpacking</td>\n",
       "      <td>1646000495</td>\n",
       "    </tr>\n",
       "  </tbody>\n",
       "</table>\n",
       "</div>"
      ],
      "text/plain": [
       "                                               title  \\\n",
       "0  Where to backpack 4 nights in Utah, Arizona, o...   \n",
       "1                               Peace Walls, Belfast   \n",
       "2  How To Mount Snowshoes On Osprey Talon 22 Back...   \n",
       "3                    Bringing dog to Kearsarge pass?   \n",
       "4  Mid 30s short trip to Thailand - Bangkok &amp;...   \n",
       "\n",
       "                                            selftext    subreddit  created_utc  \n",
       "0  Hello Reddit folks! Four of my friends and I a...  backpacking   1646011972  \n",
       "1                                                NaN  backpacking   1646007041  \n",
       "2  The backpack is fairly small, but the suspensi...  backpacking   1646005307  \n",
       "3                                          [removed]  backpacking   1646004876  \n",
       "4  My husband and I plan to go to Thailand for a ...  backpacking   1646000495  "
      ]
     },
     "execution_count": 76,
     "metadata": {},
     "output_type": "execute_result"
    }
   ],
   "source": [
    "df = pd.read_csv('../clean_data/reddit_clean.csv')\n",
    "df.head()"
   ]
  },
  {
   "cell_type": "code",
   "execution_count": 77,
   "id": "ad090236-1f01-48d3-90c6-2a75062236d9",
   "metadata": {},
   "outputs": [
    {
     "data": {
      "text/plain": [
       "title             0\n",
       "selftext       1431\n",
       "subreddit         0\n",
       "created_utc       0\n",
       "dtype: int64"
      ]
     },
     "execution_count": 77,
     "metadata": {},
     "output_type": "execute_result"
    }
   ],
   "source": [
    "df.isnull().sum()"
   ]
  },
  {
   "cell_type": "code",
   "execution_count": 78,
   "id": "9bb089eb-aa47-4642-9216-82d998b13fe9",
   "metadata": {},
   "outputs": [
    {
     "data": {
      "text/plain": [
       "title          0\n",
       "selftext       0\n",
       "subreddit      0\n",
       "created_utc    0\n",
       "dtype: int64"
      ]
     },
     "execution_count": 78,
     "metadata": {},
     "output_type": "execute_result"
    }
   ],
   "source": [
    "df['selftext'] = df['selftext'].fillna('')\n",
    "df.isnull().sum()"
   ]
  },
  {
   "cell_type": "markdown",
   "id": "fefbd097-39cc-4582-a7ce-c0ac861eafc5",
   "metadata": {},
   "source": [
    "#### Baseline Model"
   ]
  },
  {
   "cell_type": "code",
   "execution_count": 79,
   "id": "2d25d648-424a-4883-994d-bee92603c0da",
   "metadata": {},
   "outputs": [
    {
     "data": {
      "text/plain": [
       "ultrarunning    0.500125\n",
       "backpacking     0.499875\n",
       "Name: subreddit, dtype: float64"
      ]
     },
     "execution_count": 79,
     "metadata": {},
     "output_type": "execute_result"
    }
   ],
   "source": [
    "# Baseline model\n",
    "# Need my model to be better than .50\n",
    "\n",
    "df['subreddit'].value_counts(normalize=True)"
   ]
  },
  {
   "cell_type": "markdown",
   "id": "a5d82345-25f2-4810-b62b-9c0ec4ffb2fd",
   "metadata": {},
   "source": [
    "# Feature Engineering"
   ]
  },
  {
   "cell_type": "markdown",
   "id": "07a1b54a-eb8f-4729-8c3a-c366d78f40a0",
   "metadata": {},
   "source": [
    "## Merging Title and Selftext columns"
   ]
  },
  {
   "cell_type": "code",
   "execution_count": 80,
   "id": "66d6eb80-6c61-4731-bedb-cfeba6239628",
   "metadata": {},
   "outputs": [
    {
     "data": {
      "text/html": [
       "<div>\n",
       "<style scoped>\n",
       "    .dataframe tbody tr th:only-of-type {\n",
       "        vertical-align: middle;\n",
       "    }\n",
       "\n",
       "    .dataframe tbody tr th {\n",
       "        vertical-align: top;\n",
       "    }\n",
       "\n",
       "    .dataframe thead th {\n",
       "        text-align: right;\n",
       "    }\n",
       "</style>\n",
       "<table border=\"1\" class=\"dataframe\">\n",
       "  <thead>\n",
       "    <tr style=\"text-align: right;\">\n",
       "      <th></th>\n",
       "      <th>subreddit</th>\n",
       "      <th>created_utc</th>\n",
       "      <th>title_merge</th>\n",
       "    </tr>\n",
       "  </thead>\n",
       "  <tbody>\n",
       "    <tr>\n",
       "      <th>0</th>\n",
       "      <td>backpacking</td>\n",
       "      <td>1646011972</td>\n",
       "      <td>Where to backpack 4 nights in Utah, Arizona, o...</td>\n",
       "    </tr>\n",
       "    <tr>\n",
       "      <th>1</th>\n",
       "      <td>backpacking</td>\n",
       "      <td>1646007041</td>\n",
       "      <td>Peace Walls, Belfast</td>\n",
       "    </tr>\n",
       "    <tr>\n",
       "      <th>2</th>\n",
       "      <td>backpacking</td>\n",
       "      <td>1646005307</td>\n",
       "      <td>How To Mount Snowshoes On Osprey Talon 22 Back...</td>\n",
       "    </tr>\n",
       "    <tr>\n",
       "      <th>3</th>\n",
       "      <td>backpacking</td>\n",
       "      <td>1646004876</td>\n",
       "      <td>Bringing dog to Kearsarge pass? [removed]</td>\n",
       "    </tr>\n",
       "    <tr>\n",
       "      <th>4</th>\n",
       "      <td>backpacking</td>\n",
       "      <td>1646000495</td>\n",
       "      <td>Mid 30s short trip to Thailand - Bangkok &amp;amp;...</td>\n",
       "    </tr>\n",
       "  </tbody>\n",
       "</table>\n",
       "</div>"
      ],
      "text/plain": [
       "     subreddit  created_utc                                        title_merge\n",
       "0  backpacking   1646011972  Where to backpack 4 nights in Utah, Arizona, o...\n",
       "1  backpacking   1646007041                              Peace Walls, Belfast \n",
       "2  backpacking   1646005307  How To Mount Snowshoes On Osprey Talon 22 Back...\n",
       "3  backpacking   1646004876          Bringing dog to Kearsarge pass? [removed]\n",
       "4  backpacking   1646000495  Mid 30s short trip to Thailand - Bangkok &amp;..."
      ]
     },
     "execution_count": 80,
     "metadata": {},
     "output_type": "execute_result"
    }
   ],
   "source": [
    "df['title_merge'] = df['title'] + ' ' + df['selftext']\n",
    "df.drop(columns=['title','selftext'], inplace=True)\n",
    "df.head()"
   ]
  },
  {
   "cell_type": "markdown",
   "id": "075ab811-e2ae-42cb-b4e3-8511f2d044b9",
   "metadata": {},
   "source": [
    "## Feature Engineering & Sentiment Scores"
   ]
  },
  {
   "cell_type": "code",
   "execution_count": 81,
   "id": "41631e65-1401-4921-ace9-3adcfc666dd1",
   "metadata": {},
   "outputs": [],
   "source": [
    "# Sentiment Scores\n",
    "sia = SentimentIntensityAnalyzer()\n",
    "\n",
    "df['title_sentiment'] = df['title_merge'].apply(sia.polarity_scores)\n",
    "df['title_sentiment_neg'] = df['title_sentiment'].map(lambda x: x['neg'])\n",
    "df['title_sentiment_neu'] = df['title_sentiment'].map(lambda x: x['neu'])\n",
    "df['title_sentiment_pos'] = df['title_sentiment'].map(lambda x: x['pos'])\n",
    "df['title_sentiment_compound'] = df['title_sentiment'].map(lambda x: x['compound'])"
   ]
  },
  {
   "cell_type": "code",
   "execution_count": 82,
   "id": "14f79e2a-f4cd-4228-88ac-896b2b064d73",
   "metadata": {},
   "outputs": [],
   "source": [
    "# Counting Capitals in string\n",
    "def count_capitals(row):\n",
    "    count = 0 \n",
    "    for i in row:\n",
    "        if i.isupper():\n",
    "            count += 1\n",
    "    return count"
   ]
  },
  {
   "cell_type": "code",
   "execution_count": 83,
   "id": "e5cd267e-5926-4ab4-be3a-22d5648cd63d",
   "metadata": {},
   "outputs": [],
   "source": [
    "# Counting sentences in a string\n",
    "def words_in_sentence(row):\n",
    "    return len((re.split(r'[.!?]+', row))) - 1"
   ]
  },
  {
   "cell_type": "code",
   "execution_count": 84,
   "id": "4c2518c7-3c4e-4f53-acee-e9d3333381f5",
   "metadata": {},
   "outputs": [
    {
     "data": {
      "text/html": [
       "<div>\n",
       "<style scoped>\n",
       "    .dataframe tbody tr th:only-of-type {\n",
       "        vertical-align: middle;\n",
       "    }\n",
       "\n",
       "    .dataframe tbody tr th {\n",
       "        vertical-align: top;\n",
       "    }\n",
       "\n",
       "    .dataframe thead th {\n",
       "        text-align: right;\n",
       "    }\n",
       "</style>\n",
       "<table border=\"1\" class=\"dataframe\">\n",
       "  <thead>\n",
       "    <tr style=\"text-align: right;\">\n",
       "      <th></th>\n",
       "      <th>subreddit</th>\n",
       "      <th>created_utc</th>\n",
       "      <th>title_merge</th>\n",
       "      <th>title_sentiment</th>\n",
       "      <th>title_sentiment_neg</th>\n",
       "      <th>title_sentiment_neu</th>\n",
       "      <th>title_sentiment_pos</th>\n",
       "      <th>title_sentiment_compound</th>\n",
       "      <th>title_length</th>\n",
       "      <th>title_word_count</th>\n",
       "      <th>capitalized_letters_in_title</th>\n",
       "      <th>sentences_in_title</th>\n",
       "    </tr>\n",
       "  </thead>\n",
       "  <tbody>\n",
       "    <tr>\n",
       "      <th>0</th>\n",
       "      <td>backpacking</td>\n",
       "      <td>1646011972</td>\n",
       "      <td>Where to backpack 4 nights in Utah, Arizona, o...</td>\n",
       "      <td>{'neg': 0.0, 'neu': 0.804, 'pos': 0.196, 'comp...</td>\n",
       "      <td>0.000</td>\n",
       "      <td>0.804</td>\n",
       "      <td>0.196</td>\n",
       "      <td>0.9127</td>\n",
       "      <td>315</td>\n",
       "      <td>60</td>\n",
       "      <td>16</td>\n",
       "      <td>4</td>\n",
       "    </tr>\n",
       "    <tr>\n",
       "      <th>1</th>\n",
       "      <td>backpacking</td>\n",
       "      <td>1646007041</td>\n",
       "      <td>Peace Walls, Belfast</td>\n",
       "      <td>{'neg': 0.0, 'neu': 0.364, 'pos': 0.636, 'comp...</td>\n",
       "      <td>0.000</td>\n",
       "      <td>0.364</td>\n",
       "      <td>0.636</td>\n",
       "      <td>0.5423</td>\n",
       "      <td>21</td>\n",
       "      <td>4</td>\n",
       "      <td>3</td>\n",
       "      <td>0</td>\n",
       "    </tr>\n",
       "    <tr>\n",
       "      <th>2</th>\n",
       "      <td>backpacking</td>\n",
       "      <td>1646005307</td>\n",
       "      <td>How To Mount Snowshoes On Osprey Talon 22 Back...</td>\n",
       "      <td>{'neg': 0.0, 'neu': 0.76, 'pos': 0.24, 'compou...</td>\n",
       "      <td>0.000</td>\n",
       "      <td>0.760</td>\n",
       "      <td>0.240</td>\n",
       "      <td>0.9282</td>\n",
       "      <td>247</td>\n",
       "      <td>45</td>\n",
       "      <td>11</td>\n",
       "      <td>5</td>\n",
       "    </tr>\n",
       "    <tr>\n",
       "      <th>3</th>\n",
       "      <td>backpacking</td>\n",
       "      <td>1646004876</td>\n",
       "      <td>Bringing dog to Kearsarge pass? [removed]</td>\n",
       "      <td>{'neg': 0.0, 'neu': 1.0, 'pos': 0.0, 'compound...</td>\n",
       "      <td>0.000</td>\n",
       "      <td>1.000</td>\n",
       "      <td>0.000</td>\n",
       "      <td>0.0000</td>\n",
       "      <td>41</td>\n",
       "      <td>6</td>\n",
       "      <td>2</td>\n",
       "      <td>1</td>\n",
       "    </tr>\n",
       "    <tr>\n",
       "      <th>4</th>\n",
       "      <td>backpacking</td>\n",
       "      <td>1646000495</td>\n",
       "      <td>Mid 30s short trip to Thailand - Bangkok &amp;amp;...</td>\n",
       "      <td>{'neg': 0.024, 'neu': 0.787, 'pos': 0.189, 'co...</td>\n",
       "      <td>0.024</td>\n",
       "      <td>0.787</td>\n",
       "      <td>0.189</td>\n",
       "      <td>0.9786</td>\n",
       "      <td>839</td>\n",
       "      <td>162</td>\n",
       "      <td>32</td>\n",
       "      <td>11</td>\n",
       "    </tr>\n",
       "  </tbody>\n",
       "</table>\n",
       "</div>"
      ],
      "text/plain": [
       "     subreddit  created_utc  \\\n",
       "0  backpacking   1646011972   \n",
       "1  backpacking   1646007041   \n",
       "2  backpacking   1646005307   \n",
       "3  backpacking   1646004876   \n",
       "4  backpacking   1646000495   \n",
       "\n",
       "                                         title_merge  \\\n",
       "0  Where to backpack 4 nights in Utah, Arizona, o...   \n",
       "1                              Peace Walls, Belfast    \n",
       "2  How To Mount Snowshoes On Osprey Talon 22 Back...   \n",
       "3          Bringing dog to Kearsarge pass? [removed]   \n",
       "4  Mid 30s short trip to Thailand - Bangkok &amp;...   \n",
       "\n",
       "                                     title_sentiment  title_sentiment_neg  \\\n",
       "0  {'neg': 0.0, 'neu': 0.804, 'pos': 0.196, 'comp...                0.000   \n",
       "1  {'neg': 0.0, 'neu': 0.364, 'pos': 0.636, 'comp...                0.000   \n",
       "2  {'neg': 0.0, 'neu': 0.76, 'pos': 0.24, 'compou...                0.000   \n",
       "3  {'neg': 0.0, 'neu': 1.0, 'pos': 0.0, 'compound...                0.000   \n",
       "4  {'neg': 0.024, 'neu': 0.787, 'pos': 0.189, 'co...                0.024   \n",
       "\n",
       "   title_sentiment_neu  title_sentiment_pos  title_sentiment_compound  \\\n",
       "0                0.804                0.196                    0.9127   \n",
       "1                0.364                0.636                    0.5423   \n",
       "2                0.760                0.240                    0.9282   \n",
       "3                1.000                0.000                    0.0000   \n",
       "4                0.787                0.189                    0.9786   \n",
       "\n",
       "   title_length  title_word_count  capitalized_letters_in_title  \\\n",
       "0           315                60                            16   \n",
       "1            21                 4                             3   \n",
       "2           247                45                            11   \n",
       "3            41                 6                             2   \n",
       "4           839               162                            32   \n",
       "\n",
       "   sentences_in_title  \n",
       "0                   4  \n",
       "1                   0  \n",
       "2                   5  \n",
       "3                   1  \n",
       "4                  11  "
      ]
     },
     "execution_count": 84,
     "metadata": {},
     "output_type": "execute_result"
    }
   ],
   "source": [
    "# Feature Engineering based on Title characteristics\n",
    "\n",
    "df['title_length'] = df['title_merge'].str.len()\n",
    "df['title_word_count'] = [len(title.split(' ')) for title in df['title_merge']]\n",
    "df['capitalized_letters_in_title'] = df['title_merge'].map(count_capitals)\n",
    "df['sentences_in_title'] = df['title_merge'].map(words_in_sentence)\n",
    "df.head()"
   ]
  },
  {
   "cell_type": "code",
   "execution_count": 85,
   "id": "ca4249f6-93fe-4c0b-b6aa-233fabfedf4a",
   "metadata": {},
   "outputs": [
    {
     "data": {
      "text/html": [
       "<div>\n",
       "<style scoped>\n",
       "    .dataframe tbody tr th:only-of-type {\n",
       "        vertical-align: middle;\n",
       "    }\n",
       "\n",
       "    .dataframe tbody tr th {\n",
       "        vertical-align: top;\n",
       "    }\n",
       "\n",
       "    .dataframe thead th {\n",
       "        text-align: right;\n",
       "    }\n",
       "</style>\n",
       "<table border=\"1\" class=\"dataframe\">\n",
       "  <thead>\n",
       "    <tr style=\"text-align: right;\">\n",
       "      <th></th>\n",
       "      <th>subreddit</th>\n",
       "      <th>created_utc</th>\n",
       "      <th>title_merge</th>\n",
       "      <th>title_sentiment_neg</th>\n",
       "      <th>title_sentiment_neu</th>\n",
       "      <th>title_sentiment_pos</th>\n",
       "      <th>title_sentiment_compound</th>\n",
       "      <th>title_length</th>\n",
       "      <th>title_word_count</th>\n",
       "      <th>capitalized_letters_in_title</th>\n",
       "      <th>sentences_in_title</th>\n",
       "    </tr>\n",
       "  </thead>\n",
       "  <tbody>\n",
       "    <tr>\n",
       "      <th>0</th>\n",
       "      <td>backpacking</td>\n",
       "      <td>1646011972</td>\n",
       "      <td>Where to backpack 4 nights in Utah, Arizona, o...</td>\n",
       "      <td>0.000</td>\n",
       "      <td>0.804</td>\n",
       "      <td>0.196</td>\n",
       "      <td>0.9127</td>\n",
       "      <td>315</td>\n",
       "      <td>60</td>\n",
       "      <td>16</td>\n",
       "      <td>4</td>\n",
       "    </tr>\n",
       "    <tr>\n",
       "      <th>1</th>\n",
       "      <td>backpacking</td>\n",
       "      <td>1646007041</td>\n",
       "      <td>Peace Walls, Belfast</td>\n",
       "      <td>0.000</td>\n",
       "      <td>0.364</td>\n",
       "      <td>0.636</td>\n",
       "      <td>0.5423</td>\n",
       "      <td>21</td>\n",
       "      <td>4</td>\n",
       "      <td>3</td>\n",
       "      <td>0</td>\n",
       "    </tr>\n",
       "    <tr>\n",
       "      <th>2</th>\n",
       "      <td>backpacking</td>\n",
       "      <td>1646005307</td>\n",
       "      <td>How To Mount Snowshoes On Osprey Talon 22 Back...</td>\n",
       "      <td>0.000</td>\n",
       "      <td>0.760</td>\n",
       "      <td>0.240</td>\n",
       "      <td>0.9282</td>\n",
       "      <td>247</td>\n",
       "      <td>45</td>\n",
       "      <td>11</td>\n",
       "      <td>5</td>\n",
       "    </tr>\n",
       "    <tr>\n",
       "      <th>3</th>\n",
       "      <td>backpacking</td>\n",
       "      <td>1646004876</td>\n",
       "      <td>Bringing dog to Kearsarge pass? [removed]</td>\n",
       "      <td>0.000</td>\n",
       "      <td>1.000</td>\n",
       "      <td>0.000</td>\n",
       "      <td>0.0000</td>\n",
       "      <td>41</td>\n",
       "      <td>6</td>\n",
       "      <td>2</td>\n",
       "      <td>1</td>\n",
       "    </tr>\n",
       "    <tr>\n",
       "      <th>4</th>\n",
       "      <td>backpacking</td>\n",
       "      <td>1646000495</td>\n",
       "      <td>Mid 30s short trip to Thailand - Bangkok &amp;amp;...</td>\n",
       "      <td>0.024</td>\n",
       "      <td>0.787</td>\n",
       "      <td>0.189</td>\n",
       "      <td>0.9786</td>\n",
       "      <td>839</td>\n",
       "      <td>162</td>\n",
       "      <td>32</td>\n",
       "      <td>11</td>\n",
       "    </tr>\n",
       "  </tbody>\n",
       "</table>\n",
       "</div>"
      ],
      "text/plain": [
       "     subreddit  created_utc  \\\n",
       "0  backpacking   1646011972   \n",
       "1  backpacking   1646007041   \n",
       "2  backpacking   1646005307   \n",
       "3  backpacking   1646004876   \n",
       "4  backpacking   1646000495   \n",
       "\n",
       "                                         title_merge  title_sentiment_neg  \\\n",
       "0  Where to backpack 4 nights in Utah, Arizona, o...                0.000   \n",
       "1                              Peace Walls, Belfast                 0.000   \n",
       "2  How To Mount Snowshoes On Osprey Talon 22 Back...                0.000   \n",
       "3          Bringing dog to Kearsarge pass? [removed]                0.000   \n",
       "4  Mid 30s short trip to Thailand - Bangkok &amp;...                0.024   \n",
       "\n",
       "   title_sentiment_neu  title_sentiment_pos  title_sentiment_compound  \\\n",
       "0                0.804                0.196                    0.9127   \n",
       "1                0.364                0.636                    0.5423   \n",
       "2                0.760                0.240                    0.9282   \n",
       "3                1.000                0.000                    0.0000   \n",
       "4                0.787                0.189                    0.9786   \n",
       "\n",
       "   title_length  title_word_count  capitalized_letters_in_title  \\\n",
       "0           315                60                            16   \n",
       "1            21                 4                             3   \n",
       "2           247                45                            11   \n",
       "3            41                 6                             2   \n",
       "4           839               162                            32   \n",
       "\n",
       "   sentences_in_title  \n",
       "0                   4  \n",
       "1                   0  \n",
       "2                   5  \n",
       "3                   1  \n",
       "4                  11  "
      ]
     },
     "execution_count": 85,
     "metadata": {},
     "output_type": "execute_result"
    }
   ],
   "source": [
    "# Drop title_sentiment column because it's a dictionary and I have the columns on their own \n",
    "df.drop(columns='title_sentiment', inplace=True)\n",
    "df.head()"
   ]
  },
  {
   "cell_type": "markdown",
   "id": "3b97a0ba-7ab0-4bb1-b853-956eb8614996",
   "metadata": {},
   "source": [
    "#### Exporting data with Title and Selftext merged to `engineered_data` folder"
   ]
  },
  {
   "cell_type": "code",
   "execution_count": 86,
   "id": "8f53b4ff-6947-48d4-830a-dff750a87a5a",
   "metadata": {},
   "outputs": [
    {
     "data": {
      "text/plain": [
       "'------------------------------------------------------------------------------------------------------------------------------------------------'"
      ]
     },
     "execution_count": 86,
     "metadata": {},
     "output_type": "execute_result"
    }
   ],
   "source": [
    "# Write engineered data to CSV to be used in modeling\n",
    "df.to_csv('../engineered_data/engineered_data_merged_columns.csv', index=False)\n",
    "\"----\" * 36"
   ]
  },
  {
   "cell_type": "markdown",
   "id": "b49cd1e4-de8c-4ae8-b184-c91907a16b98",
   "metadata": {},
   "source": [
    "### Splitting Dataframe into Two Dataframes: Backpacking & Ultrarunning"
   ]
  },
  {
   "cell_type": "code",
   "execution_count": 87,
   "id": "dc0b6f0f-1505-4117-a4d1-9766173f017b",
   "metadata": {},
   "outputs": [
    {
     "data": {
      "text/html": [
       "<div>\n",
       "<style scoped>\n",
       "    .dataframe tbody tr th:only-of-type {\n",
       "        vertical-align: middle;\n",
       "    }\n",
       "\n",
       "    .dataframe tbody tr th {\n",
       "        vertical-align: top;\n",
       "    }\n",
       "\n",
       "    .dataframe thead th {\n",
       "        text-align: right;\n",
       "    }\n",
       "</style>\n",
       "<table border=\"1\" class=\"dataframe\">\n",
       "  <thead>\n",
       "    <tr style=\"text-align: right;\">\n",
       "      <th></th>\n",
       "      <th>subreddit</th>\n",
       "      <th>created_utc</th>\n",
       "      <th>title_merge</th>\n",
       "      <th>title_sentiment_neg</th>\n",
       "      <th>title_sentiment_neu</th>\n",
       "      <th>title_sentiment_pos</th>\n",
       "      <th>title_sentiment_compound</th>\n",
       "      <th>title_length</th>\n",
       "      <th>title_word_count</th>\n",
       "      <th>capitalized_letters_in_title</th>\n",
       "      <th>sentences_in_title</th>\n",
       "    </tr>\n",
       "  </thead>\n",
       "  <tbody>\n",
       "    <tr>\n",
       "      <th>0</th>\n",
       "      <td>backpacking</td>\n",
       "      <td>1646011972</td>\n",
       "      <td>Where to backpack 4 nights in Utah, Arizona, o...</td>\n",
       "      <td>0.000</td>\n",
       "      <td>0.804</td>\n",
       "      <td>0.196</td>\n",
       "      <td>0.9127</td>\n",
       "      <td>315</td>\n",
       "      <td>60</td>\n",
       "      <td>16</td>\n",
       "      <td>4</td>\n",
       "    </tr>\n",
       "    <tr>\n",
       "      <th>1</th>\n",
       "      <td>backpacking</td>\n",
       "      <td>1646007041</td>\n",
       "      <td>Peace Walls, Belfast</td>\n",
       "      <td>0.000</td>\n",
       "      <td>0.364</td>\n",
       "      <td>0.636</td>\n",
       "      <td>0.5423</td>\n",
       "      <td>21</td>\n",
       "      <td>4</td>\n",
       "      <td>3</td>\n",
       "      <td>0</td>\n",
       "    </tr>\n",
       "    <tr>\n",
       "      <th>2</th>\n",
       "      <td>backpacking</td>\n",
       "      <td>1646005307</td>\n",
       "      <td>How To Mount Snowshoes On Osprey Talon 22 Back...</td>\n",
       "      <td>0.000</td>\n",
       "      <td>0.760</td>\n",
       "      <td>0.240</td>\n",
       "      <td>0.9282</td>\n",
       "      <td>247</td>\n",
       "      <td>45</td>\n",
       "      <td>11</td>\n",
       "      <td>5</td>\n",
       "    </tr>\n",
       "    <tr>\n",
       "      <th>3</th>\n",
       "      <td>backpacking</td>\n",
       "      <td>1646004876</td>\n",
       "      <td>Bringing dog to Kearsarge pass? [removed]</td>\n",
       "      <td>0.000</td>\n",
       "      <td>1.000</td>\n",
       "      <td>0.000</td>\n",
       "      <td>0.0000</td>\n",
       "      <td>41</td>\n",
       "      <td>6</td>\n",
       "      <td>2</td>\n",
       "      <td>1</td>\n",
       "    </tr>\n",
       "    <tr>\n",
       "      <th>4</th>\n",
       "      <td>backpacking</td>\n",
       "      <td>1646000495</td>\n",
       "      <td>Mid 30s short trip to Thailand - Bangkok &amp;amp;...</td>\n",
       "      <td>0.024</td>\n",
       "      <td>0.787</td>\n",
       "      <td>0.189</td>\n",
       "      <td>0.9786</td>\n",
       "      <td>839</td>\n",
       "      <td>162</td>\n",
       "      <td>32</td>\n",
       "      <td>11</td>\n",
       "    </tr>\n",
       "  </tbody>\n",
       "</table>\n",
       "</div>"
      ],
      "text/plain": [
       "     subreddit  created_utc  \\\n",
       "0  backpacking   1646011972   \n",
       "1  backpacking   1646007041   \n",
       "2  backpacking   1646005307   \n",
       "3  backpacking   1646004876   \n",
       "4  backpacking   1646000495   \n",
       "\n",
       "                                         title_merge  title_sentiment_neg  \\\n",
       "0  Where to backpack 4 nights in Utah, Arizona, o...                0.000   \n",
       "1                              Peace Walls, Belfast                 0.000   \n",
       "2  How To Mount Snowshoes On Osprey Talon 22 Back...                0.000   \n",
       "3          Bringing dog to Kearsarge pass? [removed]                0.000   \n",
       "4  Mid 30s short trip to Thailand - Bangkok &amp;...                0.024   \n",
       "\n",
       "   title_sentiment_neu  title_sentiment_pos  title_sentiment_compound  \\\n",
       "0                0.804                0.196                    0.9127   \n",
       "1                0.364                0.636                    0.5423   \n",
       "2                0.760                0.240                    0.9282   \n",
       "3                1.000                0.000                    0.0000   \n",
       "4                0.787                0.189                    0.9786   \n",
       "\n",
       "   title_length  title_word_count  capitalized_letters_in_title  \\\n",
       "0           315                60                            16   \n",
       "1            21                 4                             3   \n",
       "2           247                45                            11   \n",
       "3            41                 6                             2   \n",
       "4           839               162                            32   \n",
       "\n",
       "   sentences_in_title  \n",
       "0                   4  \n",
       "1                   0  \n",
       "2                   5  \n",
       "3                   1  \n",
       "4                  11  "
      ]
     },
     "execution_count": 87,
     "metadata": {},
     "output_type": "execute_result"
    }
   ],
   "source": [
    "df_backpacking = df[df['subreddit'] == 'backpacking']\n",
    "df_backpacking.head()"
   ]
  },
  {
   "cell_type": "code",
   "execution_count": 88,
   "id": "6fe30963-d597-4eca-8952-d0af69fde297",
   "metadata": {},
   "outputs": [
    {
     "data": {
      "text/html": [
       "<div>\n",
       "<style scoped>\n",
       "    .dataframe tbody tr th:only-of-type {\n",
       "        vertical-align: middle;\n",
       "    }\n",
       "\n",
       "    .dataframe tbody tr th {\n",
       "        vertical-align: top;\n",
       "    }\n",
       "\n",
       "    .dataframe thead th {\n",
       "        text-align: right;\n",
       "    }\n",
       "</style>\n",
       "<table border=\"1\" class=\"dataframe\">\n",
       "  <thead>\n",
       "    <tr style=\"text-align: right;\">\n",
       "      <th></th>\n",
       "      <th>subreddit</th>\n",
       "      <th>created_utc</th>\n",
       "      <th>title_merge</th>\n",
       "      <th>title_sentiment_neg</th>\n",
       "      <th>title_sentiment_neu</th>\n",
       "      <th>title_sentiment_pos</th>\n",
       "      <th>title_sentiment_compound</th>\n",
       "      <th>title_length</th>\n",
       "      <th>title_word_count</th>\n",
       "      <th>capitalized_letters_in_title</th>\n",
       "      <th>sentences_in_title</th>\n",
       "    </tr>\n",
       "  </thead>\n",
       "  <tbody>\n",
       "    <tr>\n",
       "      <th>1999</th>\n",
       "      <td>ultrarunning</td>\n",
       "      <td>1645998486</td>\n",
       "      <td>Hamstring? IT Band? Anyone have any idea what'...</td>\n",
       "      <td>0.060</td>\n",
       "      <td>0.833</td>\n",
       "      <td>0.107</td>\n",
       "      <td>0.9419</td>\n",
       "      <td>1434</td>\n",
       "      <td>269</td>\n",
       "      <td>43</td>\n",
       "      <td>20</td>\n",
       "    </tr>\n",
       "    <tr>\n",
       "      <th>2000</th>\n",
       "      <td>ultrarunning</td>\n",
       "      <td>1645974508</td>\n",
       "      <td>Kodiak 100 Big Bear Has anyone else signed up ...</td>\n",
       "      <td>0.000</td>\n",
       "      <td>0.788</td>\n",
       "      <td>0.212</td>\n",
       "      <td>0.8655</td>\n",
       "      <td>210</td>\n",
       "      <td>40</td>\n",
       "      <td>14</td>\n",
       "      <td>4</td>\n",
       "    </tr>\n",
       "    <tr>\n",
       "      <th>2001</th>\n",
       "      <td>ultrarunning</td>\n",
       "      <td>1645967199</td>\n",
       "      <td>What's your recovery food/supplementation for ...</td>\n",
       "      <td>0.054</td>\n",
       "      <td>0.819</td>\n",
       "      <td>0.128</td>\n",
       "      <td>0.9105</td>\n",
       "      <td>780</td>\n",
       "      <td>142</td>\n",
       "      <td>12</td>\n",
       "      <td>7</td>\n",
       "    </tr>\n",
       "    <tr>\n",
       "      <th>2002</th>\n",
       "      <td>ultrarunning</td>\n",
       "      <td>1645949692</td>\n",
       "      <td>What's your best advice for bullet-proof quads...</td>\n",
       "      <td>0.133</td>\n",
       "      <td>0.725</td>\n",
       "      <td>0.143</td>\n",
       "      <td>0.2858</td>\n",
       "      <td>511</td>\n",
       "      <td>94</td>\n",
       "      <td>7</td>\n",
       "      <td>7</td>\n",
       "    </tr>\n",
       "    <tr>\n",
       "      <th>2003</th>\n",
       "      <td>ultrarunning</td>\n",
       "      <td>1645904750</td>\n",
       "      <td>1955 Ultra finisher awards  \\n\\nhttps://previe...</td>\n",
       "      <td>0.000</td>\n",
       "      <td>0.734</td>\n",
       "      <td>0.266</td>\n",
       "      <td>0.9685</td>\n",
       "      <td>717</td>\n",
       "      <td>68</td>\n",
       "      <td>30</td>\n",
       "      <td>11</td>\n",
       "    </tr>\n",
       "  </tbody>\n",
       "</table>\n",
       "</div>"
      ],
      "text/plain": [
       "         subreddit  created_utc  \\\n",
       "1999  ultrarunning   1645998486   \n",
       "2000  ultrarunning   1645974508   \n",
       "2001  ultrarunning   1645967199   \n",
       "2002  ultrarunning   1645949692   \n",
       "2003  ultrarunning   1645904750   \n",
       "\n",
       "                                            title_merge  title_sentiment_neg  \\\n",
       "1999  Hamstring? IT Band? Anyone have any idea what'...                0.060   \n",
       "2000  Kodiak 100 Big Bear Has anyone else signed up ...                0.000   \n",
       "2001  What's your recovery food/supplementation for ...                0.054   \n",
       "2002  What's your best advice for bullet-proof quads...                0.133   \n",
       "2003  1955 Ultra finisher awards  \\n\\nhttps://previe...                0.000   \n",
       "\n",
       "      title_sentiment_neu  title_sentiment_pos  title_sentiment_compound  \\\n",
       "1999                0.833                0.107                    0.9419   \n",
       "2000                0.788                0.212                    0.8655   \n",
       "2001                0.819                0.128                    0.9105   \n",
       "2002                0.725                0.143                    0.2858   \n",
       "2003                0.734                0.266                    0.9685   \n",
       "\n",
       "      title_length  title_word_count  capitalized_letters_in_title  \\\n",
       "1999          1434               269                            43   \n",
       "2000           210                40                            14   \n",
       "2001           780               142                            12   \n",
       "2002           511                94                             7   \n",
       "2003           717                68                            30   \n",
       "\n",
       "      sentences_in_title  \n",
       "1999                  20  \n",
       "2000                   4  \n",
       "2001                   7  \n",
       "2002                   7  \n",
       "2003                  11  "
      ]
     },
     "execution_count": 88,
     "metadata": {},
     "output_type": "execute_result"
    }
   ],
   "source": [
    "df_ultrarunning = df[df['subreddit'] == 'ultrarunning']\n",
    "df_ultrarunning.head()"
   ]
  },
  {
   "cell_type": "markdown",
   "id": "95d478f7-045b-4178-92ab-67250f5f299e",
   "metadata": {},
   "source": [
    "### EDA on Newly Engineered Dataframe (prior to CountVectorize)"
   ]
  },
  {
   "cell_type": "code",
   "execution_count": 89,
   "id": "44bd81f7-1a46-41bf-b16b-7491c0e276ba",
   "metadata": {},
   "outputs": [
    {
     "data": {
      "text/html": [
       "<div>\n",
       "<style scoped>\n",
       "    .dataframe tbody tr th:only-of-type {\n",
       "        vertical-align: middle;\n",
       "    }\n",
       "\n",
       "    .dataframe tbody tr th {\n",
       "        vertical-align: top;\n",
       "    }\n",
       "\n",
       "    .dataframe thead th {\n",
       "        text-align: right;\n",
       "    }\n",
       "</style>\n",
       "<table border=\"1\" class=\"dataframe\">\n",
       "  <thead>\n",
       "    <tr style=\"text-align: right;\">\n",
       "      <th></th>\n",
       "      <th>subreddit</th>\n",
       "      <th>created_utc</th>\n",
       "      <th>title_merge</th>\n",
       "      <th>title_sentiment_neg</th>\n",
       "      <th>title_sentiment_neu</th>\n",
       "      <th>title_sentiment_pos</th>\n",
       "      <th>title_sentiment_compound</th>\n",
       "      <th>title_length</th>\n",
       "      <th>title_word_count</th>\n",
       "      <th>capitalized_letters_in_title</th>\n",
       "      <th>sentences_in_title</th>\n",
       "    </tr>\n",
       "  </thead>\n",
       "  <tbody>\n",
       "    <tr>\n",
       "      <th>0</th>\n",
       "      <td>backpacking</td>\n",
       "      <td>1646011972</td>\n",
       "      <td>Where to backpack 4 nights in Utah, Arizona, o...</td>\n",
       "      <td>0.000</td>\n",
       "      <td>0.804</td>\n",
       "      <td>0.196</td>\n",
       "      <td>0.9127</td>\n",
       "      <td>315</td>\n",
       "      <td>60</td>\n",
       "      <td>16</td>\n",
       "      <td>4</td>\n",
       "    </tr>\n",
       "    <tr>\n",
       "      <th>1</th>\n",
       "      <td>backpacking</td>\n",
       "      <td>1646007041</td>\n",
       "      <td>Peace Walls, Belfast</td>\n",
       "      <td>0.000</td>\n",
       "      <td>0.364</td>\n",
       "      <td>0.636</td>\n",
       "      <td>0.5423</td>\n",
       "      <td>21</td>\n",
       "      <td>4</td>\n",
       "      <td>3</td>\n",
       "      <td>0</td>\n",
       "    </tr>\n",
       "    <tr>\n",
       "      <th>2</th>\n",
       "      <td>backpacking</td>\n",
       "      <td>1646005307</td>\n",
       "      <td>How To Mount Snowshoes On Osprey Talon 22 Back...</td>\n",
       "      <td>0.000</td>\n",
       "      <td>0.760</td>\n",
       "      <td>0.240</td>\n",
       "      <td>0.9282</td>\n",
       "      <td>247</td>\n",
       "      <td>45</td>\n",
       "      <td>11</td>\n",
       "      <td>5</td>\n",
       "    </tr>\n",
       "    <tr>\n",
       "      <th>3</th>\n",
       "      <td>backpacking</td>\n",
       "      <td>1646004876</td>\n",
       "      <td>Bringing dog to Kearsarge pass? [removed]</td>\n",
       "      <td>0.000</td>\n",
       "      <td>1.000</td>\n",
       "      <td>0.000</td>\n",
       "      <td>0.0000</td>\n",
       "      <td>41</td>\n",
       "      <td>6</td>\n",
       "      <td>2</td>\n",
       "      <td>1</td>\n",
       "    </tr>\n",
       "    <tr>\n",
       "      <th>4</th>\n",
       "      <td>backpacking</td>\n",
       "      <td>1646000495</td>\n",
       "      <td>Mid 30s short trip to Thailand - Bangkok &amp;amp;...</td>\n",
       "      <td>0.024</td>\n",
       "      <td>0.787</td>\n",
       "      <td>0.189</td>\n",
       "      <td>0.9786</td>\n",
       "      <td>839</td>\n",
       "      <td>162</td>\n",
       "      <td>32</td>\n",
       "      <td>11</td>\n",
       "    </tr>\n",
       "  </tbody>\n",
       "</table>\n",
       "</div>"
      ],
      "text/plain": [
       "     subreddit  created_utc  \\\n",
       "0  backpacking   1646011972   \n",
       "1  backpacking   1646007041   \n",
       "2  backpacking   1646005307   \n",
       "3  backpacking   1646004876   \n",
       "4  backpacking   1646000495   \n",
       "\n",
       "                                         title_merge  title_sentiment_neg  \\\n",
       "0  Where to backpack 4 nights in Utah, Arizona, o...                0.000   \n",
       "1                              Peace Walls, Belfast                 0.000   \n",
       "2  How To Mount Snowshoes On Osprey Talon 22 Back...                0.000   \n",
       "3          Bringing dog to Kearsarge pass? [removed]                0.000   \n",
       "4  Mid 30s short trip to Thailand - Bangkok &amp;...                0.024   \n",
       "\n",
       "   title_sentiment_neu  title_sentiment_pos  title_sentiment_compound  \\\n",
       "0                0.804                0.196                    0.9127   \n",
       "1                0.364                0.636                    0.5423   \n",
       "2                0.760                0.240                    0.9282   \n",
       "3                1.000                0.000                    0.0000   \n",
       "4                0.787                0.189                    0.9786   \n",
       "\n",
       "   title_length  title_word_count  capitalized_letters_in_title  \\\n",
       "0           315                60                            16   \n",
       "1            21                 4                             3   \n",
       "2           247                45                            11   \n",
       "3            41                 6                             2   \n",
       "4           839               162                            32   \n",
       "\n",
       "   sentences_in_title  \n",
       "0                   4  \n",
       "1                   0  \n",
       "2                   5  \n",
       "3                   1  \n",
       "4                  11  "
      ]
     },
     "execution_count": 89,
     "metadata": {},
     "output_type": "execute_result"
    }
   ],
   "source": [
    "df.head()"
   ]
  },
  {
   "cell_type": "code",
   "execution_count": 90,
   "id": "a3557686-843f-4b2a-b098-faf4e396f1fb",
   "metadata": {},
   "outputs": [
    {
     "data": {
      "image/png": "[encoded data removed]",
      "text/plain": [
       "<Figure size 864x432 with 1 Axes>"
      ]
     },
     "metadata": {
      "needs_background": "light"
     },
     "output_type": "display_data"
    }
   ],
   "source": [
    "df.groupby('subreddit').sum()['title_word_count'].sort_values(ascending=True).plot.barh(figsize=(12,6), color = '#097a80');"
   ]
  },
  {
   "cell_type": "code",
   "execution_count": 91,
   "id": "2ab8a032-e7d9-442d-86df-b8f157df058f",
   "metadata": {},
   "outputs": [
    {
     "data": {
      "image/png": "[encoded data removed]",
      "text/plain": [
       "<Figure size 864x432 with 1 Axes>"
      ]
     },
     "metadata": {
      "needs_background": "light"
     },
     "output_type": "display_data"
    }
   ],
   "source": [
    "df.groupby(['subreddit']).sum()[['title_length','title_word_count']].plot.barh(cmap='coolwarm', figsize=(12,6));"
   ]
  },
  {
   "cell_type": "code",
   "execution_count": 92,
   "id": "073a57d7-45c7-4155-b4cd-de4996511166",
   "metadata": {},
   "outputs": [
    {
     "data": {
      "image/png": "[encoded data removed]",
      "text/plain": [
       "<Figure size 864x432 with 2 Axes>"
      ]
     },
     "metadata": {
      "needs_background": "light"
     },
     "output_type": "display_data"
    }
   ],
   "source": [
    "df[['title_length', 'title_word_count']].hist(figsize=(12,6), color = '#097a80');"
   ]
  },
  {
   "cell_type": "code",
   "execution_count": 93,
   "id": "c3cfb397-b30b-452c-8ca7-d71525f53646",
   "metadata": {},
   "outputs": [
    {
     "data": {
      "image/png": "[encoded data removed]",
      "text/plain": [
       "<Figure size 998.875x900 with 20 Axes>"
      ]
     },
     "metadata": {
      "needs_background": "light"
     },
     "output_type": "display_data"
    }
   ],
   "source": [
    "sns.pairplot(df, x_vars=['title_sentiment_compound','title_length', 'title_word_count',\n",
    "                         'capitalized_letters_in_title', 'sentences_in_title'],\n",
    "                 y_vars=['title_sentiment_compound','title_length', 'title_word_count',\n",
    "                         'capitalized_letters_in_title', 'sentences_in_title'],\n",
    "                         hue='subreddit',\n",
    "                         corner=True);"
   ]
  },
  {
   "cell_type": "markdown",
   "id": "4e588a70-c7b5-478a-abd2-bae95b915cdc",
   "metadata": {},
   "source": [
    "### Set up for CountVectorizer"
   ]
  },
  {
   "cell_type": "code",
   "execution_count": 94,
   "id": "0a979e87-7928-4ab0-80dc-866a597924e0",
   "metadata": {},
   "outputs": [],
   "source": [
    "# Set up for CountVectorizer\n",
    "\n",
    "X = df['title_merge']\n",
    "y = df['subreddit']"
   ]
  },
  {
   "cell_type": "code",
   "execution_count": 95,
   "id": "dd79df2a-dbc3-44fe-b743-8935775b88a2",
   "metadata": {},
   "outputs": [],
   "source": [
    "# Test/Train/Split\n",
    "\n",
    "X_train, X_test, y_train, y_test = train_test_split(X, y, random_state=42)"
   ]
  },
  {
   "cell_type": "code",
   "execution_count": 96,
   "id": "6314651d-3fbe-428f-9f12-eb117e0d1291",
   "metadata": {},
   "outputs": [],
   "source": [
    "# Instantiate a CountVectorizer with the default hyperparamters\n",
    "cvec = CountVectorizer(stop_words='english')"
   ]
  },
  {
   "cell_type": "code",
   "execution_count": 97,
   "id": "d1aa59ba-d5d0-41fc-ac3a-28f7cfe85e36",
   "metadata": {},
   "outputs": [
    {
     "data": {
      "text/plain": [
       "CountVectorizer(stop_words='english')"
      ]
     },
     "execution_count": 97,
     "metadata": {},
     "output_type": "execute_result"
    }
   ],
   "source": [
    "# Fit the vectorizer on my corpus\n",
    "cvec.fit(X_train)"
   ]
  },
  {
   "cell_type": "code",
   "execution_count": 98,
   "id": "0f0d286d-9e99-412a-aa79-0a9baa5bee4d",
   "metadata": {},
   "outputs": [],
   "source": [
    "# Transform the corpus\n",
    "X_train = cvec.transform(X_train)\n",
    "\n",
    "# Transform test\n",
    "X_test = cvec.transform(X_test)"
   ]
  },
  {
   "cell_type": "code",
   "execution_count": 99,
   "id": "a4b62636-ad57-459e-b189-7937441b2a3d",
   "metadata": {},
   "outputs": [
    {
     "data": {
      "text/plain": [
       "['6089305451',\n",
       " '60fps',\n",
       " '60ish',\n",
       " '60k',\n",
       " '60km',\n",
       " '60l',\n",
       " '60m',\n",
       " '60miles',\n",
       " '60mpw',\n",
       " '60s']"
      ]
     },
     "execution_count": 99,
     "metadata": {},
     "output_type": "execute_result"
    }
   ],
   "source": [
    "# View some of the feature_names\n",
    "\n",
    "cvec.get_feature_names()[1000:1010]"
   ]
  },
  {
   "cell_type": "code",
   "execution_count": 100,
   "id": "7180b232-5376-4991-909a-faab280ab7ec",
   "metadata": {},
   "outputs": [],
   "source": [
    "X_train_df = pd.DataFrame(X_train.todense(),\n",
    "                         columns=cvec.get_feature_names())"
   ]
  },
  {
   "cell_type": "markdown",
   "id": "74115650-af87-4855-b2f1-93c32acdc754",
   "metadata": {},
   "source": [
    "## EDA on CountVectorized Title"
   ]
  },
  {
   "cell_type": "code",
   "execution_count": 101,
   "id": "ce73e5ee-360a-4167-b6ca-d52a74f55096",
   "metadata": {},
   "outputs": [
    {
     "data": {
      "image/png": "[encoded data removed]",
      "text/plain": [
       "<Figure size 864x432 with 1 Axes>"
      ]
     },
     "metadata": {
      "needs_background": "light"
     },
     "output_type": "display_data"
    }
   ],
   "source": [
    "# Top 20 occurring words in either subreddits - using both Title & Selftext columns merged. \n",
    "# Models were based on this method; use this for visuals!\n",
    "\n",
    "X_train_df.sum(numeric_only=True).sort_values(ascending=True).tail(10).plot.barh(figsize=(12,6), color = '#097a80')\n",
    "plt.xlabel('Frequency', fontdict= {'fontsize':14})\n",
    "plt.ylabel('Common Words', fontdict= {'fontsize':14})\n",
    "plt.title('Top 10 Words in Either Subreddit', fontdict = {'fontsize':16})\n",
    "plt.savefig(\"../graphics/Top_10_words_either_subreddit_title_and_selftext.jpg\", bbox_inches=\"tight\", dpi=100); #save as jpg"
   ]
  },
  {
   "cell_type": "markdown",
   "id": "0f3677f6-e55b-44e4-a73e-591a4a0c3131",
   "metadata": {},
   "source": [
    "### Sentiment Distribution\n",
    "Since I performed Sentiment Analysis by Subreddit, I wanted to see how they compared to each other. It looks like the Ultrarunning subreddit is a bit more positive than Backpacking... which is largely neutral"
   ]
  },
  {
   "cell_type": "code",
   "execution_count": 102,
   "id": "40e7808b-782e-4ac9-8a15-9a4ed3126da5",
   "metadata": {},
   "outputs": [
    {
     "data": {
      "image/png": "[encoded data removed]",
      "text/plain": [
       "<Figure size 864x432 with 1 Axes>"
      ]
     },
     "metadata": {
      "needs_background": "light"
     },
     "output_type": "display_data"
    }
   ],
   "source": [
    "plt.figure(figsize=(12,6))\n",
    "plt.hist(df_backpacking['title_sentiment_compound'], color ='#097a80', label='Backpacking', alpha = 0.8, bins=25)\n",
    "plt.hist(df_ultrarunning['title_sentiment_compound'], color = '#80097a', label='Ultrarunning', alpha = 0.5, bins=25)\n",
    "plt.xlabel('Sentiment Score', fontdict= {'fontsize':14})\n",
    "plt.ylabel('Frequency', fontdict= {'fontsize':14})\n",
    "plt.title('Distribution of Sentiment Analysis by Subreddit', fontdict = {'fontsize':16})\n",
    "plt.legend()\n",
    "plt.tight_layout()\n",
    "plt.savefig(\"../graphics/sentinment_distribution.jpg\", bbox_inches=\"tight\", dpi=100); #save as jpg;"
   ]
  },
  {
   "cell_type": "code",
   "execution_count": null,
   "id": "d1a3c3df-367b-4333-8daa-5e387762d27b",
   "metadata": {},
   "outputs": [],
   "source": []
  }
 ],
 "metadata": {
  "kernelspec": {
   "display_name": "Python 3 (ipykernel)",
   "language": "python",
   "name": "python3"
  },
  "language_info": {
   "codemirror_mode": {
    "name": "ipython",
    "version": 3
   },
   "file_extension": ".py",
   "mimetype": "text/x-python",
   "name": "python",
   "nbconvert_exporter": "python",
   "pygments_lexer": "ipython3",
   "version": "3.9.7"
  }
 },
 "nbformat": 4,
 "nbformat_minor": 5
}
