{
 "cells": [
  {
   "cell_type": "markdown",
   "id": "689371f4-d3f4-4334-8ac5-216ef0611bc4",
   "metadata": {},
   "source": [
    "## Notebook Description\n",
    "This notebook is dedicated to Feature Engineering and EDA on the clean data read in from the `clean_data` folder. It will look at the data in one dataframe, then split the data into two dataframes (one for each Subreddit), to look at the data independently. It will also look at the Feature Engineered columns to exploit patterns amongst the data."
   ]
  },
  {
   "cell_type": "code",
   "execution_count": 1,
   "id": "50eb68a4-4216-488a-93ce-e89fb8f1fa78",
   "metadata": {},
   "outputs": [],
   "source": [
    "# imports\n",
    "import pandas as pd\n",
    "import numpy as np\n",
    "import matplotlib.pyplot as plt\n",
    "import seaborn as sns\n",
    "\n",
    "from sklearn.model_selection import train_test_split\n",
    "from sklearn.feature_extraction.text import CountVectorizer\n",
    "from nltk.sentiment.vader import SentimentIntensityAnalyzer\n",
    "import re"
   ]
  },
  {
   "cell_type": "code",
   "execution_count": 2,
   "id": "f7973ec4-2863-4877-acf0-a2354347b591",
   "metadata": {},
   "outputs": [
    {
     "data": {
      "text/html": [
       "<div>\n",
       "<style scoped>\n",
       "    .dataframe tbody tr th:only-of-type {\n",
       "        vertical-align: middle;\n",
       "    }\n",
       "\n",
       "    .dataframe tbody tr th {\n",
       "        vertical-align: top;\n",
       "    }\n",
       "\n",
       "    .dataframe thead th {\n",
       "        text-align: right;\n",
       "    }\n",
       "</style>\n",
       "<table border=\"1\" class=\"dataframe\">\n",
       "  <thead>\n",
       "    <tr style=\"text-align: right;\">\n",
       "      <th></th>\n",
       "      <th>title</th>\n",
       "      <th>selftext</th>\n",
       "      <th>subreddit</th>\n",
       "      <th>created_utc</th>\n",
       "    </tr>\n",
       "  </thead>\n",
       "  <tbody>\n",
       "    <tr>\n",
       "      <th>0</th>\n",
       "      <td>We’d comfort in the back country? Check these ...</td>\n",
       "      <td>NaN</td>\n",
       "      <td>backpacking</td>\n",
       "      <td>1646363240</td>\n",
       "    </tr>\n",
       "    <tr>\n",
       "      <th>1</th>\n",
       "      <td>Finding water on the trail</td>\n",
       "      <td>Yo waddup every1, I was wondering how I might ...</td>\n",
       "      <td>backpacking</td>\n",
       "      <td>1646363128</td>\n",
       "    </tr>\n",
       "    <tr>\n",
       "      <th>2</th>\n",
       "      <td>Pacing Tips</td>\n",
       "      <td>Hey y'all! I've just been backpacking in Mexic...</td>\n",
       "      <td>backpacking</td>\n",
       "      <td>1646359058</td>\n",
       "    </tr>\n",
       "    <tr>\n",
       "      <th>3</th>\n",
       "      <td>Fes Morocco 5 hr layover</td>\n",
       "      <td>[removed]</td>\n",
       "      <td>backpacking</td>\n",
       "      <td>1646358302</td>\n",
       "    </tr>\n",
       "    <tr>\n",
       "      <th>4</th>\n",
       "      <td>Hi all, I have a favor to ask. I designed a mo...</td>\n",
       "      <td>NaN</td>\n",
       "      <td>backpacking</td>\n",
       "      <td>1646356995</td>\n",
       "    </tr>\n",
       "  </tbody>\n",
       "</table>\n",
       "</div>"
      ],
      "text/plain": [
       "                                               title  \\\n",
       "0  We’d comfort in the back country? Check these ...   \n",
       "1                         Finding water on the trail   \n",
       "2                                        Pacing Tips   \n",
       "3                           Fes Morocco 5 hr layover   \n",
       "4  Hi all, I have a favor to ask. I designed a mo...   \n",
       "\n",
       "                                            selftext    subreddit  created_utc  \n",
       "0                                                NaN  backpacking   1646363240  \n",
       "1  Yo waddup every1, I was wondering how I might ...  backpacking   1646363128  \n",
       "2  Hey y'all! I've just been backpacking in Mexic...  backpacking   1646359058  \n",
       "3                                          [removed]  backpacking   1646358302  \n",
       "4                                                NaN  backpacking   1646356995  "
      ]
     },
     "execution_count": 2,
     "metadata": {},
     "output_type": "execute_result"
    }
   ],
   "source": [
    "df = pd.read_csv('../raw_data/reddit.csv')\n",
    "df.head()"
   ]
  },
  {
   "cell_type": "code",
   "execution_count": 3,
   "id": "ad090236-1f01-48d3-90c6-2a75062236d9",
   "metadata": {},
   "outputs": [
    {
     "data": {
      "text/plain": [
       "title             0\n",
       "selftext       1420\n",
       "subreddit         0\n",
       "created_utc       0\n",
       "dtype: int64"
      ]
     },
     "execution_count": 3,
     "metadata": {},
     "output_type": "execute_result"
    }
   ],
   "source": [
    "df.isnull().sum()"
   ]
  },
  {
   "cell_type": "code",
   "execution_count": 4,
   "id": "9bb089eb-aa47-4642-9216-82d998b13fe9",
   "metadata": {},
   "outputs": [
    {
     "data": {
      "text/plain": [
       "title          0\n",
       "selftext       0\n",
       "subreddit      0\n",
       "created_utc    0\n",
       "dtype: int64"
      ]
     },
     "execution_count": 4,
     "metadata": {},
     "output_type": "execute_result"
    }
   ],
   "source": [
    "df['selftext'] = df['selftext'].fillna('')\n",
    "df.isnull().sum()"
   ]
  },
  {
   "cell_type": "markdown",
   "id": "fefbd097-39cc-4582-a7ce-c0ac861eafc5",
   "metadata": {},
   "source": [
    "#### Baseline Model"
   ]
  },
  {
   "cell_type": "code",
   "execution_count": 5,
   "id": "2d25d648-424a-4883-994d-bee92603c0da",
   "metadata": {},
   "outputs": [
    {
     "data": {
      "text/plain": [
       "ultrarunning    0.500125\n",
       "backpacking     0.499875\n",
       "Name: subreddit, dtype: float64"
      ]
     },
     "execution_count": 5,
     "metadata": {},
     "output_type": "execute_result"
    }
   ],
   "source": [
    "# Baseline model\n",
    "df['subreddit'].value_counts(normalize=True)"
   ]
  },
  {
   "cell_type": "markdown",
   "id": "a5d82345-25f2-4810-b62b-9c0ec4ffb2fd",
   "metadata": {},
   "source": [
    "# Feature Engineering"
   ]
  },
  {
   "cell_type": "markdown",
   "id": "07a1b54a-eb8f-4729-8c3a-c366d78f40a0",
   "metadata": {},
   "source": [
    "## Merging Title and Selftext columns"
   ]
  },
  {
   "cell_type": "code",
   "execution_count": 6,
   "id": "66d6eb80-6c61-4731-bedb-cfeba6239628",
   "metadata": {},
   "outputs": [
    {
     "data": {
      "text/html": [
       "<div>\n",
       "<style scoped>\n",
       "    .dataframe tbody tr th:only-of-type {\n",
       "        vertical-align: middle;\n",
       "    }\n",
       "\n",
       "    .dataframe tbody tr th {\n",
       "        vertical-align: top;\n",
       "    }\n",
       "\n",
       "    .dataframe thead th {\n",
       "        text-align: right;\n",
       "    }\n",
       "</style>\n",
       "<table border=\"1\" class=\"dataframe\">\n",
       "  <thead>\n",
       "    <tr style=\"text-align: right;\">\n",
       "      <th></th>\n",
       "      <th>subreddit</th>\n",
       "      <th>created_utc</th>\n",
       "      <th>title_merge</th>\n",
       "    </tr>\n",
       "  </thead>\n",
       "  <tbody>\n",
       "    <tr>\n",
       "      <th>0</th>\n",
       "      <td>backpacking</td>\n",
       "      <td>1646363240</td>\n",
       "      <td>We’d comfort in the back country? Check these ...</td>\n",
       "    </tr>\n",
       "    <tr>\n",
       "      <th>1</th>\n",
       "      <td>backpacking</td>\n",
       "      <td>1646363128</td>\n",
       "      <td>Finding water on the trail Yo waddup every1, I...</td>\n",
       "    </tr>\n",
       "    <tr>\n",
       "      <th>2</th>\n",
       "      <td>backpacking</td>\n",
       "      <td>1646359058</td>\n",
       "      <td>Pacing Tips Hey y'all! I've just been backpack...</td>\n",
       "    </tr>\n",
       "    <tr>\n",
       "      <th>3</th>\n",
       "      <td>backpacking</td>\n",
       "      <td>1646358302</td>\n",
       "      <td>Fes Morocco 5 hr layover [removed]</td>\n",
       "    </tr>\n",
       "    <tr>\n",
       "      <th>4</th>\n",
       "      <td>backpacking</td>\n",
       "      <td>1646356995</td>\n",
       "      <td>Hi all, I have a favor to ask. I designed a mo...</td>\n",
       "    </tr>\n",
       "  </tbody>\n",
       "</table>\n",
       "</div>"
      ],
      "text/plain": [
       "     subreddit  created_utc                                        title_merge\n",
       "0  backpacking   1646363240  We’d comfort in the back country? Check these ...\n",
       "1  backpacking   1646363128  Finding water on the trail Yo waddup every1, I...\n",
       "2  backpacking   1646359058  Pacing Tips Hey y'all! I've just been backpack...\n",
       "3  backpacking   1646358302                 Fes Morocco 5 hr layover [removed]\n",
       "4  backpacking   1646356995  Hi all, I have a favor to ask. I designed a mo..."
      ]
     },
     "execution_count": 6,
     "metadata": {},
     "output_type": "execute_result"
    }
   ],
   "source": [
    "df['title_merge'] = df['title'] + ' ' + df['selftext']\n",
    "df.drop(columns=['title','selftext'], inplace=True)\n",
    "df.head()"
   ]
  },
  {
   "cell_type": "markdown",
   "id": "075ab811-e2ae-42cb-b4e3-8511f2d044b9",
   "metadata": {},
   "source": [
    "## Feature Engineering & Sentiment Scores"
   ]
  },
  {
   "cell_type": "code",
   "execution_count": 7,
   "id": "41631e65-1401-4921-ace9-3adcfc666dd1",
   "metadata": {},
   "outputs": [],
   "source": [
    "# Sentiment Scores\n",
    "sia = SentimentIntensityAnalyzer()\n",
    "\n",
    "df['title_sentiment'] = df['title_merge'].apply(sia.polarity_scores)\n",
    "df['title_sentiment_neg'] = df['title_sentiment'].map(lambda x: x['neg'])\n",
    "df['title_sentiment_neu'] = df['title_sentiment'].map(lambda x: x['neu'])\n",
    "df['title_sentiment_pos'] = df['title_sentiment'].map(lambda x: x['pos'])\n",
    "df['title_sentiment_compound'] = df['title_sentiment'].map(lambda x: x['compound'])"
   ]
  },
  {
   "cell_type": "code",
   "execution_count": 8,
   "id": "14f79e2a-f4cd-4228-88ac-896b2b064d73",
   "metadata": {},
   "outputs": [],
   "source": [
    "# Counting Capitals in string\n",
    "def count_capitals(row):\n",
    "    count = 0 \n",
    "    for i in row:\n",
    "        if i.isupper():\n",
    "            count += 1\n",
    "    return count"
   ]
  },
  {
   "cell_type": "code",
   "execution_count": 9,
   "id": "e5cd267e-5926-4ab4-be3a-22d5648cd63d",
   "metadata": {},
   "outputs": [],
   "source": [
    "# Counting sentences in a string\n",
    "def words_in_sentence(row):\n",
    "    return len((re.split(r'[.!?]+', row))) - 1"
   ]
  },
  {
   "cell_type": "code",
   "execution_count": 10,
   "id": "4c2518c7-3c4e-4f53-acee-e9d3333381f5",
   "metadata": {},
   "outputs": [
    {
     "data": {
      "text/html": [
       "<div>\n",
       "<style scoped>\n",
       "    .dataframe tbody tr th:only-of-type {\n",
       "        vertical-align: middle;\n",
       "    }\n",
       "\n",
       "    .dataframe tbody tr th {\n",
       "        vertical-align: top;\n",
       "    }\n",
       "\n",
       "    .dataframe thead th {\n",
       "        text-align: right;\n",
       "    }\n",
       "</style>\n",
       "<table border=\"1\" class=\"dataframe\">\n",
       "  <thead>\n",
       "    <tr style=\"text-align: right;\">\n",
       "      <th></th>\n",
       "      <th>subreddit</th>\n",
       "      <th>created_utc</th>\n",
       "      <th>title_merge</th>\n",
       "      <th>title_sentiment</th>\n",
       "      <th>title_sentiment_neg</th>\n",
       "      <th>title_sentiment_neu</th>\n",
       "      <th>title_sentiment_pos</th>\n",
       "      <th>title_sentiment_compound</th>\n",
       "      <th>title_length</th>\n",
       "      <th>title_word_count</th>\n",
       "      <th>capitalized_letters_in_title</th>\n",
       "      <th>sentences_in_title</th>\n",
       "    </tr>\n",
       "  </thead>\n",
       "  <tbody>\n",
       "    <tr>\n",
       "      <th>0</th>\n",
       "      <td>backpacking</td>\n",
       "      <td>1646363240</td>\n",
       "      <td>We’d comfort in the back country? Check these ...</td>\n",
       "      <td>{'neg': 0.0, 'neu': 0.741, 'pos': 0.259, 'comp...</td>\n",
       "      <td>0.000</td>\n",
       "      <td>0.741</td>\n",
       "      <td>0.259</td>\n",
       "      <td>0.4199</td>\n",
       "      <td>51</td>\n",
       "      <td>10</td>\n",
       "      <td>2</td>\n",
       "      <td>2</td>\n",
       "    </tr>\n",
       "    <tr>\n",
       "      <th>1</th>\n",
       "      <td>backpacking</td>\n",
       "      <td>1646363128</td>\n",
       "      <td>Finding water on the trail Yo waddup every1, I...</td>\n",
       "      <td>{'neg': 0.0, 'neu': 1.0, 'pos': 0.0, 'compound...</td>\n",
       "      <td>0.000</td>\n",
       "      <td>1.000</td>\n",
       "      <td>0.000</td>\n",
       "      <td>0.0000</td>\n",
       "      <td>255</td>\n",
       "      <td>49</td>\n",
       "      <td>15</td>\n",
       "      <td>2</td>\n",
       "    </tr>\n",
       "    <tr>\n",
       "      <th>2</th>\n",
       "      <td>backpacking</td>\n",
       "      <td>1646359058</td>\n",
       "      <td>Pacing Tips Hey y'all! I've just been backpack...</td>\n",
       "      <td>{'neg': 0.104, 'neu': 0.859, 'pos': 0.037, 'co...</td>\n",
       "      <td>0.104</td>\n",
       "      <td>0.859</td>\n",
       "      <td>0.037</td>\n",
       "      <td>-0.7808</td>\n",
       "      <td>550</td>\n",
       "      <td>95</td>\n",
       "      <td>14</td>\n",
       "      <td>6</td>\n",
       "    </tr>\n",
       "    <tr>\n",
       "      <th>3</th>\n",
       "      <td>backpacking</td>\n",
       "      <td>1646358302</td>\n",
       "      <td>Fes Morocco 5 hr layover [removed]</td>\n",
       "      <td>{'neg': 0.0, 'neu': 1.0, 'pos': 0.0, 'compound...</td>\n",
       "      <td>0.000</td>\n",
       "      <td>1.000</td>\n",
       "      <td>0.000</td>\n",
       "      <td>0.0000</td>\n",
       "      <td>34</td>\n",
       "      <td>6</td>\n",
       "      <td>2</td>\n",
       "      <td>0</td>\n",
       "    </tr>\n",
       "    <tr>\n",
       "      <th>4</th>\n",
       "      <td>backpacking</td>\n",
       "      <td>1646356995</td>\n",
       "      <td>Hi all, I have a favor to ask. I designed a mo...</td>\n",
       "      <td>{'neg': 0.0, 'neu': 0.628, 'pos': 0.372, 'comp...</td>\n",
       "      <td>0.000</td>\n",
       "      <td>0.628</td>\n",
       "      <td>0.372</td>\n",
       "      <td>0.9413</td>\n",
       "      <td>268</td>\n",
       "      <td>44</td>\n",
       "      <td>12</td>\n",
       "      <td>4</td>\n",
       "    </tr>\n",
       "  </tbody>\n",
       "</table>\n",
       "</div>"
      ],
      "text/plain": [
       "     subreddit  created_utc  \\\n",
       "0  backpacking   1646363240   \n",
       "1  backpacking   1646363128   \n",
       "2  backpacking   1646359058   \n",
       "3  backpacking   1646358302   \n",
       "4  backpacking   1646356995   \n",
       "\n",
       "                                         title_merge  \\\n",
       "0  We’d comfort in the back country? Check these ...   \n",
       "1  Finding water on the trail Yo waddup every1, I...   \n",
       "2  Pacing Tips Hey y'all! I've just been backpack...   \n",
       "3                 Fes Morocco 5 hr layover [removed]   \n",
       "4  Hi all, I have a favor to ask. I designed a mo...   \n",
       "\n",
       "                                     title_sentiment  title_sentiment_neg  \\\n",
       "0  {'neg': 0.0, 'neu': 0.741, 'pos': 0.259, 'comp...                0.000   \n",
       "1  {'neg': 0.0, 'neu': 1.0, 'pos': 0.0, 'compound...                0.000   \n",
       "2  {'neg': 0.104, 'neu': 0.859, 'pos': 0.037, 'co...                0.104   \n",
       "3  {'neg': 0.0, 'neu': 1.0, 'pos': 0.0, 'compound...                0.000   \n",
       "4  {'neg': 0.0, 'neu': 0.628, 'pos': 0.372, 'comp...                0.000   \n",
       "\n",
       "   title_sentiment_neu  title_sentiment_pos  title_sentiment_compound  \\\n",
       "0                0.741                0.259                    0.4199   \n",
       "1                1.000                0.000                    0.0000   \n",
       "2                0.859                0.037                   -0.7808   \n",
       "3                1.000                0.000                    0.0000   \n",
       "4                0.628                0.372                    0.9413   \n",
       "\n",
       "   title_length  title_word_count  capitalized_letters_in_title  \\\n",
       "0            51                10                             2   \n",
       "1           255                49                            15   \n",
       "2           550                95                            14   \n",
       "3            34                 6                             2   \n",
       "4           268                44                            12   \n",
       "\n",
       "   sentences_in_title  \n",
       "0                   2  \n",
       "1                   2  \n",
       "2                   6  \n",
       "3                   0  \n",
       "4                   4  "
      ]
     },
     "execution_count": 10,
     "metadata": {},
     "output_type": "execute_result"
    }
   ],
   "source": [
    "# Feature Engineering based on Title characteristics\n",
    "\n",
    "df['title_length'] = df['title_merge'].str.len()\n",
    "df['title_word_count'] = [len(title.split(' ')) for title in df['title_merge']]\n",
    "df['capitalized_letters_in_title'] = df['title_merge'].map(count_capitals)\n",
    "df['sentences_in_title'] = df['title_merge'].map(words_in_sentence)\n",
    "df.head()"
   ]
  },
  {
   "cell_type": "code",
   "execution_count": 11,
   "id": "ca4249f6-93fe-4c0b-b6aa-233fabfedf4a",
   "metadata": {},
   "outputs": [
    {
     "data": {
      "text/html": [
       "<div>\n",
       "<style scoped>\n",
       "    .dataframe tbody tr th:only-of-type {\n",
       "        vertical-align: middle;\n",
       "    }\n",
       "\n",
       "    .dataframe tbody tr th {\n",
       "        vertical-align: top;\n",
       "    }\n",
       "\n",
       "    .dataframe thead th {\n",
       "        text-align: right;\n",
       "    }\n",
       "</style>\n",
       "<table border=\"1\" class=\"dataframe\">\n",
       "  <thead>\n",
       "    <tr style=\"text-align: right;\">\n",
       "      <th></th>\n",
       "      <th>subreddit</th>\n",
       "      <th>created_utc</th>\n",
       "      <th>title_merge</th>\n",
       "      <th>title_sentiment_neg</th>\n",
       "      <th>title_sentiment_neu</th>\n",
       "      <th>title_sentiment_pos</th>\n",
       "      <th>title_sentiment_compound</th>\n",
       "      <th>title_length</th>\n",
       "      <th>title_word_count</th>\n",
       "      <th>capitalized_letters_in_title</th>\n",
       "      <th>sentences_in_title</th>\n",
       "    </tr>\n",
       "  </thead>\n",
       "  <tbody>\n",
       "    <tr>\n",
       "      <th>0</th>\n",
       "      <td>backpacking</td>\n",
       "      <td>1646363240</td>\n",
       "      <td>We’d comfort in the back country? Check these ...</td>\n",
       "      <td>0.000</td>\n",
       "      <td>0.741</td>\n",
       "      <td>0.259</td>\n",
       "      <td>0.4199</td>\n",
       "      <td>51</td>\n",
       "      <td>10</td>\n",
       "      <td>2</td>\n",
       "      <td>2</td>\n",
       "    </tr>\n",
       "    <tr>\n",
       "      <th>1</th>\n",
       "      <td>backpacking</td>\n",
       "      <td>1646363128</td>\n",
       "      <td>Finding water on the trail Yo waddup every1, I...</td>\n",
       "      <td>0.000</td>\n",
       "      <td>1.000</td>\n",
       "      <td>0.000</td>\n",
       "      <td>0.0000</td>\n",
       "      <td>255</td>\n",
       "      <td>49</td>\n",
       "      <td>15</td>\n",
       "      <td>2</td>\n",
       "    </tr>\n",
       "    <tr>\n",
       "      <th>2</th>\n",
       "      <td>backpacking</td>\n",
       "      <td>1646359058</td>\n",
       "      <td>Pacing Tips Hey y'all! I've just been backpack...</td>\n",
       "      <td>0.104</td>\n",
       "      <td>0.859</td>\n",
       "      <td>0.037</td>\n",
       "      <td>-0.7808</td>\n",
       "      <td>550</td>\n",
       "      <td>95</td>\n",
       "      <td>14</td>\n",
       "      <td>6</td>\n",
       "    </tr>\n",
       "    <tr>\n",
       "      <th>3</th>\n",
       "      <td>backpacking</td>\n",
       "      <td>1646358302</td>\n",
       "      <td>Fes Morocco 5 hr layover [removed]</td>\n",
       "      <td>0.000</td>\n",
       "      <td>1.000</td>\n",
       "      <td>0.000</td>\n",
       "      <td>0.0000</td>\n",
       "      <td>34</td>\n",
       "      <td>6</td>\n",
       "      <td>2</td>\n",
       "      <td>0</td>\n",
       "    </tr>\n",
       "    <tr>\n",
       "      <th>4</th>\n",
       "      <td>backpacking</td>\n",
       "      <td>1646356995</td>\n",
       "      <td>Hi all, I have a favor to ask. I designed a mo...</td>\n",
       "      <td>0.000</td>\n",
       "      <td>0.628</td>\n",
       "      <td>0.372</td>\n",
       "      <td>0.9413</td>\n",
       "      <td>268</td>\n",
       "      <td>44</td>\n",
       "      <td>12</td>\n",
       "      <td>4</td>\n",
       "    </tr>\n",
       "  </tbody>\n",
       "</table>\n",
       "</div>"
      ],
      "text/plain": [
       "     subreddit  created_utc  \\\n",
       "0  backpacking   1646363240   \n",
       "1  backpacking   1646363128   \n",
       "2  backpacking   1646359058   \n",
       "3  backpacking   1646358302   \n",
       "4  backpacking   1646356995   \n",
       "\n",
       "                                         title_merge  title_sentiment_neg  \\\n",
       "0  We’d comfort in the back country? Check these ...                0.000   \n",
       "1  Finding water on the trail Yo waddup every1, I...                0.000   \n",
       "2  Pacing Tips Hey y'all! I've just been backpack...                0.104   \n",
       "3                 Fes Morocco 5 hr layover [removed]                0.000   \n",
       "4  Hi all, I have a favor to ask. I designed a mo...                0.000   \n",
       "\n",
       "   title_sentiment_neu  title_sentiment_pos  title_sentiment_compound  \\\n",
       "0                0.741                0.259                    0.4199   \n",
       "1                1.000                0.000                    0.0000   \n",
       "2                0.859                0.037                   -0.7808   \n",
       "3                1.000                0.000                    0.0000   \n",
       "4                0.628                0.372                    0.9413   \n",
       "\n",
       "   title_length  title_word_count  capitalized_letters_in_title  \\\n",
       "0            51                10                             2   \n",
       "1           255                49                            15   \n",
       "2           550                95                            14   \n",
       "3            34                 6                             2   \n",
       "4           268                44                            12   \n",
       "\n",
       "   sentences_in_title  \n",
       "0                   2  \n",
       "1                   2  \n",
       "2                   6  \n",
       "3                   0  \n",
       "4                   4  "
      ]
     },
     "execution_count": 11,
     "metadata": {},
     "output_type": "execute_result"
    }
   ],
   "source": [
    "# Drop title_sentiment column because it's a dictionary and I have the columns on their own \n",
    "df.drop(columns='title_sentiment', inplace=True)\n",
    "df.head()"
   ]
  },
  {
   "cell_type": "markdown",
   "id": "3b97a0ba-7ab0-4bb1-b853-956eb8614996",
   "metadata": {},
   "source": [
    "#### Exporting data with Title and Selftext merged to `engineered_data` folder"
   ]
  },
  {
   "cell_type": "code",
   "execution_count": 13,
   "id": "8f53b4ff-6947-48d4-830a-dff750a87a5a",
   "metadata": {},
   "outputs": [],
   "source": [
    "# Write engineered data to CSV to be used in modeling\n",
    "df.to_csv('../engineered_data/engineered_data_merged_columns.csv', index=False)"
   ]
  },
  {
   "cell_type": "markdown",
   "id": "b49cd1e4-de8c-4ae8-b184-c91907a16b98",
   "metadata": {},
   "source": [
    "### Splitting Dataframe into Two Dataframes: Backpacking & Ultrarunning"
   ]
  },
  {
   "cell_type": "code",
   "execution_count": 14,
   "id": "dc0b6f0f-1505-4117-a4d1-9766173f017b",
   "metadata": {},
   "outputs": [
    {
     "data": {
      "text/html": [
       "<div>\n",
       "<style scoped>\n",
       "    .dataframe tbody tr th:only-of-type {\n",
       "        vertical-align: middle;\n",
       "    }\n",
       "\n",
       "    .dataframe tbody tr th {\n",
       "        vertical-align: top;\n",
       "    }\n",
       "\n",
       "    .dataframe thead th {\n",
       "        text-align: right;\n",
       "    }\n",
       "</style>\n",
       "<table border=\"1\" class=\"dataframe\">\n",
       "  <thead>\n",
       "    <tr style=\"text-align: right;\">\n",
       "      <th></th>\n",
       "      <th>subreddit</th>\n",
       "      <th>created_utc</th>\n",
       "      <th>title_merge</th>\n",
       "      <th>title_sentiment_neg</th>\n",
       "      <th>title_sentiment_neu</th>\n",
       "      <th>title_sentiment_pos</th>\n",
       "      <th>title_sentiment_compound</th>\n",
       "      <th>title_length</th>\n",
       "      <th>title_word_count</th>\n",
       "      <th>capitalized_letters_in_title</th>\n",
       "      <th>sentences_in_title</th>\n",
       "    </tr>\n",
       "  </thead>\n",
       "  <tbody>\n",
       "    <tr>\n",
       "      <th>0</th>\n",
       "      <td>backpacking</td>\n",
       "      <td>1646363240</td>\n",
       "      <td>We’d comfort in the back country? Check these ...</td>\n",
       "      <td>0.000</td>\n",
       "      <td>0.741</td>\n",
       "      <td>0.259</td>\n",
       "      <td>0.4199</td>\n",
       "      <td>51</td>\n",
       "      <td>10</td>\n",
       "      <td>2</td>\n",
       "      <td>2</td>\n",
       "    </tr>\n",
       "    <tr>\n",
       "      <th>1</th>\n",
       "      <td>backpacking</td>\n",
       "      <td>1646363128</td>\n",
       "      <td>Finding water on the trail Yo waddup every1, I...</td>\n",
       "      <td>0.000</td>\n",
       "      <td>1.000</td>\n",
       "      <td>0.000</td>\n",
       "      <td>0.0000</td>\n",
       "      <td>255</td>\n",
       "      <td>49</td>\n",
       "      <td>15</td>\n",
       "      <td>2</td>\n",
       "    </tr>\n",
       "    <tr>\n",
       "      <th>2</th>\n",
       "      <td>backpacking</td>\n",
       "      <td>1646359058</td>\n",
       "      <td>Pacing Tips Hey y'all! I've just been backpack...</td>\n",
       "      <td>0.104</td>\n",
       "      <td>0.859</td>\n",
       "      <td>0.037</td>\n",
       "      <td>-0.7808</td>\n",
       "      <td>550</td>\n",
       "      <td>95</td>\n",
       "      <td>14</td>\n",
       "      <td>6</td>\n",
       "    </tr>\n",
       "    <tr>\n",
       "      <th>3</th>\n",
       "      <td>backpacking</td>\n",
       "      <td>1646358302</td>\n",
       "      <td>Fes Morocco 5 hr layover [removed]</td>\n",
       "      <td>0.000</td>\n",
       "      <td>1.000</td>\n",
       "      <td>0.000</td>\n",
       "      <td>0.0000</td>\n",
       "      <td>34</td>\n",
       "      <td>6</td>\n",
       "      <td>2</td>\n",
       "      <td>0</td>\n",
       "    </tr>\n",
       "    <tr>\n",
       "      <th>4</th>\n",
       "      <td>backpacking</td>\n",
       "      <td>1646356995</td>\n",
       "      <td>Hi all, I have a favor to ask. I designed a mo...</td>\n",
       "      <td>0.000</td>\n",
       "      <td>0.628</td>\n",
       "      <td>0.372</td>\n",
       "      <td>0.9413</td>\n",
       "      <td>268</td>\n",
       "      <td>44</td>\n",
       "      <td>12</td>\n",
       "      <td>4</td>\n",
       "    </tr>\n",
       "  </tbody>\n",
       "</table>\n",
       "</div>"
      ],
      "text/plain": [
       "     subreddit  created_utc  \\\n",
       "0  backpacking   1646363240   \n",
       "1  backpacking   1646363128   \n",
       "2  backpacking   1646359058   \n",
       "3  backpacking   1646358302   \n",
       "4  backpacking   1646356995   \n",
       "\n",
       "                                         title_merge  title_sentiment_neg  \\\n",
       "0  We’d comfort in the back country? Check these ...                0.000   \n",
       "1  Finding water on the trail Yo waddup every1, I...                0.000   \n",
       "2  Pacing Tips Hey y'all! I've just been backpack...                0.104   \n",
       "3                 Fes Morocco 5 hr layover [removed]                0.000   \n",
       "4  Hi all, I have a favor to ask. I designed a mo...                0.000   \n",
       "\n",
       "   title_sentiment_neu  title_sentiment_pos  title_sentiment_compound  \\\n",
       "0                0.741                0.259                    0.4199   \n",
       "1                1.000                0.000                    0.0000   \n",
       "2                0.859                0.037                   -0.7808   \n",
       "3                1.000                0.000                    0.0000   \n",
       "4                0.628                0.372                    0.9413   \n",
       "\n",
       "   title_length  title_word_count  capitalized_letters_in_title  \\\n",
       "0            51                10                             2   \n",
       "1           255                49                            15   \n",
       "2           550                95                            14   \n",
       "3            34                 6                             2   \n",
       "4           268                44                            12   \n",
       "\n",
       "   sentences_in_title  \n",
       "0                   2  \n",
       "1                   2  \n",
       "2                   6  \n",
       "3                   0  \n",
       "4                   4  "
      ]
     },
     "execution_count": 14,
     "metadata": {},
     "output_type": "execute_result"
    }
   ],
   "source": [
    "df_backpacking = df[df['subreddit'] == 'backpacking']\n",
    "df_backpacking.head()"
   ]
  },
  {
   "cell_type": "code",
   "execution_count": 15,
   "id": "6fe30963-d597-4eca-8952-d0af69fde297",
   "metadata": {},
   "outputs": [
    {
     "data": {
      "text/html": [
       "<div>\n",
       "<style scoped>\n",
       "    .dataframe tbody tr th:only-of-type {\n",
       "        vertical-align: middle;\n",
       "    }\n",
       "\n",
       "    .dataframe tbody tr th {\n",
       "        vertical-align: top;\n",
       "    }\n",
       "\n",
       "    .dataframe thead th {\n",
       "        text-align: right;\n",
       "    }\n",
       "</style>\n",
       "<table border=\"1\" class=\"dataframe\">\n",
       "  <thead>\n",
       "    <tr style=\"text-align: right;\">\n",
       "      <th></th>\n",
       "      <th>subreddit</th>\n",
       "      <th>created_utc</th>\n",
       "      <th>title_merge</th>\n",
       "      <th>title_sentiment_neg</th>\n",
       "      <th>title_sentiment_neu</th>\n",
       "      <th>title_sentiment_pos</th>\n",
       "      <th>title_sentiment_compound</th>\n",
       "      <th>title_length</th>\n",
       "      <th>title_word_count</th>\n",
       "      <th>capitalized_letters_in_title</th>\n",
       "      <th>sentences_in_title</th>\n",
       "    </tr>\n",
       "  </thead>\n",
       "  <tbody>\n",
       "    <tr>\n",
       "      <th>1999</th>\n",
       "      <td>ultrarunning</td>\n",
       "      <td>1646336942</td>\n",
       "      <td>Narrow Feet Trail Shoe Recs Hi Y'all, \\n\\nJust...</td>\n",
       "      <td>0.046</td>\n",
       "      <td>0.769</td>\n",
       "      <td>0.185</td>\n",
       "      <td>0.9934</td>\n",
       "      <td>1610</td>\n",
       "      <td>304</td>\n",
       "      <td>48</td>\n",
       "      <td>10</td>\n",
       "    </tr>\n",
       "    <tr>\n",
       "      <th>2000</th>\n",
       "      <td>ultrarunning</td>\n",
       "      <td>1646321962</td>\n",
       "      <td>Shoe sizing I typically wear a 12.5, does any ...</td>\n",
       "      <td>0.000</td>\n",
       "      <td>0.910</td>\n",
       "      <td>0.090</td>\n",
       "      <td>0.4515</td>\n",
       "      <td>201</td>\n",
       "      <td>34</td>\n",
       "      <td>6</td>\n",
       "      <td>5</td>\n",
       "    </tr>\n",
       "    <tr>\n",
       "      <th>2001</th>\n",
       "      <td>ultrarunning</td>\n",
       "      <td>1646270995</td>\n",
       "      <td>Advice: Sledge/pulk design for a winter ultram...</td>\n",
       "      <td>0.016</td>\n",
       "      <td>0.898</td>\n",
       "      <td>0.086</td>\n",
       "      <td>0.9939</td>\n",
       "      <td>3667</td>\n",
       "      <td>612</td>\n",
       "      <td>59</td>\n",
       "      <td>31</td>\n",
       "    </tr>\n",
       "    <tr>\n",
       "      <th>2002</th>\n",
       "      <td>ultrarunning</td>\n",
       "      <td>1646253091</td>\n",
       "      <td>venting - dumb clinics I put a hard stop on my...</td>\n",
       "      <td>0.092</td>\n",
       "      <td>0.872</td>\n",
       "      <td>0.037</td>\n",
       "      <td>-0.7269</td>\n",
       "      <td>584</td>\n",
       "      <td>119</td>\n",
       "      <td>12</td>\n",
       "      <td>7</td>\n",
       "    </tr>\n",
       "    <tr>\n",
       "      <th>2003</th>\n",
       "      <td>ultrarunning</td>\n",
       "      <td>1646191139</td>\n",
       "      <td>Phantom Stress Pains Hey everyone - I had a st...</td>\n",
       "      <td>0.123</td>\n",
       "      <td>0.789</td>\n",
       "      <td>0.088</td>\n",
       "      <td>-0.3679</td>\n",
       "      <td>1125</td>\n",
       "      <td>209</td>\n",
       "      <td>24</td>\n",
       "      <td>17</td>\n",
       "    </tr>\n",
       "  </tbody>\n",
       "</table>\n",
       "</div>"
      ],
      "text/plain": [
       "         subreddit  created_utc  \\\n",
       "1999  ultrarunning   1646336942   \n",
       "2000  ultrarunning   1646321962   \n",
       "2001  ultrarunning   1646270995   \n",
       "2002  ultrarunning   1646253091   \n",
       "2003  ultrarunning   1646191139   \n",
       "\n",
       "                                            title_merge  title_sentiment_neg  \\\n",
       "1999  Narrow Feet Trail Shoe Recs Hi Y'all, \\n\\nJust...                0.046   \n",
       "2000  Shoe sizing I typically wear a 12.5, does any ...                0.000   \n",
       "2001  Advice: Sledge/pulk design for a winter ultram...                0.016   \n",
       "2002  venting - dumb clinics I put a hard stop on my...                0.092   \n",
       "2003  Phantom Stress Pains Hey everyone - I had a st...                0.123   \n",
       "\n",
       "      title_sentiment_neu  title_sentiment_pos  title_sentiment_compound  \\\n",
       "1999                0.769                0.185                    0.9934   \n",
       "2000                0.910                0.090                    0.4515   \n",
       "2001                0.898                0.086                    0.9939   \n",
       "2002                0.872                0.037                   -0.7269   \n",
       "2003                0.789                0.088                   -0.3679   \n",
       "\n",
       "      title_length  title_word_count  capitalized_letters_in_title  \\\n",
       "1999          1610               304                            48   \n",
       "2000           201                34                             6   \n",
       "2001          3667               612                            59   \n",
       "2002           584               119                            12   \n",
       "2003          1125               209                            24   \n",
       "\n",
       "      sentences_in_title  \n",
       "1999                  10  \n",
       "2000                   5  \n",
       "2001                  31  \n",
       "2002                   7  \n",
       "2003                  17  "
      ]
     },
     "execution_count": 15,
     "metadata": {},
     "output_type": "execute_result"
    }
   ],
   "source": [
    "df_ultrarunning = df[df['subreddit'] == 'ultrarunning']\n",
    "df_ultrarunning.head()"
   ]
  },
  {
   "cell_type": "markdown",
   "id": "95d478f7-045b-4178-92ab-67250f5f299e",
   "metadata": {},
   "source": [
    "### EDA on Newly Engineered Dataframe (prior to CountVectorize)"
   ]
  },
  {
   "cell_type": "code",
   "execution_count": null,
   "id": "44bd81f7-1a46-41bf-b16b-7491c0e276ba",
   "metadata": {},
   "outputs": [
    {
     "data": {
      "text/html": [
       "<div>\n",
       "<style scoped>\n",
       "    .dataframe tbody tr th:only-of-type {\n",
       "        vertical-align: middle;\n",
       "    }\n",
       "\n",
       "    .dataframe tbody tr th {\n",
       "        vertical-align: top;\n",
       "    }\n",
       "\n",
       "    .dataframe thead th {\n",
       "        text-align: right;\n",
       "    }\n",
       "</style>\n",
       "<table border=\"1\" class=\"dataframe\">\n",
       "  <thead>\n",
       "    <tr style=\"text-align: right;\">\n",
       "      <th></th>\n",
       "      <th>subreddit</th>\n",
       "      <th>created_utc</th>\n",
       "      <th>title_merge</th>\n",
       "      <th>title_sentiment_neg</th>\n",
       "      <th>title_sentiment_neu</th>\n",
       "      <th>title_sentiment_pos</th>\n",
       "      <th>title_sentiment_compound</th>\n",
       "      <th>title_length</th>\n",
       "      <th>title_word_count</th>\n",
       "      <th>capitalized_letters_in_title</th>\n",
       "      <th>sentences_in_title</th>\n",
       "    </tr>\n",
       "  </thead>\n",
       "  <tbody>\n",
       "    <tr>\n",
       "      <th>0</th>\n",
       "      <td>backpacking</td>\n",
       "      <td>1646363240</td>\n",
       "      <td>We’d comfort in the back country? Check these ...</td>\n",
       "      <td>0.000</td>\n",
       "      <td>0.741</td>\n",
       "      <td>0.259</td>\n",
       "      <td>0.4199</td>\n",
       "      <td>51</td>\n",
       "      <td>10</td>\n",
       "      <td>2</td>\n",
       "      <td>2</td>\n",
       "    </tr>\n",
       "    <tr>\n",
       "      <th>1</th>\n",
       "      <td>backpacking</td>\n",
       "      <td>1646363128</td>\n",
       "      <td>Finding water on the trail Yo waddup every1, I...</td>\n",
       "      <td>0.000</td>\n",
       "      <td>1.000</td>\n",
       "      <td>0.000</td>\n",
       "      <td>0.0000</td>\n",
       "      <td>255</td>\n",
       "      <td>49</td>\n",
       "      <td>15</td>\n",
       "      <td>2</td>\n",
       "    </tr>\n",
       "    <tr>\n",
       "      <th>2</th>\n",
       "      <td>backpacking</td>\n",
       "      <td>1646359058</td>\n",
       "      <td>Pacing Tips Hey y'all! I've just been backpack...</td>\n",
       "      <td>0.104</td>\n",
       "      <td>0.859</td>\n",
       "      <td>0.037</td>\n",
       "      <td>-0.7808</td>\n",
       "      <td>550</td>\n",
       "      <td>95</td>\n",
       "      <td>14</td>\n",
       "      <td>6</td>\n",
       "    </tr>\n",
       "    <tr>\n",
       "      <th>3</th>\n",
       "      <td>backpacking</td>\n",
       "      <td>1646358302</td>\n",
       "      <td>Fes Morocco 5 hr layover [removed]</td>\n",
       "      <td>0.000</td>\n",
       "      <td>1.000</td>\n",
       "      <td>0.000</td>\n",
       "      <td>0.0000</td>\n",
       "      <td>34</td>\n",
       "      <td>6</td>\n",
       "      <td>2</td>\n",
       "      <td>0</td>\n",
       "    </tr>\n",
       "    <tr>\n",
       "      <th>4</th>\n",
       "      <td>backpacking</td>\n",
       "      <td>1646356995</td>\n",
       "      <td>Hi all, I have a favor to ask. I designed a mo...</td>\n",
       "      <td>0.000</td>\n",
       "      <td>0.628</td>\n",
       "      <td>0.372</td>\n",
       "      <td>0.9413</td>\n",
       "      <td>268</td>\n",
       "      <td>44</td>\n",
       "      <td>12</td>\n",
       "      <td>4</td>\n",
       "    </tr>\n",
       "  </tbody>\n",
       "</table>\n",
       "</div>"
      ],
      "text/plain": [
       "     subreddit  created_utc  \\\n",
       "0  backpacking   1646363240   \n",
       "1  backpacking   1646363128   \n",
       "2  backpacking   1646359058   \n",
       "3  backpacking   1646358302   \n",
       "4  backpacking   1646356995   \n",
       "\n",
       "                                         title_merge  title_sentiment_neg  \\\n",
       "0  We’d comfort in the back country? Check these ...                0.000   \n",
       "1  Finding water on the trail Yo waddup every1, I...                0.000   \n",
       "2  Pacing Tips Hey y'all! I've just been backpack...                0.104   \n",
       "3                 Fes Morocco 5 hr layover [removed]                0.000   \n",
       "4  Hi all, I have a favor to ask. I designed a mo...                0.000   \n",
       "\n",
       "   title_sentiment_neu  title_sentiment_pos  title_sentiment_compound  \\\n",
       "0                0.741                0.259                    0.4199   \n",
       "1                1.000                0.000                    0.0000   \n",
       "2                0.859                0.037                   -0.7808   \n",
       "3                1.000                0.000                    0.0000   \n",
       "4                0.628                0.372                    0.9413   \n",
       "\n",
       "   title_length  title_word_count  capitalized_letters_in_title  \\\n",
       "0            51                10                             2   \n",
       "1           255                49                            15   \n",
       "2           550                95                            14   \n",
       "3            34                 6                             2   \n",
       "4           268                44                            12   \n",
       "\n",
       "   sentences_in_title  \n",
       "0                   2  \n",
       "1                   2  \n",
       "2                   6  \n",
       "3                   0  \n",
       "4                   4  "
      ]
     },
     "execution_count": 16,
     "metadata": {},
     "output_type": "execute_result"
    }
   ],
   "source": [
    "df.head()"
   ]
  },
  {
   "cell_type": "code",
   "execution_count": 17,
   "id": "a3557686-843f-4b2a-b098-faf4e396f1fb",
   "metadata": {},
   "outputs": [
    {
     "data": {
      "image/png": "[encoded data removed]",
      "text/plain": [
       "<Figure size 864x432 with 1 Axes>"
      ]
     },
     "metadata": {
      "needs_background": "light"
     },
     "output_type": "display_data"
    }
   ],
   "source": [
    "df.groupby('subreddit').sum()['title_word_count'].sort_values(ascending=True).plot.barh(figsize=(12,6), color = '#097a80');"
   ]
  },
  {
   "cell_type": "code",
   "execution_count": 18,
   "id": "2ab8a032-e7d9-442d-86df-b8f157df058f",
   "metadata": {},
   "outputs": [
    {
     "data": {
      "image/png": "[encoded data removed]",
      "text/plain": [
       "<Figure size 864x432 with 1 Axes>"
      ]
     },
     "metadata": {
      "needs_background": "light"
     },
     "output_type": "display_data"
    }
   ],
   "source": [
    "df.groupby(['subreddit']).sum()[['title_length','title_word_count']].plot.barh(cmap='coolwarm', figsize=(12,6));"
   ]
  },
  {
   "cell_type": "code",
   "execution_count": 19,
   "id": "073a57d7-45c7-4155-b4cd-de4996511166",
   "metadata": {},
   "outputs": [
    {
     "data": {
      "image/png": "[encoded data removed]",
      "text/plain": [
       "<Figure size 864x432 with 2 Axes>"
      ]
     },
     "metadata": {
      "needs_background": "light"
     },
     "output_type": "display_data"
    }
   ],
   "source": [
    "df[['title_length', 'title_word_count']].hist(figsize=(12,6), color = '#097a80');"
   ]
  },
  {
   "cell_type": "code",
   "execution_count": 20,
   "id": "c3cfb397-b30b-452c-8ca7-d71525f53646",
   "metadata": {},
   "outputs": [
    {
     "data": {
      "image/png": "[encoded data removed]",
      "text/plain": [
       "<Figure size 998.875x900 with 20 Axes>"
      ]
     },
     "metadata": {
      "needs_background": "light"
     },
     "output_type": "display_data"
    }
   ],
   "source": [
    "sns.pairplot(df, x_vars=['title_sentiment_compound','title_length', 'title_word_count',\n",
    "                         'capitalized_letters_in_title', 'sentences_in_title'],\n",
    "                 y_vars=['title_sentiment_compound','title_length', 'title_word_count',\n",
    "                         'capitalized_letters_in_title', 'sentences_in_title'],\n",
    "                         hue='subreddit',\n",
    "                         corner=True);"
   ]
  },
  {
   "cell_type": "markdown",
   "id": "4e588a70-c7b5-478a-abd2-bae95b915cdc",
   "metadata": {},
   "source": [
    "### Set up for CountVectorizer"
   ]
  },
  {
   "cell_type": "code",
   "execution_count": 21,
   "id": "0a979e87-7928-4ab0-80dc-866a597924e0",
   "metadata": {},
   "outputs": [],
   "source": [
    "# Set up for CountVectorizer\n",
    "\n",
    "X = df['title_merge']\n",
    "y = df['subreddit']"
   ]
  },
  {
   "cell_type": "code",
   "execution_count": 23,
   "id": "dd79df2a-dbc3-44fe-b743-8935775b88a2",
   "metadata": {},
   "outputs": [],
   "source": [
    "# Train/Test/Split\n",
    "\n",
    "X_train, X_test, y_train, y_test = train_test_split(X, y, random_state=42)"
   ]
  },
  {
   "cell_type": "code",
   "execution_count": 25,
   "id": "6314651d-3fbe-428f-9f12-eb117e0d1291",
   "metadata": {},
   "outputs": [],
   "source": [
    "# Instantiate a CountVectorizer with the default hyperparameters and stop_words\n",
    "cvec = CountVectorizer(stop_words='english')"
   ]
  },
  {
   "cell_type": "code",
   "execution_count": 26,
   "id": "d1aa59ba-d5d0-41fc-ac3a-28f7cfe85e36",
   "metadata": {},
   "outputs": [
    {
     "data": {
      "text/plain": [
       "CountVectorizer(stop_words='english')"
      ]
     },
     "execution_count": 26,
     "metadata": {},
     "output_type": "execute_result"
    }
   ],
   "source": [
    "# Fit the vectorizer on my corpus\n",
    "cvec.fit(X_train)"
   ]
  },
  {
   "cell_type": "code",
   "execution_count": 27,
   "id": "0f0d286d-9e99-412a-aa79-0a9baa5bee4d",
   "metadata": {},
   "outputs": [],
   "source": [
    "# Transform the corpus\n",
    "X_train = cvec.transform(X_train)\n",
    "\n",
    "# Transform test\n",
    "X_test = cvec.transform(X_test)"
   ]
  },
  {
   "cell_type": "code",
   "execution_count": 28,
   "id": "a4b62636-ad57-459e-b189-7937441b2a3d",
   "metadata": {},
   "outputs": [
    {
     "data": {
      "text/plain": [
       "['657m',\n",
       " '65k',\n",
       " '65km',\n",
       " '65l',\n",
       " '65miles',\n",
       " '65mpw',\n",
       " '663',\n",
       " '664',\n",
       " '66b143494b45d7067e4f6a6a9e8a7e46596b3abd',\n",
       " '66k']"
      ]
     },
     "execution_count": 28,
     "metadata": {},
     "output_type": "execute_result"
    }
   ],
   "source": [
    "# View some of the feature_names\n",
    "\n",
    "cvec.get_feature_names()[1000:1010]"
   ]
  },
  {
   "cell_type": "code",
   "execution_count": 29,
   "id": "7180b232-5376-4991-909a-faab280ab7ec",
   "metadata": {},
   "outputs": [],
   "source": [
    "X_train_df = pd.DataFrame(X_train.todense(),\n",
    "                         columns=cvec.get_feature_names())"
   ]
  },
  {
   "cell_type": "markdown",
   "id": "74115650-af87-4855-b2f1-93c32acdc754",
   "metadata": {},
   "source": [
    "## EDA on CountVectorized Title"
   ]
  },
  {
   "cell_type": "code",
   "execution_count": 30,
   "id": "ce73e5ee-360a-4167-b6ca-d52a74f55096",
   "metadata": {},
   "outputs": [
    {
     "data": {
      "image/png": "[encoded data removed]",
      "text/plain": [
       "<Figure size 864x432 with 1 Axes>"
      ]
     },
     "metadata": {
      "needs_background": "light"
     },
     "output_type": "display_data"
    }
   ],
   "source": [
    "# Top 20 occurring words in either subreddits - using both Title & Selftext columns merged. \n",
    "X_train_df.sum(numeric_only=True).sort_values(ascending=True).tail(10).plot.barh(figsize=(12,6), color = '#097a80')\n",
    "plt.xlabel('Frequency', fontdict= {'fontsize':14})\n",
    "plt.ylabel('Common Words', fontdict= {'fontsize':14})\n",
    "plt.title('Top 10 Words in Either Subreddit', fontdict = {'fontsize':16})\n",
    "plt.savefig(\"../graphics/Top_10_words_either_subreddit_title_and_selftext.jpg\", bbox_inches=\"tight\", dpi=100); #save as jpg"
   ]
  },
  {
   "cell_type": "markdown",
   "id": "0f3677f6-e55b-44e4-a73e-591a4a0c3131",
   "metadata": {},
   "source": [
    "### Sentiment Distribution\n",
    "Since I performed Sentiment Analysis by Subreddit, I wanted to see how they compared to each other. It looks like the Ultrarunning subreddit is a bit more positive than Backpacking... which is largely neutral"
   ]
  },
  {
   "cell_type": "code",
   "execution_count": 31,
   "id": "40e7808b-782e-4ac9-8a15-9a4ed3126da5",
   "metadata": {},
   "outputs": [
    {
     "data": {
      "image/png": "[encoded data removed]",
      "text/plain": [
       "<Figure size 864x432 with 1 Axes>"
      ]
     },
     "metadata": {
      "needs_background": "light"
     },
     "output_type": "display_data"
    }
   ],
   "source": [
    "plt.figure(figsize=(12,6))\n",
    "plt.hist(df_backpacking['title_sentiment_compound'], color ='#097a80', label='Backpacking', alpha = 0.8, bins=25)\n",
    "plt.hist(df_ultrarunning['title_sentiment_compound'], color = '#80097a', label='Ultrarunning', alpha = 0.5, bins=25)\n",
    "plt.xlabel('Sentiment Score', fontdict= {'fontsize':14})\n",
    "plt.ylabel('Frequency', fontdict= {'fontsize':14})\n",
    "plt.title('Distribution of Sentiment Analysis by Subreddit', fontdict = {'fontsize':16})\n",
    "plt.legend()\n",
    "plt.tight_layout()\n",
    "plt.savefig(\"../graphics/sentinment_distribution.jpg\", bbox_inches=\"tight\", dpi=100); #save as jpg;"
   ]
  }
 ],
 "metadata": {
  "kernelspec": {
   "display_name": "Python 3 (ipykernel)",
   "language": "python",
   "name": "python3"
  },
  "language_info": {
   "codemirror_mode": {
    "name": "ipython",
    "version": 3
   },
   "file_extension": ".py",
   "mimetype": "text/x-python",
   "name": "python",
   "nbconvert_exporter": "python",
   "pygments_lexer": "ipython3",
   "version": "3.9.7"
  }
 },
 "nbformat": 4,
 "nbformat_minor": 5
}
